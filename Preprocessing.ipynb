{
 "cells": [
  {
   "cell_type": "code",
   "execution_count": 1,
   "metadata": {},
   "outputs": [],
   "source": [
    "import pandas as pd\n",
    "import numpy as np\n",
    "import matplotlib.pyplot as plt\n",
    "import seaborn as sns\n",
    "import re\n",
    "plt.style.use('seaborn-v0_8')"
   ]
  },
  {
   "cell_type": "code",
   "execution_count": 2,
   "metadata": {},
   "outputs": [
    {
     "name": "stderr",
     "output_type": "stream",
     "text": [
      "C:\\Users\\Abdul\\AppData\\Local\\Temp\\ipykernel_12424\\4268846382.py:1: DtypeWarning: Columns (11,12,13,14) have mixed types. Specify dtype option on import or set low_memory=False.\n",
      "  train = pd.read_csv(r'C:\\Users\\Abdul\\Workspace\\IEEE_Victoris2_competition\\data_joined\\train_joined.csv')\n"
     ]
    }
   ],
   "source": [
    "train = pd.read_csv(r'C:\\Users\\Abdul\\Workspace\\IEEE_Victoris2_competition\\data_joined\\train_joined.csv')\n",
    "test = pd.read_csv(r'C:\\Users\\Abdul\\Workspace\\IEEE_Victoris2_competition\\data_joined\\test_joined.csv')"
   ]
  },
  {
   "cell_type": "markdown",
   "metadata": {},
   "source": [
    "#### The training data"
   ]
  },
  {
   "cell_type": "code",
   "execution_count": 3,
   "metadata": {},
   "outputs": [
    {
     "data": {
      "text/html": [
       "<div>\n",
       "<style scoped>\n",
       "    .dataframe tbody tr th:only-of-type {\n",
       "        vertical-align: middle;\n",
       "    }\n",
       "\n",
       "    .dataframe tbody tr th {\n",
       "        vertical-align: top;\n",
       "    }\n",
       "\n",
       "    .dataframe thead th {\n",
       "        text-align: right;\n",
       "    }\n",
       "</style>\n",
       "<table border=\"1\" class=\"dataframe\">\n",
       "  <thead>\n",
       "    <tr style=\"text-align: right;\">\n",
       "      <th></th>\n",
       "      <th>unnamed:_0</th>\n",
       "      <th>person_description</th>\n",
       "      <th>place_code</th>\n",
       "      <th>customer_order</th>\n",
       "      <th>additional_features_in_market</th>\n",
       "      <th>promotion_name</th>\n",
       "      <th>store_kind</th>\n",
       "      <th>store_sales</th>\n",
       "      <th>store_cost</th>\n",
       "      <th>is_recyclable?</th>\n",
       "      <th>yearly_income</th>\n",
       "      <th>store_area</th>\n",
       "      <th>grocery_area</th>\n",
       "      <th>frozen_area</th>\n",
       "      <th>meat_area</th>\n",
       "      <th>cost</th>\n",
       "      <th>gross_weight</th>\n",
       "      <th>net_weight</th>\n",
       "      <th>package_weight</th>\n",
       "    </tr>\n",
       "  </thead>\n",
       "  <tbody>\n",
       "    <tr>\n",
       "      <th>0</th>\n",
       "      <td>mc_ID_0</td>\n",
       "      <td>Single Female with four children, education: b...</td>\n",
       "      <td>H11go_ZA</td>\n",
       "      <td>Cleaning Supplies from Household department, O...</td>\n",
       "      <td>['Video Store', 'Florist', 'Ready Food', 'Coff...</td>\n",
       "      <td>Dimes Off</td>\n",
       "      <td>Deluxe</td>\n",
       "      <td>8.76 Millions</td>\n",
       "      <td>4.2924 Millions</td>\n",
       "      <td>recyclable</td>\n",
       "      <td>10K+</td>\n",
       "      <td>2842.23</td>\n",
       "      <td>2037.64</td>\n",
       "      <td>481.98</td>\n",
       "      <td>323</td>\n",
       "      <td>602.7575</td>\n",
       "      <td>28.1997</td>\n",
       "      <td>26.6008</td>\n",
       "      <td>1.5990</td>\n",
       "    </tr>\n",
       "    <tr>\n",
       "      <th>1</th>\n",
       "      <td>mc_ID_1</td>\n",
       "      <td>Single Female with three children, education: ...</td>\n",
       "      <td>S04ne_WA</td>\n",
       "      <td>Snack Foods from Snack Foods department, Order...</td>\n",
       "      <td>NaN</td>\n",
       "      <td>Budget Bargains</td>\n",
       "      <td>Supermarket</td>\n",
       "      <td>6.36 Millions</td>\n",
       "      <td>1.9716 Millions</td>\n",
       "      <td>non recyclable</td>\n",
       "      <td>50K+</td>\n",
       "      <td>2814.95</td>\n",
       "      <td>2049.72</td>\n",
       "      <td>457.36</td>\n",
       "      <td>NaN</td>\n",
       "      <td>708.6650</td>\n",
       "      <td>16.5710</td>\n",
       "      <td>14.9720</td>\n",
       "      <td>1.5990</td>\n",
       "    </tr>\n",
       "    <tr>\n",
       "      <th>2</th>\n",
       "      <td>mc_ID_2</td>\n",
       "      <td>Married Male with two children, education: hig...</td>\n",
       "      <td>L05es_CA</td>\n",
       "      <td>Magazines from Periodicals department, Ordered...</td>\n",
       "      <td>['Florist']</td>\n",
       "      <td>Shelf Emptiers</td>\n",
       "      <td>Supermarket</td>\n",
       "      <td>10.86 Millions</td>\n",
       "      <td>4.4526 Millions</td>\n",
       "      <td>recyclable</td>\n",
       "      <td>30K+</td>\n",
       "      <td>2192.32</td>\n",
       "      <td>1322.21</td>\n",
       "      <td>523.32</td>\n",
       "      <td>348.85</td>\n",
       "      <td>564.2647</td>\n",
       "      <td>28.6358</td>\n",
       "      <td>27.1822</td>\n",
       "      <td>1.4536</td>\n",
       "    </tr>\n",
       "    <tr>\n",
       "      <th>3</th>\n",
       "      <td>mc_ID_3</td>\n",
       "      <td>Single Female with three children, education: ...</td>\n",
       "      <td>S03le_WA</td>\n",
       "      <td>Dairy from Dairy department, Ordered Brand : C...</td>\n",
       "      <td>['Coffee Bar']</td>\n",
       "      <td>Savings Galore</td>\n",
       "      <td>NaN</td>\n",
       "      <td>1.98 Millions</td>\n",
       "      <td>0.6732 Millions</td>\n",
       "      <td>recyclable</td>\n",
       "      <td>30K+</td>\n",
       "      <td>1974.73</td>\n",
       "      <td>NaN</td>\n",
       "      <td>440.92</td>\n",
       "      <td>293.95</td>\n",
       "      <td>724.5119</td>\n",
       "      <td>14.2161</td>\n",
       "      <td>11.2944</td>\n",
       "      <td>2.9217</td>\n",
       "    </tr>\n",
       "    <tr>\n",
       "      <th>4</th>\n",
       "      <td>mc_ID_4</td>\n",
       "      <td>Married Female with five children, education: ...</td>\n",
       "      <td>M10da_YU</td>\n",
       "      <td>Vegetables from Produce department, Ordered Br...</td>\n",
       "      <td>['Bar For Salad', 'Ready Food', 'Coffee Bar', ...</td>\n",
       "      <td>Sale Winners</td>\n",
       "      <td>Deluxe</td>\n",
       "      <td>11.56 Millions</td>\n",
       "      <td>4.9708 Millions</td>\n",
       "      <td>non recyclable</td>\n",
       "      <td>50K+</td>\n",
       "      <td>2862.3</td>\n",
       "      <td>1872.19</td>\n",
       "      <td>593.93</td>\n",
       "      <td>395.95</td>\n",
       "      <td>519.7574</td>\n",
       "      <td>12.6172</td>\n",
       "      <td>9.7100</td>\n",
       "      <td>2.9072</td>\n",
       "    </tr>\n",
       "  </tbody>\n",
       "</table>\n",
       "</div>"
      ],
      "text/plain": [
       "  unnamed:_0                                 person_description place_code  \\\n",
       "0    mc_ID_0  Single Female with four children, education: b...   H11go_ZA   \n",
       "1    mc_ID_1  Single Female with three children, education: ...   S04ne_WA   \n",
       "2    mc_ID_2  Married Male with two children, education: hig...   L05es_CA   \n",
       "3    mc_ID_3  Single Female with three children, education: ...   S03le_WA   \n",
       "4    mc_ID_4  Married Female with five children, education: ...   M10da_YU   \n",
       "\n",
       "                                      customer_order  \\\n",
       "0  Cleaning Supplies from Household department, O...   \n",
       "1  Snack Foods from Snack Foods department, Order...   \n",
       "2  Magazines from Periodicals department, Ordered...   \n",
       "3  Dairy from Dairy department, Ordered Brand : C...   \n",
       "4  Vegetables from Produce department, Ordered Br...   \n",
       "\n",
       "                       additional_features_in_market   promotion_name  \\\n",
       "0  ['Video Store', 'Florist', 'Ready Food', 'Coff...        Dimes Off   \n",
       "1                                                NaN  Budget Bargains   \n",
       "2                                        ['Florist']   Shelf Emptiers   \n",
       "3                                     ['Coffee Bar']   Savings Galore   \n",
       "4  ['Bar For Salad', 'Ready Food', 'Coffee Bar', ...     Sale Winners   \n",
       "\n",
       "    store_kind     store_sales       store_cost  is_recyclable? yearly_income  \\\n",
       "0       Deluxe   8.76 Millions  4.2924 Millions      recyclable          10K+   \n",
       "1  Supermarket   6.36 Millions  1.9716 Millions  non recyclable          50K+   \n",
       "2  Supermarket  10.86 Millions  4.4526 Millions      recyclable          30K+   \n",
       "3          NaN   1.98 Millions  0.6732 Millions      recyclable          30K+   \n",
       "4       Deluxe  11.56 Millions  4.9708 Millions  non recyclable          50K+   \n",
       "\n",
       "  store_area grocery_area frozen_area meat_area      cost  gross_weight  \\\n",
       "0    2842.23      2037.64      481.98       323  602.7575       28.1997   \n",
       "1    2814.95      2049.72      457.36       NaN  708.6650       16.5710   \n",
       "2    2192.32      1322.21      523.32    348.85  564.2647       28.6358   \n",
       "3    1974.73          NaN      440.92    293.95  724.5119       14.2161   \n",
       "4     2862.3      1872.19      593.93    395.95  519.7574       12.6172   \n",
       "\n",
       "   net_weight  package_weight  \n",
       "0     26.6008          1.5990  \n",
       "1     14.9720          1.5990  \n",
       "2     27.1822          1.4536  \n",
       "3     11.2944          2.9217  \n",
       "4      9.7100          2.9072  "
      ]
     },
     "execution_count": 3,
     "metadata": {},
     "output_type": "execute_result"
    }
   ],
   "source": [
    "train.head(5)"
   ]
  },
  {
   "cell_type": "code",
   "execution_count": 4,
   "metadata": {},
   "outputs": [
    {
     "name": "stdout",
     "output_type": "stream",
     "text": [
      "<class 'pandas.core.frame.DataFrame'>\n",
      "RangeIndex: 38862 entries, 0 to 38861\n",
      "Data columns (total 19 columns):\n",
      " #   Column                         Non-Null Count  Dtype  \n",
      "---  ------                         --------------  -----  \n",
      " 0   unnamed:_0                     38862 non-null  object \n",
      " 1   person_description             38862 non-null  object \n",
      " 2   place_code                     38862 non-null  object \n",
      " 3   customer_order                 38860 non-null  object \n",
      " 4   additional_features_in_market  34562 non-null  object \n",
      " 5   promotion_name                 33034 non-null  object \n",
      " 6   store_kind                     33053 non-null  object \n",
      " 7   store_sales                    38847 non-null  object \n",
      " 8   store_cost                     38855 non-null  object \n",
      " 9   is_recyclable?                 38860 non-null  object \n",
      " 10  yearly_income                  38854 non-null  object \n",
      " 11  store_area                     35297 non-null  object \n",
      " 12  grocery_area                   35256 non-null  object \n",
      " 13  frozen_area                    35310 non-null  object \n",
      " 14  meat_area                      35313 non-null  object \n",
      " 15  cost                           38831 non-null  float64\n",
      " 16  gross_weight                   35945 non-null  float64\n",
      " 17  net_weight                     35969 non-null  float64\n",
      " 18  package_weight                 33496 non-null  float64\n",
      "dtypes: float64(4), object(15)\n",
      "memory usage: 5.6+ MB\n"
     ]
    }
   ],
   "source": [
    "train.info()"
   ]
  },
  {
   "cell_type": "markdown",
   "metadata": {},
   "source": [
    "The training data consists of 38862 rows and 19 columns. The columns are as follows:\n",
    "- Unnamed : id\n",
    "- Person Description : Description of the person visiting the market\n",
    "- Place Code : Code for each place which consists of 2 city codes parts separated by \"_\"\n",
    "- Customer Order : Order of each customer in the market\n",
    "- Additional Features in market : A list of features that are found in the market\n",
    "- Promotion Name : Made by the market on media\n",
    "- Store Kind : A genre for the store\n",
    "- Store Cost : Cost of the Store\n",
    "- Store Sales : Sales of the Store\n",
    "- Gross Weight : Bought item weight\n",
    "- Net Weight : Bought item weight without the package\n",
    "- Package Weight : Weight of the Package\n",
    "- Is Recyclable? : If the item is Recyclable or no\n",
    "- Yearly Income : min. Income for the consumer per year\n",
    "- Store Area : Area of the store\n",
    "- Grocery Area : Area of grocery department in the store\n",
    "- Frozen Area : Area of frozen food department in the store\n",
    "- Meat Area : Area of Meat department in the store\n",
    "- Cost : The target variable"
   ]
  },
  {
   "cell_type": "markdown",
   "metadata": {},
   "source": [
    "Let's first drop the Unnamed column as it is not needed."
   ]
  },
  {
   "cell_type": "code",
   "execution_count": 5,
   "metadata": {},
   "outputs": [],
   "source": [
    "train.drop(['unnamed:_0'], axis=1, inplace=True)"
   ]
  },
  {
   "cell_type": "markdown",
   "metadata": {},
   "source": [
    "Let's now drop the duplicate rows."
   ]
  },
  {
   "cell_type": "code",
   "execution_count": 6,
   "metadata": {},
   "outputs": [
    {
     "data": {
      "text/plain": [
       "8"
      ]
     },
     "execution_count": 6,
     "metadata": {},
     "output_type": "execute_result"
    }
   ],
   "source": [
    "train.duplicated().sum()"
   ]
  },
  {
   "cell_type": "code",
   "execution_count": 7,
   "metadata": {},
   "outputs": [],
   "source": [
    "train.drop_duplicates(inplace=True, ignore_index=True)"
   ]
  },
  {
   "cell_type": "code",
   "execution_count": 8,
   "metadata": {},
   "outputs": [
    {
     "data": {
      "text/plain": [
       "(38854, 18)"
      ]
     },
     "execution_count": 8,
     "metadata": {},
     "output_type": "execute_result"
    }
   ],
   "source": [
    "train.shape"
   ]
  },
  {
   "cell_type": "markdown",
   "metadata": {},
   "source": [
    "Now let's check for null values."
   ]
  },
  {
   "cell_type": "code",
   "execution_count": 9,
   "metadata": {},
   "outputs": [
    {
     "data": {
      "text/plain": [
       "person_description                  0\n",
       "place_code                          0\n",
       "customer_order                      2\n",
       "additional_features_in_market    4297\n",
       "promotion_name                   5828\n",
       "store_kind                       5808\n",
       "store_sales                        15\n",
       "store_cost                          7\n",
       "is_recyclable?                      2\n",
       "yearly_income                       8\n",
       "store_area                       3564\n",
       "grocery_area                     3605\n",
       "frozen_area                      3551\n",
       "meat_area                        3547\n",
       "cost                               31\n",
       "gross_weight                     2917\n",
       "net_weight                       2893\n",
       "package_weight                   5366\n",
       "dtype: int64"
      ]
     },
     "execution_count": 9,
     "metadata": {},
     "output_type": "execute_result"
    }
   ],
   "source": [
    "train.isnull().sum()"
   ]
  },
  {
   "cell_type": "markdown",
   "metadata": {},
   "source": [
    "Let's see the percentage of null values in each column. "
   ]
  },
  {
   "cell_type": "code",
   "execution_count": 10,
   "metadata": {},
   "outputs": [
    {
     "data": {
      "text/plain": [
       "person_description                0.000000\n",
       "place_code                        0.000000\n",
       "customer_order                    0.005147\n",
       "additional_features_in_market    11.059350\n",
       "promotion_name                   14.999743\n",
       "store_kind                       14.948268\n",
       "store_sales                       0.038606\n",
       "store_cost                        0.018016\n",
       "is_recyclable?                    0.005147\n",
       "yearly_income                     0.020590\n",
       "store_area                        9.172801\n",
       "grocery_area                      9.278324\n",
       "frozen_area                       9.139342\n",
       "meat_area                         9.129047\n",
       "cost                              0.079786\n",
       "gross_weight                      7.507593\n",
       "net_weight                        7.445823\n",
       "package_weight                   13.810676\n",
       "dtype: float64"
      ]
     },
     "execution_count": 10,
     "metadata": {},
     "output_type": "execute_result"
    }
   ],
   "source": [
    "train.isnull().sum() / train.shape[0] * 100 "
   ]
  },
  {
   "cell_type": "markdown",
   "metadata": {},
   "source": [
    "There are some null values in most of the columns but there percentages are not that high so we'll deal with them later."
   ]
  },
  {
   "cell_type": "markdown",
   "metadata": {},
   "source": [
    "### Cleaning the train data"
   ]
  },
  {
   "cell_type": "markdown",
   "metadata": {},
   "source": [
    "Let's start by cleaning the Person Description column."
   ]
  },
  {
   "cell_type": "markdown",
   "metadata": {},
   "source": [
    "#### Person Description column"
   ]
  },
  {
   "cell_type": "code",
   "execution_count": 11,
   "metadata": {},
   "outputs": [
    {
     "data": {
      "text/plain": [
       "person_description\n",
       "Single Male with one child, education: bachelors degree working as professional                533\n",
       "Married Female with four children, education: bachelors degree working as professional         506\n",
       "Married Female with four children, education: partial high school working as skilled manual    484\n",
       "Married Male with three children, education: bachelors degree working as professional          478\n",
       "Single Female with one child, education: bachelors degree working as professional              410\n",
       "                                                                                              ... \n",
       "Single Male with five children, education: partial college working as management                 2\n",
       "Married Female with No children, education: high school degree working as management             2\n",
       "Single Female with five children, education: partial college working as clerical                 2\n",
       "Single Male with one child, education: partial high school working as management                 1\n",
       "Single Female with five children, education: partial college working as skilled manual           1\n",
       "Name: count, Length: 395, dtype: int64"
      ]
     },
     "execution_count": 11,
     "metadata": {},
     "output_type": "execute_result"
    }
   ],
   "source": [
    "train['person_description'].value_counts()"
   ]
  },
  {
   "cell_type": "code",
   "execution_count": 12,
   "metadata": {},
   "outputs": [
    {
     "data": {
      "text/plain": [
       "395"
      ]
     },
     "execution_count": 12,
     "metadata": {},
     "output_type": "execute_result"
    }
   ],
   "source": [
    "train['person_description'].nunique()"
   ]
  },
  {
   "cell_type": "markdown",
   "metadata": {},
   "source": [
    "As we can see, in order to work with this column we will have to split it into more columns like :\n",
    "- Marital status : single or married \n",
    "- Gender : male or female\n",
    "- Number of children \n",
    "- Proffission : The proffission of the person"
   ]
  },
  {
   "cell_type": "code",
   "execution_count": 13,
   "metadata": {},
   "outputs": [],
   "source": [
    "train['person_description'] = train['person_description'].str.split(' ')"
   ]
  },
  {
   "cell_type": "code",
   "execution_count": 14,
   "metadata": {},
   "outputs": [
    {
     "data": {
      "text/plain": [
       "['Married',\n",
       " 'Male',\n",
       " 'with',\n",
       " 'three',\n",
       " 'children,',\n",
       " 'education:',\n",
       " 'partial',\n",
       " 'high',\n",
       " 'school',\n",
       " 'working',\n",
       " 'as',\n",
       " 'manual']"
      ]
     },
     "execution_count": 14,
     "metadata": {},
     "output_type": "execute_result"
    }
   ],
   "source": [
    "train['person_description'][442]"
   ]
  },
  {
   "cell_type": "code",
   "execution_count": 15,
   "metadata": {},
   "outputs": [],
   "source": [
    "train['marital_status'] = train['person_description'].apply(lambda x: x[0])\n",
    "train['gender'] = train['person_description'].apply(lambda x: x[1])\n",
    "train['number_of_children'] = train['person_description'].apply(lambda x: x[3])\n",
    "train['profession'] = train['person_description'].apply(lambda x: x[-1]) "
   ]
  },
  {
   "cell_type": "code",
   "execution_count": 16,
   "metadata": {},
   "outputs": [],
   "source": [
    "train['marital_status'] = train['marital_status'].apply(lambda x: 1 if x == 'Married' else 0)\n",
    "train['gender'] = train['gender'].apply(lambda x: 1 if x == 'Male' else 0)"
   ]
  },
  {
   "cell_type": "code",
   "execution_count": 17,
   "metadata": {},
   "outputs": [],
   "source": [
    "train.drop('person_description', axis=1, inplace=True)  "
   ]
  },
  {
   "cell_type": "markdown",
   "metadata": {},
   "source": [
    "#### Place Code column"
   ]
  },
  {
   "cell_type": "code",
   "execution_count": 18,
   "metadata": {},
   "outputs": [
    {
     "data": {
      "text/plain": [
       "place_code\n",
       "T02ma_WA    3657\n",
       "S01em_OR    3537\n",
       "P07nd_OR    3282\n",
       "S03le_WA    3244\n",
       "H11go_ZA    3033\n",
       "M10da_YU    2924\n",
       "S04ne_WA    2877\n",
       "B06ls_CA    2693\n",
       "L05es_CA    2587\n",
       "B14on_WA    2200\n",
       "V13er_BC    2175\n",
       "O09ba_VE    1660\n",
       "C15ho_ZA    1497\n",
       "A17co_GU     999\n",
       "M12ty_DF     881\n",
       "S18co_CA     497\n",
       "B08am_WA     473\n",
       "V19ia_BC     355\n",
       "G16ra_JA     283\n",
       "Name: count, dtype: int64"
      ]
     },
     "execution_count": 18,
     "metadata": {},
     "output_type": "execute_result"
    }
   ],
   "source": [
    "train['place_code'].value_counts()"
   ]
  },
  {
   "cell_type": "markdown",
   "metadata": {},
   "source": [
    "From looking at the value vounts we can see that :\n",
    "- the first part of the value is different for each value.\n",
    "- the second part of the value is common for some values.\n",
    "  \n",
    "So we can split the column into two columns and drop the original column."
   ]
  },
  {
   "cell_type": "code",
   "execution_count": 19,
   "metadata": {},
   "outputs": [],
   "source": [
    "train[['place_id', 'place_name']] = train['place_code'].str.split('_', expand=True)"
   ]
  },
  {
   "cell_type": "code",
   "execution_count": 20,
   "metadata": {},
   "outputs": [
    {
     "data": {
      "text/plain": [
       "place_name\n",
       "WA    12451\n",
       "OR     6819\n",
       "CA     5777\n",
       "ZA     4530\n",
       "YU     2924\n",
       "BC     2530\n",
       "VE     1660\n",
       "GU      999\n",
       "DF      881\n",
       "JA      283\n",
       "Name: count, dtype: int64"
      ]
     },
     "execution_count": 20,
     "metadata": {},
     "output_type": "execute_result"
    }
   ],
   "source": [
    "train['place_name'].value_counts()"
   ]
  },
  {
   "cell_type": "markdown",
   "metadata": {},
   "source": [
    "The plce id column dosn't seem to be useful so we can drop it."
   ]
  },
  {
   "cell_type": "code",
   "execution_count": 21,
   "metadata": {},
   "outputs": [],
   "source": [
    "train.drop('place_code', axis=1, inplace=True)\n",
    "train.drop('place_id', axis=1, inplace=True)"
   ]
  },
  {
   "cell_type": "markdown",
   "metadata": {},
   "source": [
    "#### Customer Order column"
   ]
  },
  {
   "cell_type": "code",
   "execution_count": 22,
   "metadata": {},
   "outputs": [
    {
     "data": {
      "text/plain": [
       "customer_order\n",
       "Snack Foods from Snack Foods department, Ordered Brand : Horatio          952\n",
       "Snack Foods from Snack Foods department, Ordered Brand : Nationeel        921\n",
       "Snack Foods from Snack Foods department, Ordered Brand : Fast             896\n",
       "Snack Foods from Snack Foods department, Ordered Brand : Fort West        886\n",
       "Snack Foods from Snack Foods department, Ordered Brand : Best Choice      815\n",
       "                                                                         ... \n",
       "Canned Sardines from Canned Foods department, Ordered Brand : Pleasant     18\n",
       "Canned Clams from Canned Foods department, Ordered Brand : Blue Label      17\n",
       "Canned Shrimp from Canned Foods department, Ordered Brand : Just Right     15\n",
       "Packaged Vegetables from Produce department, Ordered Brand : Ebony         14\n",
       "Packaged Vegetables from Produce department, Ordered Brand : High Top      13\n",
       "Name: count, Length: 271, dtype: int64"
      ]
     },
     "execution_count": 22,
     "metadata": {},
     "output_type": "execute_result"
    }
   ],
   "source": [
    "train['customer_order'].value_counts()"
   ]
  },
  {
   "cell_type": "code",
   "execution_count": 23,
   "metadata": {},
   "outputs": [],
   "source": [
    "train[['department','brand']] = train['customer_order'].str.split(',', expand=True)"
   ]
  },
  {
   "cell_type": "code",
   "execution_count": 24,
   "metadata": {},
   "outputs": [],
   "source": [
    "train[['x','department']] = train['department'].str.split('from', expand=True)"
   ]
  },
  {
   "cell_type": "code",
   "execution_count": 25,
   "metadata": {},
   "outputs": [],
   "source": [
    "train['department'] = train['department'].str.strip(' ')"
   ]
  },
  {
   "cell_type": "code",
   "execution_count": 26,
   "metadata": {},
   "outputs": [
    {
     "data": {
      "text/plain": [
       "department\n",
       "Produce department                5573\n",
       "Snack Foods department            4470\n",
       "Household department              4022\n",
       "Frozen Foods department           3927\n",
       "Baking Goods department           2878\n",
       "Canned Foods department           2721\n",
       "Dairy department                  2434\n",
       "Health and Hygiene department     2410\n",
       "Beverages department              1916\n",
       "Deli department                   1806\n",
       "Baked Goods department            1143\n",
       "Alcoholic Beverages department    1016\n",
       "Snacks department                 1008\n",
       "Starchy Foods department           681\n",
       "Eggs department                    615\n",
       "Periodicals department             611\n",
       "Breakfast Foods department         494\n",
       "Canned Products department         260\n",
       "Checkout department                246\n",
       "Seafood department                 241\n",
       "Meat department                    240\n",
       "Carousel department                140\n",
       "Name: count, dtype: int64"
      ]
     },
     "execution_count": 26,
     "metadata": {},
     "output_type": "execute_result"
    }
   ],
   "source": [
    "train['department'].value_counts()"
   ]
  },
  {
   "cell_type": "code",
   "execution_count": 27,
   "metadata": {},
   "outputs": [],
   "source": [
    "train.drop(columns=['customer_order', 'x','brand'], axis=1, inplace=True)"
   ]
  },
  {
   "cell_type": "markdown",
   "metadata": {},
   "source": [
    "#### Additional Features in market column\n"
   ]
  },
  {
   "cell_type": "code",
   "execution_count": 28,
   "metadata": {},
   "outputs": [
    {
     "data": {
      "text/plain": [
       "additional_features_in_market\n",
       "['Coffee Bar']                                                             4497\n",
       "[]                                                                         4291\n",
       "['Florist']                                                                2587\n",
       "['Ready Food', 'Bar For Salad']                                            1992\n",
       "['Bar For Salad', 'Ready Food']                                            1868\n",
       "                                                                           ... \n",
       "['Florist', 'Bar For Salad', 'Ready Food', 'Video Store', 'Coffee Bar']      93\n",
       "['Ready Food', 'Coffee Bar', 'Bar For Salad', 'Florist', 'Video Store']      93\n",
       "['Bar For Salad', 'Video Store', 'Coffee Bar', 'Ready Food', 'Florist']      92\n",
       "['Florist', 'Ready Food', 'Bar For Salad', 'Coffee Bar', 'Video Store']      89\n",
       "['Ready Food', 'Video Store', 'Bar For Salad', 'Florist', 'Coffee Bar']      86\n",
       "Name: count, Length: 151, dtype: int64"
      ]
     },
     "execution_count": 28,
     "metadata": {},
     "output_type": "execute_result"
    }
   ],
   "source": [
    "train['additional_features_in_market'].value_counts()"
   ]
  },
  {
   "cell_type": "code",
   "execution_count": 29,
   "metadata": {},
   "outputs": [],
   "source": [
    "train['additional_features_in_market'] = train['additional_features_in_market'].str.replace('[', '')\n",
    "train['additional_features_in_market'] = train['additional_features_in_market'].str.replace(']', '')\n",
    "train['additional_features_in_market'] = train['additional_features_in_market'].str.replace(\",\", '')\n",
    "train['additional_features_in_market'] = train['additional_features_in_market'].str.replace(\"'\", '')"
   ]
  },
  {
   "cell_type": "code",
   "execution_count": 30,
   "metadata": {},
   "outputs": [
    {
     "data": {
      "text/plain": [
       "'Video Store Florist Ready Food Coffee Bar Bar For Salad'"
      ]
     },
     "execution_count": 30,
     "metadata": {},
     "output_type": "execute_result"
    }
   ],
   "source": [
    "train['additional_features_in_market'][0]"
   ]
  },
  {
   "cell_type": "code",
   "execution_count": 31,
   "metadata": {},
   "outputs": [],
   "source": [
    "train['additional_features_in_market'] = train['additional_features_in_market'].astype(str)\n",
    "train['additional_features_in_market'] = train['additional_features_in_market'].str.lower()"
   ]
  },
  {
   "cell_type": "code",
   "execution_count": 32,
   "metadata": {},
   "outputs": [],
   "source": [
    "train['florist_feature'] = train['additional_features_in_market'].str.contains('florist').astype(int)\n",
    "train['video_store_feature'] = train['additional_features_in_market'].str.contains('video store').astype(int)\n",
    "train['coffee_bar_feature'] = train['additional_features_in_market'].str.contains('coffee bar').astype(int)     \n",
    "train['bar_for_salad_feature'] = train['additional_features_in_market'].str.contains('bar for salad').astype(int)\n",
    "train['ready_food_feature'] = train['additional_features_in_market'].str.contains('ready food').astype(int)"
   ]
  },
  {
   "cell_type": "code",
   "execution_count": 33,
   "metadata": {},
   "outputs": [],
   "source": [
    "train.drop('additional_features_in_market', axis=1, inplace=True)"
   ]
  },
  {
   "cell_type": "markdown",
   "metadata": {},
   "source": [
    "#### Promotion Name column"
   ]
  },
  {
   "cell_type": "code",
   "execution_count": 34,
   "metadata": {},
   "outputs": [
    {
     "data": {
      "text/plain": [
       "promotion_name\n",
       "Save Price                  1288\n",
       "Weekend Discount            1278\n",
       "Two Day Sale                1258\n",
       "Price Winners               1156\n",
       "Super Savers                1086\n",
       "Save It (Sale)              1074\n",
       "Super Duper Savers          1066\n",
       "One Day Sale                1010\n",
       "Roller Savings (High)        992\n",
       "Sale : Double Down           970\n",
       "GLD                          966\n",
       "Price Slashers               941\n",
       "Shelf Clearing Days          908\n",
       "Full Free                    892\n",
       "Lottery Cash Registerion     828\n",
       "Go For It                    812\n",
       "Two for One                  802\n",
       "Money Savers                 790\n",
       "Big Time Discounts           771\n",
       "Price Destroyers             739\n",
       "Saving Days                  721\n",
       "Budget Bargains              720\n",
       "Discount Frenzy              667\n",
       "Best Price Savers            652\n",
       "Dimes Off                    636\n",
       "Promo Big                    607\n",
       "You Save Days                605\n",
       "Savings Galore               596\n",
       "Price Cutters                588\n",
       "Sales Days                   586\n",
       "Bag Stuffer                  575\n",
       "Three for One                547\n",
       "I Cant Believe It Sale       530\n",
       "Sale Winners                 506\n",
       "Sale Sale Sale               498\n",
       "Tip Top Savings              494\n",
       "Pick Your Savings            466\n",
       "Shelf Emptiers               456\n",
       "Best Savings                 451\n",
       "Big Time Saving              408\n",
       "Wallet Savers                329\n",
       "Dollar Days                  298\n",
       "Mystery Sale                 282\n",
       "Price Smashers               252\n",
       "Green Light Special          246\n",
       "Coupon Spectacular           210\n",
       "Super Wallet Savers          201\n",
       "Double Your Savings          139\n",
       "Fantastic Discounts          133\n",
       "Name: count, dtype: int64"
      ]
     },
     "execution_count": 34,
     "metadata": {},
     "output_type": "execute_result"
    }
   ],
   "source": [
    "train['promotion_name'].value_counts()"
   ]
  },
  {
   "cell_type": "code",
   "execution_count": 35,
   "metadata": {},
   "outputs": [
    {
     "data": {
      "text/plain": [
       "49"
      ]
     },
     "execution_count": 35,
     "metadata": {},
     "output_type": "execute_result"
    }
   ],
   "source": [
    "train['promotion_name'].nunique()"
   ]
  },
  {
   "cell_type": "code",
   "execution_count": 36,
   "metadata": {},
   "outputs": [
    {
     "data": {
      "text/plain": [
       "<Axes: xlabel='promotion_name', ylabel='cost'>"
      ]
     },
     "execution_count": 36,
     "metadata": {},
     "output_type": "execute_result"
    },
    {
     "data": {
      "image/png": "[encoded data removed]",
      "text/plain": [
       "<Figure size 2000x1000 with 1 Axes>"
      ]
     },
     "metadata": {},
     "output_type": "display_data"
    }
   ],
   "source": [
    "plt.figure(figsize=(20, 10))\n",
    "plt.xticks(rotation=90)\n",
    "sns.barplot(x=train['promotion_name'], y=train['cost'])"
   ]
  },
  {
   "cell_type": "markdown",
   "metadata": {},
   "source": [
    "Looks like this column has high correlation with the target variable so we will keep it. "
   ]
  },
  {
   "cell_type": "markdown",
   "metadata": {},
   "source": [
    "#### Store Kind column"
   ]
  },
  {
   "cell_type": "code",
   "execution_count": 37,
   "metadata": {},
   "outputs": [
    {
     "data": {
      "text/plain": [
       "store_kind\n",
       "Supermarket      14310\n",
       "Deluxe           12600\n",
       "Gourmet           3554\n",
       "Mid-Size          1497\n",
       "Small Grocery     1085\n",
       "Name: count, dtype: int64"
      ]
     },
     "execution_count": 37,
     "metadata": {},
     "output_type": "execute_result"
    }
   ],
   "source": [
    "train['store_kind'].value_counts()"
   ]
  },
  {
   "cell_type": "markdown",
   "metadata": {},
   "source": [
    "#### Store sales column"
   ]
  },
  {
   "cell_type": "code",
   "execution_count": 38,
   "metadata": {},
   "outputs": [],
   "source": [
    "train['store_sales'] = train['store_sales'].str.replace('Millions', '')\n",
    "train['store_sales'] = train['store_sales'].str.replace('M', '')"
   ]
  },
  {
   "cell_type": "code",
   "execution_count": 39,
   "metadata": {},
   "outputs": [],
   "source": [
    "train['store_sales'] = train['store_sales'].str.strip(' ')"
   ]
  },
  {
   "cell_type": "code",
   "execution_count": 40,
   "metadata": {},
   "outputs": [],
   "source": [
    "train['store_sales'] = train['store_sales'].astype(float)"
   ]
  },
  {
   "cell_type": "markdown",
   "metadata": {},
   "source": [
    "#### Store cost column"
   ]
  },
  {
   "cell_type": "code",
   "execution_count": 41,
   "metadata": {},
   "outputs": [],
   "source": [
    "train['store_cost'] = train['store_cost'].str.replace('Millions', '')\n",
    "train['store_cost'] = train['store_cost'].str.replace('M', '')"
   ]
  },
  {
   "cell_type": "code",
   "execution_count": 42,
   "metadata": {},
   "outputs": [],
   "source": [
    "train['store_cost'] = train['store_cost'].str.strip(' ')"
   ]
  },
  {
   "cell_type": "code",
   "execution_count": 43,
   "metadata": {},
   "outputs": [],
   "source": [
    "train['store_cost'] = train['store_cost'].astype(float)"
   ]
  },
  {
   "cell_type": "markdown",
   "metadata": {},
   "source": [
    "#### Is Recyclable? column"
   ]
  },
  {
   "cell_type": "code",
   "execution_count": 44,
   "metadata": {},
   "outputs": [
    {
     "data": {
      "text/plain": [
       "is_recyclable?\n",
       "recyclable        10842\n",
       "yes               10781\n",
       "no                 8639\n",
       "non recyclable     8590\n",
       "Name: count, dtype: int64"
      ]
     },
     "execution_count": 44,
     "metadata": {},
     "output_type": "execute_result"
    }
   ],
   "source": [
    "train['is_recyclable?'].value_counts()"
   ]
  },
  {
   "cell_type": "code",
   "execution_count": 45,
   "metadata": {},
   "outputs": [],
   "source": [
    "train['is_recyclable?'] = train['is_recyclable?'].replace('recyclable', 1)\n",
    "train['is_recyclable?'] = train['is_recyclable?'].replace('non recyclable', 0)\n",
    "train['is_recyclable?'] = train['is_recyclable?'].replace('yes', 1)\n",
    "train['is_recyclable?'] = train['is_recyclable?'].replace('no', 0)"
   ]
  },
  {
   "cell_type": "code",
   "execution_count": 46,
   "metadata": {},
   "outputs": [
    {
     "data": {
      "text/plain": [
       "is_recyclable?\n",
       "1.0    21623\n",
       "0.0    17229\n",
       "Name: count, dtype: int64"
      ]
     },
     "execution_count": 46,
     "metadata": {},
     "output_type": "execute_result"
    }
   ],
   "source": [
    "train['is_recyclable?'].value_counts()"
   ]
  },
  {
   "cell_type": "markdown",
   "metadata": {},
   "source": [
    "#### Yearly Income column"
   ]
  },
  {
   "cell_type": "code",
   "execution_count": 47,
   "metadata": {},
   "outputs": [
    {
     "data": {
      "text/plain": [
       "yearly_income\n",
       "30K+      12466\n",
       "10K+       8371\n",
       "50K+       6748\n",
       "70K+       4824\n",
       "130K+      2170\n",
       "90K+       1783\n",
       "110K+      1684\n",
       "150K+       799\n",
       "130K+.        1\n",
       "Name: count, dtype: int64"
      ]
     },
     "execution_count": 47,
     "metadata": {},
     "output_type": "execute_result"
    }
   ],
   "source": [
    "train['yearly_income'].value_counts()"
   ]
  },
  {
   "cell_type": "code",
   "execution_count": 48,
   "metadata": {},
   "outputs": [],
   "source": [
    "train['yearly_income'] = train['yearly_income'].str.strip('.')"
   ]
  },
  {
   "cell_type": "code",
   "execution_count": 49,
   "metadata": {},
   "outputs": [
    {
     "data": {
      "text/plain": [
       "yearly_income\n",
       "30K+     12466\n",
       "10K+      8371\n",
       "50K+      6748\n",
       "70K+      4824\n",
       "130K+     2171\n",
       "90K+      1783\n",
       "110K+     1684\n",
       "150K+      799\n",
       "Name: count, dtype: int64"
      ]
     },
     "execution_count": 49,
     "metadata": {},
     "output_type": "execute_result"
    }
   ],
   "source": [
    "train['yearly_income'].value_counts()"
   ]
  },
  {
   "cell_type": "markdown",
   "metadata": {},
   "source": [
    "#### Store Area column"
   ]
  },
  {
   "cell_type": "code",
   "execution_count": 50,
   "metadata": {},
   "outputs": [
    {
     "name": "stdout",
     "output_type": "stream",
     "text": [
      "<class 'pandas.core.series.Series'>\n",
      "RangeIndex: 38854 entries, 0 to 38853\n",
      "Series name: store_area\n",
      "Non-Null Count  Dtype \n",
      "--------------  ----- \n",
      "35290 non-null  object\n",
      "dtypes: object(1)\n",
      "memory usage: 303.7+ KB\n"
     ]
    }
   ],
   "source": [
    "train['store_area'].info()"
   ]
  },
  {
   "cell_type": "code",
   "execution_count": 51,
   "metadata": {},
   "outputs": [],
   "source": [
    "train['store_area'] = pd.to_numeric(train['store_area'], errors='coerce')"
   ]
  },
  {
   "cell_type": "code",
   "execution_count": 52,
   "metadata": {},
   "outputs": [
    {
     "data": {
      "text/plain": [
       "count    35289.000000\n",
       "mean      2597.984958\n",
       "std        528.792029\n",
       "min       1882.700000\n",
       "25%       2189.410000\n",
       "50%       2572.860000\n",
       "75%       2863.830000\n",
       "max       7857.550000\n",
       "Name: store_area, dtype: float64"
      ]
     },
     "execution_count": 52,
     "metadata": {},
     "output_type": "execute_result"
    }
   ],
   "source": [
    "train['store_area'].describe()"
   ]
  },
  {
   "cell_type": "markdown",
   "metadata": {},
   "source": [
    "#### Grocery Area column"
   ]
  },
  {
   "cell_type": "code",
   "execution_count": 53,
   "metadata": {},
   "outputs": [
    {
     "name": "stdout",
     "output_type": "stream",
     "text": [
      "<class 'pandas.core.series.Series'>\n",
      "RangeIndex: 38854 entries, 0 to 38853\n",
      "Series name: grocery_area\n",
      "Non-Null Count  Dtype \n",
      "--------------  ----- \n",
      "35249 non-null  object\n",
      "dtypes: object(1)\n",
      "memory usage: 303.7+ KB\n"
     ]
    }
   ],
   "source": [
    "train['grocery_area'].info()"
   ]
  },
  {
   "cell_type": "code",
   "execution_count": 54,
   "metadata": {},
   "outputs": [],
   "source": [
    "train['grocery_area'] = pd.to_numeric(train['grocery_area'], errors='coerce')"
   ]
  },
  {
   "cell_type": "code",
   "execution_count": 55,
   "metadata": {},
   "outputs": [
    {
     "data": {
      "text/plain": [
       "count    35246.000000\n",
       "mean      1775.530909\n",
       "std        371.312101\n",
       "min       1233.080000\n",
       "25%       1507.542500\n",
       "50%       1734.500000\n",
       "75%       2052.620000\n",
       "max       8103.200000\n",
       "Name: grocery_area, dtype: float64"
      ]
     },
     "execution_count": 55,
     "metadata": {},
     "output_type": "execute_result"
    }
   ],
   "source": [
    "train['grocery_area'].describe()"
   ]
  },
  {
   "cell_type": "markdown",
   "metadata": {},
   "source": [
    "#### Frozen Area column"
   ]
  },
  {
   "cell_type": "code",
   "execution_count": 56,
   "metadata": {},
   "outputs": [
    {
     "name": "stdout",
     "output_type": "stream",
     "text": [
      "<class 'pandas.core.series.Series'>\n",
      "RangeIndex: 38854 entries, 0 to 38853\n",
      "Series name: frozen_area\n",
      "Non-Null Count  Dtype \n",
      "--------------  ----- \n",
      "35303 non-null  object\n",
      "dtypes: object(1)\n",
      "memory usage: 303.7+ KB\n"
     ]
    }
   ],
   "source": [
    "train['frozen_area'].info()"
   ]
  },
  {
   "cell_type": "code",
   "execution_count": 57,
   "metadata": {},
   "outputs": [],
   "source": [
    "train['frozen_area'] = pd.to_numeric(train['frozen_area'], errors='coerce')"
   ]
  },
  {
   "cell_type": "code",
   "execution_count": 58,
   "metadata": {},
   "outputs": [
    {
     "data": {
      "text/plain": [
       "count    35301.000000\n",
       "mean       493.535732\n",
       "std        145.971338\n",
       "min        227.800000\n",
       "25%        440.920000\n",
       "50%        470.270000\n",
       "75%        534.290000\n",
       "max       1783.640000\n",
       "Name: frozen_area, dtype: float64"
      ]
     },
     "execution_count": 58,
     "metadata": {},
     "output_type": "execute_result"
    }
   ],
   "source": [
    "train['frozen_area'].describe()"
   ]
  },
  {
   "cell_type": "markdown",
   "metadata": {},
   "source": [
    "#### Meat Area column"
   ]
  },
  {
   "cell_type": "code",
   "execution_count": 59,
   "metadata": {},
   "outputs": [
    {
     "name": "stdout",
     "output_type": "stream",
     "text": [
      "<class 'pandas.core.series.Series'>\n",
      "RangeIndex: 38854 entries, 0 to 38853\n",
      "Series name: meat_area\n",
      "Non-Null Count  Dtype \n",
      "--------------  ----- \n",
      "35307 non-null  object\n",
      "dtypes: object(1)\n",
      "memory usage: 303.7+ KB\n"
     ]
    }
   ],
   "source": [
    "train['meat_area'].info()"
   ]
  },
  {
   "cell_type": "code",
   "execution_count": 60,
   "metadata": {},
   "outputs": [],
   "source": [
    "train['meat_area'] = pd.to_numeric(train['meat_area'], errors='coerce')"
   ]
  },
  {
   "cell_type": "code",
   "execution_count": 61,
   "metadata": {},
   "outputs": [
    {
     "data": {
      "text/plain": [
       "count    35306.000000\n",
       "mean       328.939607\n",
       "std         97.118394\n",
       "min        149.900000\n",
       "25%        293.272500\n",
       "50%        313.550000\n",
       "75%        356.190000\n",
       "max        570.740000\n",
       "Name: meat_area, dtype: float64"
      ]
     },
     "execution_count": 61,
     "metadata": {},
     "output_type": "execute_result"
    }
   ],
   "source": [
    "train['meat_area'].describe()"
   ]
  },
  {
   "cell_type": "markdown",
   "metadata": {},
   "source": [
    "#### Cost column\n"
   ]
  },
  {
   "cell_type": "code",
   "execution_count": 62,
   "metadata": {},
   "outputs": [
    {
     "data": {
      "text/plain": [
       "count    38823.000000\n",
       "mean       519.238529\n",
       "std        156.878604\n",
       "min        265.631700\n",
       "25%        364.269500\n",
       "50%        515.259600\n",
       "75%        662.222600\n",
       "max        783.192500\n",
       "Name: cost, dtype: float64"
      ]
     },
     "execution_count": 62,
     "metadata": {},
     "output_type": "execute_result"
    }
   ],
   "source": [
    "train['cost'].describe()  "
   ]
  },
  {
   "cell_type": "markdown",
   "metadata": {},
   "source": [
    "### Hadling Outliers"
   ]
  },
  {
   "cell_type": "code",
   "execution_count": 63,
   "metadata": {},
   "outputs": [],
   "source": [
    "num_cols = train[['store_sales','store_cost','grocery_area','frozen_area','meat_area','gross_weight','net_weight','package_weight']]\n",
    "train.drop(num_cols, axis=1, inplace=True)"
   ]
  },
  {
   "cell_type": "code",
   "execution_count": 64,
   "metadata": {},
   "outputs": [
    {
     "data": {
      "image/png": "[encoded data removed]",
      "text/plain": [
       "<Figure size 2000x1000 with 8 Axes>"
      ]
     },
     "metadata": {},
     "output_type": "display_data"
    }
   ],
   "source": [
    "plt.figure(figsize=(20,10))\n",
    "for i,col in enumerate(num_cols):\n",
    "    plt.subplot(2,4,i+1)\n",
    "    sns.boxplot(data =num_cols ,x=col)\n",
    "    plt.xlabel(col, fontsize=15)\n",
    "    plt.xticks(fontsize=10)"
   ]
  },
  {
   "cell_type": "code",
   "execution_count": 65,
   "metadata": {},
   "outputs": [
    {
     "data": {
      "image/png": "[encoded data removed]",
      "text/plain": [
       "<Figure size 2000x1000 with 8 Axes>"
      ]
     },
     "metadata": {},
     "output_type": "display_data"
    }
   ],
   "source": [
    "plt.figure(figsize=(20,10))\n",
    "for i,col in enumerate(num_cols):\n",
    "    plt.subplot(2,4,i+1)\n",
    "    sns.histplot(data = num_cols,x=col)\n",
    "    plt.xlabel(col, fontsize=15)\n",
    "    plt.xticks(fontsize=10)"
   ]
  },
  {
   "cell_type": "code",
   "execution_count": 66,
   "metadata": {},
   "outputs": [],
   "source": [
    "def detect_outliers(df):\n",
    "    for col in df.select_dtypes('float64').columns:\n",
    "        Q1 = df[col].quantile(0.25)\n",
    "        Q3 = df[col].quantile(0.75)\n",
    "        IQR = Q3 - Q1\n",
    "        lower = Q1 - (1.5 * IQR)\n",
    "        upper = Q3 + (1.5 * IQR)\n",
    "        df.loc[(df[col] < lower) , col] = lower \n",
    "        df.loc[(df[col] > upper) , col] = upper "
   ]
  },
  {
   "cell_type": "code",
   "execution_count": 67,
   "metadata": {},
   "outputs": [],
   "source": [
    "detect_outliers(num_cols)"
   ]
  },
  {
   "cell_type": "code",
   "execution_count": 68,
   "metadata": {},
   "outputs": [
    {
     "data": {
      "image/png": "[encoded data removed]",
      "text/plain": [
       "<Figure size 2000x1000 with 8 Axes>"
      ]
     },
     "metadata": {},
     "output_type": "display_data"
    }
   ],
   "source": [
    "plt.figure(figsize=(20,10))\n",
    "for i,col in enumerate(num_cols):\n",
    "    plt.subplot(2,4,i+1)\n",
    "    sns.boxplot(data = num_cols,x=col)\n",
    "    plt.xlabel(col, fontsize=15)\n",
    "    plt.xticks(fontsize=10)"
   ]
  },
  {
   "cell_type": "code",
   "execution_count": 69,
   "metadata": {},
   "outputs": [
    {
     "data": {
      "image/png": "[encoded data removed]",
      "text/plain": [
       "<Figure size 2000x1000 with 8 Axes>"
      ]
     },
     "metadata": {},
     "output_type": "display_data"
    }
   ],
   "source": [
    "plt.figure(figsize=(20,10))\n",
    "for i,col in enumerate(num_cols):\n",
    "    plt.subplot(2,4,i+1)\n",
    "    sns.histplot(data = num_cols,x=col)\n",
    "    plt.xlabel(col, fontsize=15)\n",
    "    plt.xticks(fontsize=10)"
   ]
  },
  {
   "cell_type": "code",
   "execution_count": 70,
   "metadata": {},
   "outputs": [],
   "source": [
    "train = pd.concat([train, num_cols], axis=1)"
   ]
  },
  {
   "cell_type": "markdown",
   "metadata": {},
   "source": [
    "### Handling the null values"
   ]
  },
  {
   "cell_type": "code",
   "execution_count": 71,
   "metadata": {},
   "outputs": [
    {
     "data": {
      "text/plain": [
       "promotion_name           14.999743\n",
       "store_kind               14.948268\n",
       "is_recyclable?            0.005147\n",
       "yearly_income             0.020590\n",
       "store_area                9.175374\n",
       "cost                      0.079786\n",
       "marital_status            0.000000\n",
       "gender                    0.000000\n",
       "number_of_children        0.000000\n",
       "profession                0.000000\n",
       "place_name                0.000000\n",
       "department                0.005147\n",
       "florist_feature           0.000000\n",
       "video_store_feature       0.000000\n",
       "coffee_bar_feature        0.000000\n",
       "bar_for_salad_feature     0.000000\n",
       "ready_food_feature        0.000000\n",
       "store_sales               0.038606\n",
       "store_cost                0.018016\n",
       "grocery_area              9.286045\n",
       "frozen_area               9.144490\n",
       "meat_area                 9.131621\n",
       "gross_weight              7.507593\n",
       "net_weight                7.445823\n",
       "package_weight           13.810676\n",
       "dtype: float64"
      ]
     },
     "execution_count": 71,
     "metadata": {},
     "output_type": "execute_result"
    }
   ],
   "source": [
    "train.isnull().sum() / train.shape[0] * 100"
   ]
  },
  {
   "cell_type": "code",
   "execution_count": 72,
   "metadata": {},
   "outputs": [
    {
     "data": {
      "text/plain": [
       "promotion_name           5828\n",
       "store_kind               5808\n",
       "is_recyclable?              2\n",
       "yearly_income               8\n",
       "store_area               3565\n",
       "cost                       31\n",
       "marital_status              0\n",
       "gender                      0\n",
       "number_of_children          0\n",
       "profession                  0\n",
       "place_name                  0\n",
       "department                  2\n",
       "florist_feature             0\n",
       "video_store_feature         0\n",
       "coffee_bar_feature          0\n",
       "bar_for_salad_feature       0\n",
       "ready_food_feature          0\n",
       "store_sales                15\n",
       "store_cost                  7\n",
       "grocery_area             3608\n",
       "frozen_area              3553\n",
       "meat_area                3548\n",
       "gross_weight             2917\n",
       "net_weight               2893\n",
       "package_weight           5366\n",
       "dtype: int64"
      ]
     },
     "execution_count": 72,
     "metadata": {},
     "output_type": "execute_result"
    }
   ],
   "source": [
    "train.isnull().sum()"
   ]
  },
  {
   "cell_type": "markdown",
   "metadata": {},
   "source": [
    "#### Promotion Name column"
   ]
  },
  {
   "cell_type": "code",
   "execution_count": 73,
   "metadata": {},
   "outputs": [
    {
     "data": {
      "text/plain": [
       "5828"
      ]
     },
     "execution_count": 73,
     "metadata": {},
     "output_type": "execute_result"
    }
   ],
   "source": [
    "train['promotion_name'].isnull().sum()"
   ]
  },
  {
   "cell_type": "code",
   "execution_count": 74,
   "metadata": {},
   "outputs": [],
   "source": [
    "train['promotion_name'] = train['promotion_name'].fillna('No Promotion')"
   ]
  },
  {
   "cell_type": "markdown",
   "metadata": {},
   "source": [
    "#### Store Kind column"
   ]
  },
  {
   "cell_type": "code",
   "execution_count": 75,
   "metadata": {},
   "outputs": [
    {
     "data": {
      "text/plain": [
       "<Axes: xlabel='store_kind', ylabel='cost'>"
      ]
     },
     "execution_count": 75,
     "metadata": {},
     "output_type": "execute_result"
    },
    {
     "data": {
      "image/png": "[encoded data removed]",
      "text/plain": [
       "<Figure size 800x550 with 1 Axes>"
      ]
     },
     "metadata": {},
     "output_type": "display_data"
    }
   ],
   "source": [
    "sns.barplot(x=train['store_kind'], y=train['cost'])"
   ]
  },
  {
   "cell_type": "code",
   "execution_count": 76,
   "metadata": {},
   "outputs": [
    {
     "data": {
      "text/plain": [
       "store_kind\n",
       "Supermarket      0.433033\n",
       "Deluxe           0.381287\n",
       "Gourmet          0.107547\n",
       "Mid-Size         0.045300\n",
       "Small Grocery    0.032833\n",
       "Name: proportion, dtype: float64"
      ]
     },
     "execution_count": 76,
     "metadata": {},
     "output_type": "execute_result"
    }
   ],
   "source": [
    "train['store_kind'].value_counts(normalize=True) "
   ]
  },
  {
   "cell_type": "code",
   "execution_count": 77,
   "metadata": {},
   "outputs": [],
   "source": [
    "categories = ['Deluxe', 'Supermarket', 'Gourmet', 'Mid-Size', 'Small Grocery']\n",
    "\n",
    "for i in range(len(train)):\n",
    "    if pd.isna(train.loc[i, 'store_kind']):\n",
    "        decision = np.random.choice(categories, p=[0.433033,0.381287,0.107547,0.045300,0.032833])\n",
    "        train.loc[i, 'store_kind'] = decision"
   ]
  },
  {
   "cell_type": "code",
   "execution_count": 78,
   "metadata": {},
   "outputs": [
    {
     "data": {
      "text/plain": [
       "store_kind\n",
       "Supermarket      0.425619\n",
       "Deluxe           0.388943\n",
       "Gourmet          0.107093\n",
       "Mid-Size         0.045324\n",
       "Small Grocery    0.033021\n",
       "Name: proportion, dtype: float64"
      ]
     },
     "execution_count": 78,
     "metadata": {},
     "output_type": "execute_result"
    }
   ],
   "source": [
    "train['store_kind'].value_counts(normalize=True) "
   ]
  },
  {
   "cell_type": "markdown",
   "metadata": {},
   "source": [
    "#### Store sales column"
   ]
  },
  {
   "cell_type": "code",
   "execution_count": 79,
   "metadata": {},
   "outputs": [],
   "source": [
    "train['store_sales'].fillna(train['store_sales'].mean(), inplace=True)"
   ]
  },
  {
   "cell_type": "markdown",
   "metadata": {},
   "source": [
    "#### Store cost column"
   ]
  },
  {
   "cell_type": "code",
   "execution_count": 80,
   "metadata": {},
   "outputs": [],
   "source": [
    "train['store_cost'].fillna(train['store_cost'].mean(), inplace=True)"
   ]
  },
  {
   "cell_type": "markdown",
   "metadata": {},
   "source": [
    "##### Is Recyclable? column"
   ]
  },
  {
   "cell_type": "code",
   "execution_count": 81,
   "metadata": {},
   "outputs": [],
   "source": [
    "train['is_recyclable?'].fillna( 1, inplace=True)"
   ]
  },
  {
   "cell_type": "markdown",
   "metadata": {},
   "source": [
    "#### Yearly Income column"
   ]
  },
  {
   "cell_type": "code",
   "execution_count": 82,
   "metadata": {},
   "outputs": [
    {
     "data": {
      "text/plain": [
       "yearly_income\n",
       "30K+     0.320908\n",
       "10K+     0.215492\n",
       "50K+     0.173712\n",
       "70K+     0.124183\n",
       "130K+    0.055887\n",
       "90K+     0.045899\n",
       "110K+    0.043351\n",
       "150K+    0.020568\n",
       "Name: proportion, dtype: float64"
      ]
     },
     "execution_count": 82,
     "metadata": {},
     "output_type": "execute_result"
    }
   ],
   "source": [
    "train['yearly_income'].value_counts(normalize=True)"
   ]
  },
  {
   "cell_type": "code",
   "execution_count": 83,
   "metadata": {},
   "outputs": [],
   "source": [
    "train['yearly_income'].fillna('30K+', inplace=True)"
   ]
  },
  {
   "cell_type": "markdown",
   "metadata": {},
   "source": [
    "#### Store Area column"
   ]
  },
  {
   "cell_type": "code",
   "execution_count": 84,
   "metadata": {},
   "outputs": [],
   "source": [
    "train['store_area'].fillna(train['store_area'].mean(), inplace=True)"
   ]
  },
  {
   "cell_type": "code",
   "execution_count": 85,
   "metadata": {},
   "outputs": [],
   "source": [
    "train['grocery_area'].fillna(train['grocery_area'].mean(), inplace=True)\n",
    "train['frozen_area'].fillna(train['frozen_area'].mean(), inplace=True)\n",
    "train['meat_area'].fillna(train['meat_area'].mean(), inplace=True)"
   ]
  },
  {
   "cell_type": "markdown",
   "metadata": {},
   "source": [
    "#### Grocery Area column"
   ]
  },
  {
   "cell_type": "code",
   "execution_count": 86,
   "metadata": {},
   "outputs": [
    {
     "data": {
      "text/html": [
       "<div>\n",
       "<style scoped>\n",
       "    .dataframe tbody tr th:only-of-type {\n",
       "        vertical-align: middle;\n",
       "    }\n",
       "\n",
       "    .dataframe tbody tr th {\n",
       "        vertical-align: top;\n",
       "    }\n",
       "\n",
       "    .dataframe thead th {\n",
       "        text-align: right;\n",
       "    }\n",
       "</style>\n",
       "<table border=\"1\" class=\"dataframe\">\n",
       "  <thead>\n",
       "    <tr style=\"text-align: right;\">\n",
       "      <th></th>\n",
       "      <th>store_area</th>\n",
       "      <th>grocery_area</th>\n",
       "      <th>frozen_area</th>\n",
       "      <th>meat_area</th>\n",
       "    </tr>\n",
       "  </thead>\n",
       "  <tbody>\n",
       "    <tr>\n",
       "      <th>store_area</th>\n",
       "      <td>1.000000</td>\n",
       "      <td>0.828459</td>\n",
       "      <td>0.681161</td>\n",
       "      <td>0.683789</td>\n",
       "    </tr>\n",
       "    <tr>\n",
       "      <th>grocery_area</th>\n",
       "      <td>0.828459</td>\n",
       "      <td>1.000000</td>\n",
       "      <td>0.400515</td>\n",
       "      <td>0.402405</td>\n",
       "    </tr>\n",
       "    <tr>\n",
       "      <th>frozen_area</th>\n",
       "      <td>0.681161</td>\n",
       "      <td>0.400515</td>\n",
       "      <td>1.000000</td>\n",
       "      <td>0.908698</td>\n",
       "    </tr>\n",
       "    <tr>\n",
       "      <th>meat_area</th>\n",
       "      <td>0.683789</td>\n",
       "      <td>0.402405</td>\n",
       "      <td>0.908698</td>\n",
       "      <td>1.000000</td>\n",
       "    </tr>\n",
       "  </tbody>\n",
       "</table>\n",
       "</div>"
      ],
      "text/plain": [
       "              store_area  grocery_area  frozen_area  meat_area\n",
       "store_area      1.000000      0.828459     0.681161   0.683789\n",
       "grocery_area    0.828459      1.000000     0.400515   0.402405\n",
       "frozen_area     0.681161      0.400515     1.000000   0.908698\n",
       "meat_area       0.683789      0.402405     0.908698   1.000000"
      ]
     },
     "execution_count": 86,
     "metadata": {},
     "output_type": "execute_result"
    }
   ],
   "source": [
    "train[['store_area', 'grocery_area', 'frozen_area', 'meat_area']].corr()"
   ]
  },
  {
   "cell_type": "markdown",
   "metadata": {},
   "source": [
    "After some research we found that :\n",
    "- the store area is eqaul to the sum of the grocery area and the frozen area and the meat area so we can drop the store area column.\n",
    "- the correlation between the frozen area and meat area is equal to 0.91 so we can drop one of them."
   ]
  },
  {
   "cell_type": "code",
   "execution_count": 87,
   "metadata": {},
   "outputs": [],
   "source": [
    "train.drop(columns=['store_area','meat_area'], axis=1, inplace=True)  "
   ]
  },
  {
   "cell_type": "markdown",
   "metadata": {},
   "source": [
    "#### Cost column"
   ]
  },
  {
   "cell_type": "code",
   "execution_count": 88,
   "metadata": {},
   "outputs": [],
   "source": [
    "train['cost'].fillna(train['cost'].mean(), inplace=True)"
   ]
  },
  {
   "cell_type": "markdown",
   "metadata": {},
   "source": [
    "#### Gross Weight column    "
   ]
  },
  {
   "cell_type": "code",
   "execution_count": 89,
   "metadata": {},
   "outputs": [
    {
     "data": {
      "text/html": [
       "<div>\n",
       "<style scoped>\n",
       "    .dataframe tbody tr th:only-of-type {\n",
       "        vertical-align: middle;\n",
       "    }\n",
       "\n",
       "    .dataframe tbody tr th {\n",
       "        vertical-align: top;\n",
       "    }\n",
       "\n",
       "    .dataframe thead th {\n",
       "        text-align: right;\n",
       "    }\n",
       "</style>\n",
       "<table border=\"1\" class=\"dataframe\">\n",
       "  <thead>\n",
       "    <tr style=\"text-align: right;\">\n",
       "      <th></th>\n",
       "      <th>gross_weight</th>\n",
       "      <th>net_weight</th>\n",
       "      <th>package_weight</th>\n",
       "      <th>cost</th>\n",
       "    </tr>\n",
       "  </thead>\n",
       "  <tbody>\n",
       "    <tr>\n",
       "      <th>gross_weight</th>\n",
       "      <td>1.000000</td>\n",
       "      <td>0.988901</td>\n",
       "      <td>0.020195</td>\n",
       "      <td>-0.002973</td>\n",
       "    </tr>\n",
       "    <tr>\n",
       "      <th>net_weight</th>\n",
       "      <td>0.988901</td>\n",
       "      <td>1.000000</td>\n",
       "      <td>-0.125895</td>\n",
       "      <td>-0.001043</td>\n",
       "    </tr>\n",
       "    <tr>\n",
       "      <th>package_weight</th>\n",
       "      <td>0.020195</td>\n",
       "      <td>-0.125895</td>\n",
       "      <td>1.000000</td>\n",
       "      <td>0.002283</td>\n",
       "    </tr>\n",
       "    <tr>\n",
       "      <th>cost</th>\n",
       "      <td>-0.002973</td>\n",
       "      <td>-0.001043</td>\n",
       "      <td>0.002283</td>\n",
       "      <td>1.000000</td>\n",
       "    </tr>\n",
       "  </tbody>\n",
       "</table>\n",
       "</div>"
      ],
      "text/plain": [
       "                gross_weight  net_weight  package_weight      cost\n",
       "gross_weight        1.000000    0.988901        0.020195 -0.002973\n",
       "net_weight          0.988901    1.000000       -0.125895 -0.001043\n",
       "package_weight      0.020195   -0.125895        1.000000  0.002283\n",
       "cost               -0.002973   -0.001043        0.002283  1.000000"
      ]
     },
     "execution_count": 89,
     "metadata": {},
     "output_type": "execute_result"
    }
   ],
   "source": [
    "train[['gross_weight', 'net_weight', 'package_weight','cost']].corr()"
   ]
  },
  {
   "cell_type": "markdown",
   "metadata": {},
   "source": [
    "After some research we found that :\n",
    "- the gross weight is equal to the sum of the net weight and the package weight so we can drop the gross weight column.\n",
    "- the package weight has alot of missing values so we can drop it."
   ]
  },
  {
   "cell_type": "code",
   "execution_count": 90,
   "metadata": {},
   "outputs": [],
   "source": [
    "train.drop(columns=['gross_weight', 'package_weight'], axis=1, inplace=True)"
   ]
  },
  {
   "cell_type": "code",
   "execution_count": 91,
   "metadata": {},
   "outputs": [],
   "source": [
    "train['net_weight'].fillna(train['net_weight'].mean(), inplace=True)"
   ]
  },
  {
   "cell_type": "markdown",
   "metadata": {},
   "source": [
    "#### Department column"
   ]
  },
  {
   "cell_type": "code",
   "execution_count": 92,
   "metadata": {},
   "outputs": [
    {
     "data": {
      "text/plain": [
       "department\n",
       "Produce department                5573\n",
       "Snack Foods department            4470\n",
       "Household department              4022\n",
       "Frozen Foods department           3927\n",
       "Baking Goods department           2878\n",
       "Canned Foods department           2721\n",
       "Dairy department                  2434\n",
       "Health and Hygiene department     2410\n",
       "Beverages department              1916\n",
       "Deli department                   1806\n",
       "Baked Goods department            1143\n",
       "Alcoholic Beverages department    1016\n",
       "Snacks department                 1008\n",
       "Starchy Foods department           681\n",
       "Eggs department                    615\n",
       "Periodicals department             611\n",
       "Breakfast Foods department         494\n",
       "Canned Products department         260\n",
       "Checkout department                246\n",
       "Seafood department                 241\n",
       "Meat department                    240\n",
       "Carousel department                140\n",
       "Name: count, dtype: int64"
      ]
     },
     "execution_count": 92,
     "metadata": {},
     "output_type": "execute_result"
    }
   ],
   "source": [
    "train['department'].value_counts()"
   ]
  },
  {
   "cell_type": "code",
   "execution_count": 93,
   "metadata": {},
   "outputs": [],
   "source": [
    "train['department'].fillna('Produce department', inplace=True)"
   ]
  },
  {
   "cell_type": "markdown",
   "metadata": {},
   "source": [
    "#### Bar for salad column"
   ]
  },
  {
   "cell_type": "code",
   "execution_count": 94,
   "metadata": {},
   "outputs": [
    {
     "data": {
      "text/html": [
       "<div>\n",
       "<style scoped>\n",
       "    .dataframe tbody tr th:only-of-type {\n",
       "        vertical-align: middle;\n",
       "    }\n",
       "\n",
       "    .dataframe tbody tr th {\n",
       "        vertical-align: top;\n",
       "    }\n",
       "\n",
       "    .dataframe thead th {\n",
       "        text-align: right;\n",
       "    }\n",
       "</style>\n",
       "<table border=\"1\" class=\"dataframe\">\n",
       "  <thead>\n",
       "    <tr style=\"text-align: right;\">\n",
       "      <th></th>\n",
       "      <th>video_store_feature</th>\n",
       "      <th>coffee_bar_feature</th>\n",
       "      <th>bar_for_salad_feature</th>\n",
       "      <th>ready_food_feature</th>\n",
       "    </tr>\n",
       "  </thead>\n",
       "  <tbody>\n",
       "    <tr>\n",
       "      <th>video_store_feature</th>\n",
       "      <td>1.000000</td>\n",
       "      <td>0.590076</td>\n",
       "      <td>0.622329</td>\n",
       "      <td>0.622329</td>\n",
       "    </tr>\n",
       "    <tr>\n",
       "      <th>coffee_bar_feature</th>\n",
       "      <td>0.590076</td>\n",
       "      <td>1.000000</td>\n",
       "      <td>0.533832</td>\n",
       "      <td>0.533832</td>\n",
       "    </tr>\n",
       "    <tr>\n",
       "      <th>bar_for_salad_feature</th>\n",
       "      <td>0.622329</td>\n",
       "      <td>0.533832</td>\n",
       "      <td>1.000000</td>\n",
       "      <td>1.000000</td>\n",
       "    </tr>\n",
       "    <tr>\n",
       "      <th>ready_food_feature</th>\n",
       "      <td>0.622329</td>\n",
       "      <td>0.533832</td>\n",
       "      <td>1.000000</td>\n",
       "      <td>1.000000</td>\n",
       "    </tr>\n",
       "  </tbody>\n",
       "</table>\n",
       "</div>"
      ],
      "text/plain": [
       "                       video_store_feature  coffee_bar_feature  \\\n",
       "video_store_feature               1.000000            0.590076   \n",
       "coffee_bar_feature                0.590076            1.000000   \n",
       "bar_for_salad_feature             0.622329            0.533832   \n",
       "ready_food_feature                0.622329            0.533832   \n",
       "\n",
       "                       bar_for_salad_feature  ready_food_feature  \n",
       "video_store_feature                 0.622329            0.622329  \n",
       "coffee_bar_feature                  0.533832            0.533832  \n",
       "bar_for_salad_feature               1.000000            1.000000  \n",
       "ready_food_feature                  1.000000            1.000000  "
      ]
     },
     "execution_count": 94,
     "metadata": {},
     "output_type": "execute_result"
    }
   ],
   "source": [
    "train[['video_store_feature', 'coffee_bar_feature', 'bar_for_salad_feature', 'ready_food_feature']].corr()"
   ]
  },
  {
   "cell_type": "markdown",
   "metadata": {},
   "source": [
    "Since the bar for salad column is highly correlated with the ready food column we can drop it."
   ]
  },
  {
   "cell_type": "code",
   "execution_count": 95,
   "metadata": {},
   "outputs": [],
   "source": [
    "train.drop('bar_for_salad_feature', axis=1, inplace=True)"
   ]
  },
  {
   "cell_type": "code",
   "execution_count": 96,
   "metadata": {},
   "outputs": [
    {
     "data": {
      "text/plain": [
       "(38854, 20)"
      ]
     },
     "execution_count": 96,
     "metadata": {},
     "output_type": "execute_result"
    }
   ],
   "source": [
    "train.shape"
   ]
  },
  {
   "cell_type": "markdown",
   "metadata": {},
   "source": [
    "### Feature Engineering and Selection"
   ]
  },
  {
   "cell_type": "markdown",
   "metadata": {},
   "source": [
    "#### Store Kind column"
   ]
  },
  {
   "cell_type": "code",
   "execution_count": 97,
   "metadata": {},
   "outputs": [
    {
     "data": {
      "text/plain": [
       "<Axes: xlabel='store_kind', ylabel='cost'>"
      ]
     },
     "execution_count": 97,
     "metadata": {},
     "output_type": "execute_result"
    },
    {
     "data": {
      "image/png": "[encoded data removed]",
      "text/plain": [
       "<Figure size 800x550 with 1 Axes>"
      ]
     },
     "metadata": {},
     "output_type": "display_data"
    }
   ],
   "source": [
    "sns.barplot(x = train['store_kind'], y = train['cost'])"
   ]
  },
  {
   "cell_type": "code",
   "execution_count": 98,
   "metadata": {},
   "outputs": [
    {
     "data": {
      "text/plain": [
       "<Axes: xlabel='store_kind', ylabel='count'>"
      ]
     },
     "execution_count": 98,
     "metadata": {},
     "output_type": "execute_result"
    },
    {
     "data": {
      "image/png": "[encoded data removed]",
      "text/plain": [
       "<Figure size 800x550 with 1 Axes>"
      ]
     },
     "metadata": {},
     "output_type": "display_data"
    }
   ],
   "source": [
    "sns.countplot(x = train['store_kind'])"
   ]
  },
  {
   "cell_type": "markdown",
   "metadata": {},
   "source": [
    "#### Is Recyclable? column"
   ]
  },
  {
   "cell_type": "code",
   "execution_count": 99,
   "metadata": {},
   "outputs": [
    {
     "data": {
      "text/plain": [
       "<Axes: xlabel='is_recyclable?', ylabel='cost'>"
      ]
     },
     "execution_count": 99,
     "metadata": {},
     "output_type": "execute_result"
    },
    {
     "data": {
      "image/png": "[encoded data removed]",
      "text/plain": [
       "<Figure size 800x550 with 1 Axes>"
      ]
     },
     "metadata": {},
     "output_type": "display_data"
    }
   ],
   "source": [
    "sns.barplot(x = train['is_recyclable?'], y = train['cost'])"
   ]
  },
  {
   "cell_type": "code",
   "execution_count": 100,
   "metadata": {},
   "outputs": [],
   "source": [
    "train.drop('is_recyclable?', axis=1, inplace=True)"
   ]
  },
  {
   "cell_type": "markdown",
   "metadata": {},
   "source": [
    "#### Yearly Income column"
   ]
  },
  {
   "cell_type": "code",
   "execution_count": 101,
   "metadata": {},
   "outputs": [
    {
     "data": {
      "text/plain": [
       "<Axes: xlabel='yearly_income', ylabel='cost'>"
      ]
     },
     "execution_count": 101,
     "metadata": {},
     "output_type": "execute_result"
    },
    {
     "data": {
      "image/png": "[encoded data removed]",
      "text/plain": [
       "<Figure size 800x550 with 1 Axes>"
      ]
     },
     "metadata": {},
     "output_type": "display_data"
    }
   ],
   "source": [
    "sns.barplot(x = 'yearly_income', y = 'cost', data = train)"
   ]
  },
  {
   "cell_type": "code",
   "execution_count": 102,
   "metadata": {},
   "outputs": [],
   "source": [
    "train['yearly_income'] = train['yearly_income'].str.replace('K', '')\n",
    "train['yearly_income'] = train['yearly_income'].str.replace('+', '')"
   ]
  },
  {
   "cell_type": "code",
   "execution_count": 103,
   "metadata": {},
   "outputs": [],
   "source": [
    "train['yearly_income'] = train['yearly_income'].astype(int)"
   ]
  },
  {
   "cell_type": "code",
   "execution_count": 104,
   "metadata": {},
   "outputs": [
    {
     "data": {
      "text/plain": [
       "count    38854.000000\n",
       "mean        48.406856\n",
       "std         36.235269\n",
       "min         10.000000\n",
       "25%         30.000000\n",
       "50%         30.000000\n",
       "75%         70.000000\n",
       "max        150.000000\n",
       "Name: yearly_income, dtype: float64"
      ]
     },
     "execution_count": 104,
     "metadata": {},
     "output_type": "execute_result"
    }
   ],
   "source": [
    "train['yearly_income'].describe()"
   ]
  },
  {
   "cell_type": "code",
   "execution_count": 105,
   "metadata": {},
   "outputs": [
    {
     "data": {
      "text/plain": [
       "<Axes: xlabel='yearly_income', ylabel='cost'>"
      ]
     },
     "execution_count": 105,
     "metadata": {},
     "output_type": "execute_result"
    },
    {
     "data": {
      "image/png": "[encoded data removed]",
      "text/plain": [
       "<Figure size 800x550 with 1 Axes>"
      ]
     },
     "metadata": {},
     "output_type": "display_data"
    }
   ],
   "source": [
    "sns.scatterplot(x = 'yearly_income', y = 'cost', data = train)"
   ]
  },
  {
   "cell_type": "code",
   "execution_count": 106,
   "metadata": {},
   "outputs": [],
   "source": [
    "train.drop('yearly_income', axis=1, inplace=True)"
   ]
  },
  {
   "cell_type": "markdown",
   "metadata": {},
   "source": [
    "#### Department column"
   ]
  },
  {
   "cell_type": "code",
   "execution_count": 107,
   "metadata": {},
   "outputs": [
    {
     "data": {
      "text/plain": [
       "<Axes: xlabel='department', ylabel='cost'>"
      ]
     },
     "execution_count": 107,
     "metadata": {},
     "output_type": "execute_result"
    },
    {
     "data": {
      "image/png": "[encoded data removed]",
      "text/plain": [
       "<Figure size 2000x1000 with 1 Axes>"
      ]
     },
     "metadata": {},
     "output_type": "display_data"
    }
   ],
   "source": [
    "plt.figure(figsize=(20,10))\n",
    "plt.xticks(rotation=90)\n",
    "sns.barplot(x = 'department', y = 'cost', data = train)"
   ]
  },
  {
   "cell_type": "code",
   "execution_count": 108,
   "metadata": {},
   "outputs": [],
   "source": [
    "train.drop('department', axis=1, inplace=True)"
   ]
  },
  {
   "cell_type": "markdown",
   "metadata": {},
   "source": [
    "#### Number of children column"
   ]
  },
  {
   "cell_type": "code",
   "execution_count": 109,
   "metadata": {},
   "outputs": [
    {
     "data": {
      "text/plain": [
       "<Axes: xlabel='number_of_children', ylabel='cost'>"
      ]
     },
     "execution_count": 109,
     "metadata": {},
     "output_type": "execute_result"
    },
    {
     "data": {
      "image/png": "[encoded data removed]",
      "text/plain": [
       "<Figure size 800x550 with 1 Axes>"
      ]
     },
     "metadata": {},
     "output_type": "display_data"
    }
   ],
   "source": [
    "sns.barplot(x = train['number_of_children'], y = train['cost'])"
   ]
  },
  {
   "cell_type": "code",
   "execution_count": 110,
   "metadata": {},
   "outputs": [],
   "source": [
    "train.drop('number_of_children', axis=1, inplace=True)"
   ]
  },
  {
   "cell_type": "code",
   "execution_count": 111,
   "metadata": {},
   "outputs": [
    {
     "data": {
      "text/plain": [
       "<Axes: xlabel='profession', ylabel='cost'>"
      ]
     },
     "execution_count": 111,
     "metadata": {},
     "output_type": "execute_result"
    },
    {
     "data": {
      "image/png": "[encoded data removed]",
      "text/plain": [
       "<Figure size 800x550 with 1 Axes>"
      ]
     },
     "metadata": {},
     "output_type": "display_data"
    }
   ],
   "source": [
    "sns.barplot(x = train['profession'], y = train['cost'])"
   ]
  },
  {
   "cell_type": "code",
   "execution_count": 112,
   "metadata": {},
   "outputs": [],
   "source": [
    "train.drop('profession', axis=1, inplace=True)"
   ]
  },
  {
   "cell_type": "markdown",
   "metadata": {},
   "source": [
    "#### Place name column"
   ]
  },
  {
   "cell_type": "code",
   "execution_count": 113,
   "metadata": {},
   "outputs": [
    {
     "data": {
      "text/plain": [
       "<Axes: xlabel='place_name', ylabel='cost'>"
      ]
     },
     "execution_count": 113,
     "metadata": {},
     "output_type": "execute_result"
    },
    {
     "data": {
      "image/png": "[encoded data removed]",
      "text/plain": [
       "<Figure size 800x550 with 1 Axes>"
      ]
     },
     "metadata": {},
     "output_type": "display_data"
    }
   ],
   "source": [
    "sns.barplot(x = train['place_name'], y = train['cost'])"
   ]
  },
  {
   "cell_type": "markdown",
   "metadata": {},
   "source": [
    "#### Marital status column"
   ]
  },
  {
   "cell_type": "code",
   "execution_count": 114,
   "metadata": {},
   "outputs": [
    {
     "data": {
      "text/plain": [
       "<Axes: xlabel='marital_status', ylabel='cost'>"
      ]
     },
     "execution_count": 114,
     "metadata": {},
     "output_type": "execute_result"
    },
    {
     "data": {
      "image/png": "[encoded data removed]",
      "text/plain": [
       "<Figure size 800x550 with 1 Axes>"
      ]
     },
     "metadata": {},
     "output_type": "display_data"
    }
   ],
   "source": [
    "sns.barplot(x = train['marital_status'], y = train['cost'])"
   ]
  },
  {
   "cell_type": "code",
   "execution_count": 115,
   "metadata": {},
   "outputs": [
    {
     "data": {
      "text/plain": [
       "<Axes: xlabel='gender', ylabel='cost'>"
      ]
     },
     "execution_count": 115,
     "metadata": {},
     "output_type": "execute_result"
    },
    {
     "data": {
      "image/png": "[encoded data removed]",
      "text/plain": [
       "<Figure size 800x550 with 1 Axes>"
      ]
     },
     "metadata": {},
     "output_type": "display_data"
    }
   ],
   "source": [
    "sns.barplot(x = train['gender'], y = train['cost'])"
   ]
  },
  {
   "cell_type": "code",
   "execution_count": 116,
   "metadata": {},
   "outputs": [],
   "source": [
    "train.drop('marital_status', axis=1, inplace=True)\n",
    "train.drop('gender', axis=1, inplace=True)"
   ]
  },
  {
   "cell_type": "markdown",
   "metadata": {},
   "source": [
    "### Encoding the categorical columns"
   ]
  },
  {
   "cell_type": "code",
   "execution_count": 117,
   "metadata": {},
   "outputs": [
    {
     "data": {
      "text/plain": [
       "array(['Dimes Off', 'Budget Bargains', 'Shelf Emptiers', 'Savings Galore',\n",
       "       'Sale Winners', 'Weekend Discount', 'Price Winners',\n",
       "       'Shelf Clearing Days', 'Big Time Discounts',\n",
       "       'Lottery Cash Registerion', 'Pick Your Savings', 'No Promotion',\n",
       "       'Super Savers', 'Two Day Sale', 'Sale Sale Sale', 'Wallet Savers',\n",
       "       'Money Savers', 'Save Price', 'Best Savings', 'Big Time Saving',\n",
       "       'Bag Stuffer', 'Save It (Sale)', 'Dollar Days', 'Discount Frenzy',\n",
       "       'Sales Days', 'Sale : Double Down', 'Coupon Spectacular',\n",
       "       'Three for One', 'Super Duper Savers', 'GLD', 'Go For It',\n",
       "       'Mystery Sale', 'One Day Sale', 'I Cant Believe It Sale',\n",
       "       'You Save Days', 'Double Your Savings', 'Full Free', 'Saving Days',\n",
       "       'Roller Savings (High) ', 'Green Light Special', 'Price Slashers',\n",
       "       'Price Cutters', 'Two for One', 'Promo Big', 'Price Destroyers',\n",
       "       'Tip Top Savings', 'Best Price Savers', 'Super Wallet Savers',\n",
       "       'Price Smashers', 'Fantastic Discounts'], dtype=object)"
      ]
     },
     "execution_count": 117,
     "metadata": {},
     "output_type": "execute_result"
    }
   ],
   "source": [
    "train['promotion_name'].unique()"
   ]
  },
  {
   "cell_type": "code",
   "execution_count": 118,
   "metadata": {},
   "outputs": [
    {
     "name": "stderr",
     "output_type": "stream",
     "text": [
      "c:\\Users\\Abdul\\anaconda3\\lib\\site-packages\\sklearn\\preprocessing\\_encoders.py:972: FutureWarning: `sparse` was renamed to `sparse_output` in version 1.2 and will be removed in 1.4. `sparse_output` is ignored unless you leave `sparse` to its default value.\n",
      "  warnings.warn(\n"
     ]
    },
    {
     "data": {
      "text/html": [
       "<div>\n",
       "<style scoped>\n",
       "    .dataframe tbody tr th:only-of-type {\n",
       "        vertical-align: middle;\n",
       "    }\n",
       "\n",
       "    .dataframe tbody tr th {\n",
       "        vertical-align: top;\n",
       "    }\n",
       "\n",
       "    .dataframe thead th {\n",
       "        text-align: right;\n",
       "    }\n",
       "</style>\n",
       "<table border=\"1\" class=\"dataframe\">\n",
       "  <thead>\n",
       "    <tr style=\"text-align: right;\">\n",
       "      <th></th>\n",
       "      <th>Bag Stuffer</th>\n",
       "      <th>Best Price Savers</th>\n",
       "      <th>Best Savings</th>\n",
       "      <th>Big Time Discounts</th>\n",
       "      <th>Big Time Saving</th>\n",
       "      <th>Budget Bargains</th>\n",
       "      <th>Coupon Spectacular</th>\n",
       "      <th>Dimes Off</th>\n",
       "      <th>Discount Frenzy</th>\n",
       "      <th>Dollar Days</th>\n",
       "      <th>...</th>\n",
       "      <th>Super Duper Savers</th>\n",
       "      <th>Super Savers</th>\n",
       "      <th>Super Wallet Savers</th>\n",
       "      <th>Three for One</th>\n",
       "      <th>Tip Top Savings</th>\n",
       "      <th>Two Day Sale</th>\n",
       "      <th>Two for One</th>\n",
       "      <th>Wallet Savers</th>\n",
       "      <th>Weekend Discount</th>\n",
       "      <th>You Save Days</th>\n",
       "    </tr>\n",
       "  </thead>\n",
       "  <tbody>\n",
       "    <tr>\n",
       "      <th>0</th>\n",
       "      <td>0.0</td>\n",
       "      <td>0.0</td>\n",
       "      <td>0.0</td>\n",
       "      <td>0.0</td>\n",
       "      <td>0.0</td>\n",
       "      <td>0.0</td>\n",
       "      <td>0.0</td>\n",
       "      <td>1.0</td>\n",
       "      <td>0.0</td>\n",
       "      <td>0.0</td>\n",
       "      <td>...</td>\n",
       "      <td>0.0</td>\n",
       "      <td>0.0</td>\n",
       "      <td>0.0</td>\n",
       "      <td>0.0</td>\n",
       "      <td>0.0</td>\n",
       "      <td>0.0</td>\n",
       "      <td>0.0</td>\n",
       "      <td>0.0</td>\n",
       "      <td>0.0</td>\n",
       "      <td>0.0</td>\n",
       "    </tr>\n",
       "    <tr>\n",
       "      <th>1</th>\n",
       "      <td>0.0</td>\n",
       "      <td>0.0</td>\n",
       "      <td>0.0</td>\n",
       "      <td>0.0</td>\n",
       "      <td>0.0</td>\n",
       "      <td>1.0</td>\n",
       "      <td>0.0</td>\n",
       "      <td>0.0</td>\n",
       "      <td>0.0</td>\n",
       "      <td>0.0</td>\n",
       "      <td>...</td>\n",
       "      <td>0.0</td>\n",
       "      <td>0.0</td>\n",
       "      <td>0.0</td>\n",
       "      <td>0.0</td>\n",
       "      <td>0.0</td>\n",
       "      <td>0.0</td>\n",
       "      <td>0.0</td>\n",
       "      <td>0.0</td>\n",
       "      <td>0.0</td>\n",
       "      <td>0.0</td>\n",
       "    </tr>\n",
       "    <tr>\n",
       "      <th>2</th>\n",
       "      <td>0.0</td>\n",
       "      <td>0.0</td>\n",
       "      <td>0.0</td>\n",
       "      <td>0.0</td>\n",
       "      <td>0.0</td>\n",
       "      <td>0.0</td>\n",
       "      <td>0.0</td>\n",
       "      <td>0.0</td>\n",
       "      <td>0.0</td>\n",
       "      <td>0.0</td>\n",
       "      <td>...</td>\n",
       "      <td>0.0</td>\n",
       "      <td>0.0</td>\n",
       "      <td>0.0</td>\n",
       "      <td>0.0</td>\n",
       "      <td>0.0</td>\n",
       "      <td>0.0</td>\n",
       "      <td>0.0</td>\n",
       "      <td>0.0</td>\n",
       "      <td>0.0</td>\n",
       "      <td>0.0</td>\n",
       "    </tr>\n",
       "    <tr>\n",
       "      <th>3</th>\n",
       "      <td>0.0</td>\n",
       "      <td>0.0</td>\n",
       "      <td>0.0</td>\n",
       "      <td>0.0</td>\n",
       "      <td>0.0</td>\n",
       "      <td>0.0</td>\n",
       "      <td>0.0</td>\n",
       "      <td>0.0</td>\n",
       "      <td>0.0</td>\n",
       "      <td>0.0</td>\n",
       "      <td>...</td>\n",
       "      <td>0.0</td>\n",
       "      <td>0.0</td>\n",
       "      <td>0.0</td>\n",
       "      <td>0.0</td>\n",
       "      <td>0.0</td>\n",
       "      <td>0.0</td>\n",
       "      <td>0.0</td>\n",
       "      <td>0.0</td>\n",
       "      <td>0.0</td>\n",
       "      <td>0.0</td>\n",
       "    </tr>\n",
       "    <tr>\n",
       "      <th>4</th>\n",
       "      <td>0.0</td>\n",
       "      <td>0.0</td>\n",
       "      <td>0.0</td>\n",
       "      <td>0.0</td>\n",
       "      <td>0.0</td>\n",
       "      <td>0.0</td>\n",
       "      <td>0.0</td>\n",
       "      <td>0.0</td>\n",
       "      <td>0.0</td>\n",
       "      <td>0.0</td>\n",
       "      <td>...</td>\n",
       "      <td>0.0</td>\n",
       "      <td>0.0</td>\n",
       "      <td>0.0</td>\n",
       "      <td>0.0</td>\n",
       "      <td>0.0</td>\n",
       "      <td>0.0</td>\n",
       "      <td>0.0</td>\n",
       "      <td>0.0</td>\n",
       "      <td>0.0</td>\n",
       "      <td>0.0</td>\n",
       "    </tr>\n",
       "    <tr>\n",
       "      <th>...</th>\n",
       "      <td>...</td>\n",
       "      <td>...</td>\n",
       "      <td>...</td>\n",
       "      <td>...</td>\n",
       "      <td>...</td>\n",
       "      <td>...</td>\n",
       "      <td>...</td>\n",
       "      <td>...</td>\n",
       "      <td>...</td>\n",
       "      <td>...</td>\n",
       "      <td>...</td>\n",
       "      <td>...</td>\n",
       "      <td>...</td>\n",
       "      <td>...</td>\n",
       "      <td>...</td>\n",
       "      <td>...</td>\n",
       "      <td>...</td>\n",
       "      <td>...</td>\n",
       "      <td>...</td>\n",
       "      <td>...</td>\n",
       "      <td>...</td>\n",
       "    </tr>\n",
       "    <tr>\n",
       "      <th>38849</th>\n",
       "      <td>0.0</td>\n",
       "      <td>0.0</td>\n",
       "      <td>0.0</td>\n",
       "      <td>0.0</td>\n",
       "      <td>0.0</td>\n",
       "      <td>0.0</td>\n",
       "      <td>0.0</td>\n",
       "      <td>0.0</td>\n",
       "      <td>0.0</td>\n",
       "      <td>0.0</td>\n",
       "      <td>...</td>\n",
       "      <td>0.0</td>\n",
       "      <td>0.0</td>\n",
       "      <td>0.0</td>\n",
       "      <td>0.0</td>\n",
       "      <td>0.0</td>\n",
       "      <td>0.0</td>\n",
       "      <td>0.0</td>\n",
       "      <td>0.0</td>\n",
       "      <td>0.0</td>\n",
       "      <td>0.0</td>\n",
       "    </tr>\n",
       "    <tr>\n",
       "      <th>38850</th>\n",
       "      <td>0.0</td>\n",
       "      <td>0.0</td>\n",
       "      <td>0.0</td>\n",
       "      <td>0.0</td>\n",
       "      <td>0.0</td>\n",
       "      <td>0.0</td>\n",
       "      <td>0.0</td>\n",
       "      <td>0.0</td>\n",
       "      <td>1.0</td>\n",
       "      <td>0.0</td>\n",
       "      <td>...</td>\n",
       "      <td>0.0</td>\n",
       "      <td>0.0</td>\n",
       "      <td>0.0</td>\n",
       "      <td>0.0</td>\n",
       "      <td>0.0</td>\n",
       "      <td>0.0</td>\n",
       "      <td>0.0</td>\n",
       "      <td>0.0</td>\n",
       "      <td>0.0</td>\n",
       "      <td>0.0</td>\n",
       "    </tr>\n",
       "    <tr>\n",
       "      <th>38851</th>\n",
       "      <td>0.0</td>\n",
       "      <td>0.0</td>\n",
       "      <td>0.0</td>\n",
       "      <td>0.0</td>\n",
       "      <td>0.0</td>\n",
       "      <td>0.0</td>\n",
       "      <td>0.0</td>\n",
       "      <td>0.0</td>\n",
       "      <td>0.0</td>\n",
       "      <td>0.0</td>\n",
       "      <td>...</td>\n",
       "      <td>0.0</td>\n",
       "      <td>0.0</td>\n",
       "      <td>0.0</td>\n",
       "      <td>0.0</td>\n",
       "      <td>0.0</td>\n",
       "      <td>0.0</td>\n",
       "      <td>0.0</td>\n",
       "      <td>0.0</td>\n",
       "      <td>0.0</td>\n",
       "      <td>0.0</td>\n",
       "    </tr>\n",
       "    <tr>\n",
       "      <th>38852</th>\n",
       "      <td>0.0</td>\n",
       "      <td>1.0</td>\n",
       "      <td>0.0</td>\n",
       "      <td>0.0</td>\n",
       "      <td>0.0</td>\n",
       "      <td>0.0</td>\n",
       "      <td>0.0</td>\n",
       "      <td>0.0</td>\n",
       "      <td>0.0</td>\n",
       "      <td>0.0</td>\n",
       "      <td>...</td>\n",
       "      <td>0.0</td>\n",
       "      <td>0.0</td>\n",
       "      <td>0.0</td>\n",
       "      <td>0.0</td>\n",
       "      <td>0.0</td>\n",
       "      <td>0.0</td>\n",
       "      <td>0.0</td>\n",
       "      <td>0.0</td>\n",
       "      <td>0.0</td>\n",
       "      <td>0.0</td>\n",
       "    </tr>\n",
       "    <tr>\n",
       "      <th>38853</th>\n",
       "      <td>0.0</td>\n",
       "      <td>0.0</td>\n",
       "      <td>0.0</td>\n",
       "      <td>0.0</td>\n",
       "      <td>0.0</td>\n",
       "      <td>0.0</td>\n",
       "      <td>0.0</td>\n",
       "      <td>0.0</td>\n",
       "      <td>0.0</td>\n",
       "      <td>0.0</td>\n",
       "      <td>...</td>\n",
       "      <td>0.0</td>\n",
       "      <td>0.0</td>\n",
       "      <td>0.0</td>\n",
       "      <td>0.0</td>\n",
       "      <td>0.0</td>\n",
       "      <td>0.0</td>\n",
       "      <td>0.0</td>\n",
       "      <td>0.0</td>\n",
       "      <td>0.0</td>\n",
       "      <td>0.0</td>\n",
       "    </tr>\n",
       "  </tbody>\n",
       "</table>\n",
       "<p>38854 rows × 50 columns</p>\n",
       "</div>"
      ],
      "text/plain": [
       "       Bag Stuffer  Best Price Savers  Best Savings  Big Time Discounts  \\\n",
       "0              0.0                0.0           0.0                 0.0   \n",
       "1              0.0                0.0           0.0                 0.0   \n",
       "2              0.0                0.0           0.0                 0.0   \n",
       "3              0.0                0.0           0.0                 0.0   \n",
       "4              0.0                0.0           0.0                 0.0   \n",
       "...            ...                ...           ...                 ...   \n",
       "38849          0.0                0.0           0.0                 0.0   \n",
       "38850          0.0                0.0           0.0                 0.0   \n",
       "38851          0.0                0.0           0.0                 0.0   \n",
       "38852          0.0                1.0           0.0                 0.0   \n",
       "38853          0.0                0.0           0.0                 0.0   \n",
       "\n",
       "       Big Time Saving  Budget Bargains  Coupon Spectacular  Dimes Off  \\\n",
       "0                  0.0              0.0                 0.0        1.0   \n",
       "1                  0.0              1.0                 0.0        0.0   \n",
       "2                  0.0              0.0                 0.0        0.0   \n",
       "3                  0.0              0.0                 0.0        0.0   \n",
       "4                  0.0              0.0                 0.0        0.0   \n",
       "...                ...              ...                 ...        ...   \n",
       "38849              0.0              0.0                 0.0        0.0   \n",
       "38850              0.0              0.0                 0.0        0.0   \n",
       "38851              0.0              0.0                 0.0        0.0   \n",
       "38852              0.0              0.0                 0.0        0.0   \n",
       "38853              0.0              0.0                 0.0        0.0   \n",
       "\n",
       "       Discount Frenzy  Dollar Days  ...  Super Duper Savers  Super Savers  \\\n",
       "0                  0.0          0.0  ...                 0.0           0.0   \n",
       "1                  0.0          0.0  ...                 0.0           0.0   \n",
       "2                  0.0          0.0  ...                 0.0           0.0   \n",
       "3                  0.0          0.0  ...                 0.0           0.0   \n",
       "4                  0.0          0.0  ...                 0.0           0.0   \n",
       "...                ...          ...  ...                 ...           ...   \n",
       "38849              0.0          0.0  ...                 0.0           0.0   \n",
       "38850              1.0          0.0  ...                 0.0           0.0   \n",
       "38851              0.0          0.0  ...                 0.0           0.0   \n",
       "38852              0.0          0.0  ...                 0.0           0.0   \n",
       "38853              0.0          0.0  ...                 0.0           0.0   \n",
       "\n",
       "       Super Wallet Savers  Three for One  Tip Top Savings  Two Day Sale  \\\n",
       "0                      0.0            0.0              0.0           0.0   \n",
       "1                      0.0            0.0              0.0           0.0   \n",
       "2                      0.0            0.0              0.0           0.0   \n",
       "3                      0.0            0.0              0.0           0.0   \n",
       "4                      0.0            0.0              0.0           0.0   \n",
       "...                    ...            ...              ...           ...   \n",
       "38849                  0.0            0.0              0.0           0.0   \n",
       "38850                  0.0            0.0              0.0           0.0   \n",
       "38851                  0.0            0.0              0.0           0.0   \n",
       "38852                  0.0            0.0              0.0           0.0   \n",
       "38853                  0.0            0.0              0.0           0.0   \n",
       "\n",
       "       Two for One  Wallet Savers  Weekend Discount  You Save Days  \n",
       "0              0.0            0.0               0.0            0.0  \n",
       "1              0.0            0.0               0.0            0.0  \n",
       "2              0.0            0.0               0.0            0.0  \n",
       "3              0.0            0.0               0.0            0.0  \n",
       "4              0.0            0.0               0.0            0.0  \n",
       "...            ...            ...               ...            ...  \n",
       "38849          0.0            0.0               0.0            0.0  \n",
       "38850          0.0            0.0               0.0            0.0  \n",
       "38851          0.0            0.0               0.0            0.0  \n",
       "38852          0.0            0.0               0.0            0.0  \n",
       "38853          0.0            0.0               0.0            0.0  \n",
       "\n",
       "[38854 rows x 50 columns]"
      ]
     },
     "execution_count": 118,
     "metadata": {},
     "output_type": "execute_result"
    }
   ],
   "source": [
    "from sklearn.preprocessing import OneHotEncoder\n",
    "ohe = OneHotEncoder(sparse = False )\n",
    "arr = ohe.fit_transform(train[['promotion_name']])\n",
    "transformed_col = pd.DataFrame(arr)\n",
    "transformed_col.columns = ['Bag Stuffer', 'Best Price Savers', 'Best Savings', 'Big Time Discounts', 'Big Time Saving', 'Budget Bargains', 'Coupon Spectacular', 'Dimes Off', 'Discount Frenzy', 'Dollar Days', 'Double Your Savings', 'Fantastic Discounts', 'Full Free', 'GLD', 'Go For It', 'Green Light Special', 'I Cant Believe It Sale', 'Lottery Cash Registerion', 'Money Savers', 'Mystery Sale', 'No Promotion', 'One Day Sale', 'Pick Your Savings', 'Price Cutters', 'Price Destroyers', 'Price Slashers', 'Price Smashers', 'Price Winners', 'Promo Big', 'Roller Savings (High) ', 'Sale : Double Down', 'Sale Sale Sale', 'Sale Winners', 'Sales Days', 'Save It (Sale)', 'Save Price', 'Saving Days', 'Savings Galore', 'Shelf Clearing Days', 'Shelf Emptiers', 'Super Duper Savers', 'Super Savers', 'Super Wallet Savers', 'Three for One', 'Tip Top Savings', 'Two Day Sale', 'Two for One', 'Wallet Savers', 'Weekend Discount', 'You Save Days']\n",
    "transformed_col"
   ]
  },
  {
   "cell_type": "code",
   "execution_count": 119,
   "metadata": {},
   "outputs": [],
   "source": [
    "train = train.join(transformed_col)\n",
    "train.drop('promotion_name',axis = 1 , inplace=True)"
   ]
  },
  {
   "cell_type": "markdown",
   "metadata": {},
   "source": [
    "#### Store Kind column"
   ]
  },
  {
   "cell_type": "code",
   "execution_count": 120,
   "metadata": {},
   "outputs": [
    {
     "name": "stderr",
     "output_type": "stream",
     "text": [
      "c:\\Users\\Abdul\\anaconda3\\lib\\site-packages\\sklearn\\preprocessing\\_encoders.py:972: FutureWarning: `sparse` was renamed to `sparse_output` in version 1.2 and will be removed in 1.4. `sparse_output` is ignored unless you leave `sparse` to its default value.\n",
      "  warnings.warn(\n"
     ]
    },
    {
     "data": {
      "text/html": [
       "<div>\n",
       "<style scoped>\n",
       "    .dataframe tbody tr th:only-of-type {\n",
       "        vertical-align: middle;\n",
       "    }\n",
       "\n",
       "    .dataframe tbody tr th {\n",
       "        vertical-align: top;\n",
       "    }\n",
       "\n",
       "    .dataframe thead th {\n",
       "        text-align: right;\n",
       "    }\n",
       "</style>\n",
       "<table border=\"1\" class=\"dataframe\">\n",
       "  <thead>\n",
       "    <tr style=\"text-align: right;\">\n",
       "      <th></th>\n",
       "      <th>Deluxe</th>\n",
       "      <th>Gourmet</th>\n",
       "      <th>Mid-Size</th>\n",
       "      <th>Small Grocery</th>\n",
       "      <th>Supermarket</th>\n",
       "    </tr>\n",
       "  </thead>\n",
       "  <tbody>\n",
       "    <tr>\n",
       "      <th>0</th>\n",
       "      <td>1.0</td>\n",
       "      <td>0.0</td>\n",
       "      <td>0.0</td>\n",
       "      <td>0.0</td>\n",
       "      <td>0.0</td>\n",
       "    </tr>\n",
       "    <tr>\n",
       "      <th>1</th>\n",
       "      <td>0.0</td>\n",
       "      <td>0.0</td>\n",
       "      <td>0.0</td>\n",
       "      <td>0.0</td>\n",
       "      <td>1.0</td>\n",
       "    </tr>\n",
       "    <tr>\n",
       "      <th>2</th>\n",
       "      <td>0.0</td>\n",
       "      <td>0.0</td>\n",
       "      <td>0.0</td>\n",
       "      <td>0.0</td>\n",
       "      <td>1.0</td>\n",
       "    </tr>\n",
       "    <tr>\n",
       "      <th>3</th>\n",
       "      <td>0.0</td>\n",
       "      <td>0.0</td>\n",
       "      <td>0.0</td>\n",
       "      <td>0.0</td>\n",
       "      <td>1.0</td>\n",
       "    </tr>\n",
       "    <tr>\n",
       "      <th>4</th>\n",
       "      <td>1.0</td>\n",
       "      <td>0.0</td>\n",
       "      <td>0.0</td>\n",
       "      <td>0.0</td>\n",
       "      <td>0.0</td>\n",
       "    </tr>\n",
       "    <tr>\n",
       "      <th>...</th>\n",
       "      <td>...</td>\n",
       "      <td>...</td>\n",
       "      <td>...</td>\n",
       "      <td>...</td>\n",
       "      <td>...</td>\n",
       "    </tr>\n",
       "    <tr>\n",
       "      <th>38849</th>\n",
       "      <td>0.0</td>\n",
       "      <td>0.0</td>\n",
       "      <td>0.0</td>\n",
       "      <td>0.0</td>\n",
       "      <td>1.0</td>\n",
       "    </tr>\n",
       "    <tr>\n",
       "      <th>38850</th>\n",
       "      <td>1.0</td>\n",
       "      <td>0.0</td>\n",
       "      <td>0.0</td>\n",
       "      <td>0.0</td>\n",
       "      <td>0.0</td>\n",
       "    </tr>\n",
       "    <tr>\n",
       "      <th>38851</th>\n",
       "      <td>0.0</td>\n",
       "      <td>0.0</td>\n",
       "      <td>0.0</td>\n",
       "      <td>0.0</td>\n",
       "      <td>1.0</td>\n",
       "    </tr>\n",
       "    <tr>\n",
       "      <th>38852</th>\n",
       "      <td>0.0</td>\n",
       "      <td>0.0</td>\n",
       "      <td>0.0</td>\n",
       "      <td>0.0</td>\n",
       "      <td>1.0</td>\n",
       "    </tr>\n",
       "    <tr>\n",
       "      <th>38853</th>\n",
       "      <td>1.0</td>\n",
       "      <td>0.0</td>\n",
       "      <td>0.0</td>\n",
       "      <td>0.0</td>\n",
       "      <td>0.0</td>\n",
       "    </tr>\n",
       "  </tbody>\n",
       "</table>\n",
       "<p>38854 rows × 5 columns</p>\n",
       "</div>"
      ],
      "text/plain": [
       "       Deluxe  Gourmet  Mid-Size  Small Grocery  Supermarket\n",
       "0         1.0      0.0       0.0            0.0          0.0\n",
       "1         0.0      0.0       0.0            0.0          1.0\n",
       "2         0.0      0.0       0.0            0.0          1.0\n",
       "3         0.0      0.0       0.0            0.0          1.0\n",
       "4         1.0      0.0       0.0            0.0          0.0\n",
       "...       ...      ...       ...            ...          ...\n",
       "38849     0.0      0.0       0.0            0.0          1.0\n",
       "38850     1.0      0.0       0.0            0.0          0.0\n",
       "38851     0.0      0.0       0.0            0.0          1.0\n",
       "38852     0.0      0.0       0.0            0.0          1.0\n",
       "38853     1.0      0.0       0.0            0.0          0.0\n",
       "\n",
       "[38854 rows x 5 columns]"
      ]
     },
     "execution_count": 120,
     "metadata": {},
     "output_type": "execute_result"
    }
   ],
   "source": [
    "from sklearn.preprocessing import OneHotEncoder\n",
    "ohe = OneHotEncoder(sparse = False )\n",
    "arr = ohe.fit_transform(train[['store_kind']])\n",
    "transformed_col = pd.DataFrame(arr)\n",
    "transformed_col.columns = ['Deluxe', 'Gourmet', 'Mid-Size', 'Small Grocery', 'Supermarket']\n",
    "transformed_col"
   ]
  },
  {
   "cell_type": "code",
   "execution_count": 121,
   "metadata": {},
   "outputs": [],
   "source": [
    "train = train.join(transformed_col)\n",
    "train.drop('store_kind',axis = 1 , inplace=True)"
   ]
  },
  {
   "cell_type": "markdown",
   "metadata": {},
   "source": [
    "#### Place Name column"
   ]
  },
  {
   "cell_type": "code",
   "execution_count": 122,
   "metadata": {},
   "outputs": [
    {
     "name": "stderr",
     "output_type": "stream",
     "text": [
      "c:\\Users\\Abdul\\anaconda3\\lib\\site-packages\\sklearn\\preprocessing\\_encoders.py:972: FutureWarning: `sparse` was renamed to `sparse_output` in version 1.2 and will be removed in 1.4. `sparse_output` is ignored unless you leave `sparse` to its default value.\n",
      "  warnings.warn(\n"
     ]
    },
    {
     "data": {
      "text/html": [
       "<div>\n",
       "<style scoped>\n",
       "    .dataframe tbody tr th:only-of-type {\n",
       "        vertical-align: middle;\n",
       "    }\n",
       "\n",
       "    .dataframe tbody tr th {\n",
       "        vertical-align: top;\n",
       "    }\n",
       "\n",
       "    .dataframe thead th {\n",
       "        text-align: right;\n",
       "    }\n",
       "</style>\n",
       "<table border=\"1\" class=\"dataframe\">\n",
       "  <thead>\n",
       "    <tr style=\"text-align: right;\">\n",
       "      <th></th>\n",
       "      <th>BC</th>\n",
       "      <th>CA</th>\n",
       "      <th>DF</th>\n",
       "      <th>GU</th>\n",
       "      <th>JA</th>\n",
       "      <th>OR</th>\n",
       "      <th>VE</th>\n",
       "      <th>WA</th>\n",
       "      <th>YU</th>\n",
       "      <th>ZA</th>\n",
       "    </tr>\n",
       "  </thead>\n",
       "  <tbody>\n",
       "    <tr>\n",
       "      <th>0</th>\n",
       "      <td>0.0</td>\n",
       "      <td>0.0</td>\n",
       "      <td>0.0</td>\n",
       "      <td>0.0</td>\n",
       "      <td>0.0</td>\n",
       "      <td>0.0</td>\n",
       "      <td>0.0</td>\n",
       "      <td>0.0</td>\n",
       "      <td>0.0</td>\n",
       "      <td>1.0</td>\n",
       "    </tr>\n",
       "    <tr>\n",
       "      <th>1</th>\n",
       "      <td>0.0</td>\n",
       "      <td>0.0</td>\n",
       "      <td>0.0</td>\n",
       "      <td>0.0</td>\n",
       "      <td>0.0</td>\n",
       "      <td>0.0</td>\n",
       "      <td>0.0</td>\n",
       "      <td>1.0</td>\n",
       "      <td>0.0</td>\n",
       "      <td>0.0</td>\n",
       "    </tr>\n",
       "    <tr>\n",
       "      <th>2</th>\n",
       "      <td>0.0</td>\n",
       "      <td>1.0</td>\n",
       "      <td>0.0</td>\n",
       "      <td>0.0</td>\n",
       "      <td>0.0</td>\n",
       "      <td>0.0</td>\n",
       "      <td>0.0</td>\n",
       "      <td>0.0</td>\n",
       "      <td>0.0</td>\n",
       "      <td>0.0</td>\n",
       "    </tr>\n",
       "    <tr>\n",
       "      <th>3</th>\n",
       "      <td>0.0</td>\n",
       "      <td>0.0</td>\n",
       "      <td>0.0</td>\n",
       "      <td>0.0</td>\n",
       "      <td>0.0</td>\n",
       "      <td>0.0</td>\n",
       "      <td>0.0</td>\n",
       "      <td>1.0</td>\n",
       "      <td>0.0</td>\n",
       "      <td>0.0</td>\n",
       "    </tr>\n",
       "    <tr>\n",
       "      <th>4</th>\n",
       "      <td>0.0</td>\n",
       "      <td>0.0</td>\n",
       "      <td>0.0</td>\n",
       "      <td>0.0</td>\n",
       "      <td>0.0</td>\n",
       "      <td>0.0</td>\n",
       "      <td>0.0</td>\n",
       "      <td>0.0</td>\n",
       "      <td>1.0</td>\n",
       "      <td>0.0</td>\n",
       "    </tr>\n",
       "    <tr>\n",
       "      <th>...</th>\n",
       "      <td>...</td>\n",
       "      <td>...</td>\n",
       "      <td>...</td>\n",
       "      <td>...</td>\n",
       "      <td>...</td>\n",
       "      <td>...</td>\n",
       "      <td>...</td>\n",
       "      <td>...</td>\n",
       "      <td>...</td>\n",
       "      <td>...</td>\n",
       "    </tr>\n",
       "    <tr>\n",
       "      <th>38849</th>\n",
       "      <td>0.0</td>\n",
       "      <td>0.0</td>\n",
       "      <td>0.0</td>\n",
       "      <td>0.0</td>\n",
       "      <td>0.0</td>\n",
       "      <td>0.0</td>\n",
       "      <td>0.0</td>\n",
       "      <td>0.0</td>\n",
       "      <td>0.0</td>\n",
       "      <td>1.0</td>\n",
       "    </tr>\n",
       "    <tr>\n",
       "      <th>38850</th>\n",
       "      <td>0.0</td>\n",
       "      <td>0.0</td>\n",
       "      <td>0.0</td>\n",
       "      <td>0.0</td>\n",
       "      <td>0.0</td>\n",
       "      <td>0.0</td>\n",
       "      <td>0.0</td>\n",
       "      <td>1.0</td>\n",
       "      <td>0.0</td>\n",
       "      <td>0.0</td>\n",
       "    </tr>\n",
       "    <tr>\n",
       "      <th>38851</th>\n",
       "      <td>0.0</td>\n",
       "      <td>0.0</td>\n",
       "      <td>0.0</td>\n",
       "      <td>0.0</td>\n",
       "      <td>0.0</td>\n",
       "      <td>0.0</td>\n",
       "      <td>0.0</td>\n",
       "      <td>1.0</td>\n",
       "      <td>0.0</td>\n",
       "      <td>0.0</td>\n",
       "    </tr>\n",
       "    <tr>\n",
       "      <th>38852</th>\n",
       "      <td>0.0</td>\n",
       "      <td>0.0</td>\n",
       "      <td>0.0</td>\n",
       "      <td>0.0</td>\n",
       "      <td>0.0</td>\n",
       "      <td>0.0</td>\n",
       "      <td>0.0</td>\n",
       "      <td>1.0</td>\n",
       "      <td>0.0</td>\n",
       "      <td>0.0</td>\n",
       "    </tr>\n",
       "    <tr>\n",
       "      <th>38853</th>\n",
       "      <td>1.0</td>\n",
       "      <td>0.0</td>\n",
       "      <td>0.0</td>\n",
       "      <td>0.0</td>\n",
       "      <td>0.0</td>\n",
       "      <td>0.0</td>\n",
       "      <td>0.0</td>\n",
       "      <td>0.0</td>\n",
       "      <td>0.0</td>\n",
       "      <td>0.0</td>\n",
       "    </tr>\n",
       "  </tbody>\n",
       "</table>\n",
       "<p>38854 rows × 10 columns</p>\n",
       "</div>"
      ],
      "text/plain": [
       "        BC   CA   DF   GU   JA   OR   VE   WA   YU   ZA\n",
       "0      0.0  0.0  0.0  0.0  0.0  0.0  0.0  0.0  0.0  1.0\n",
       "1      0.0  0.0  0.0  0.0  0.0  0.0  0.0  1.0  0.0  0.0\n",
       "2      0.0  1.0  0.0  0.0  0.0  0.0  0.0  0.0  0.0  0.0\n",
       "3      0.0  0.0  0.0  0.0  0.0  0.0  0.0  1.0  0.0  0.0\n",
       "4      0.0  0.0  0.0  0.0  0.0  0.0  0.0  0.0  1.0  0.0\n",
       "...    ...  ...  ...  ...  ...  ...  ...  ...  ...  ...\n",
       "38849  0.0  0.0  0.0  0.0  0.0  0.0  0.0  0.0  0.0  1.0\n",
       "38850  0.0  0.0  0.0  0.0  0.0  0.0  0.0  1.0  0.0  0.0\n",
       "38851  0.0  0.0  0.0  0.0  0.0  0.0  0.0  1.0  0.0  0.0\n",
       "38852  0.0  0.0  0.0  0.0  0.0  0.0  0.0  1.0  0.0  0.0\n",
       "38853  1.0  0.0  0.0  0.0  0.0  0.0  0.0  0.0  0.0  0.0\n",
       "\n",
       "[38854 rows x 10 columns]"
      ]
     },
     "execution_count": 122,
     "metadata": {},
     "output_type": "execute_result"
    }
   ],
   "source": [
    "from sklearn.preprocessing import OneHotEncoder\n",
    "ohe = OneHotEncoder(sparse = False )\n",
    "arr = ohe.fit_transform(train[['place_name']])\n",
    "transformed_col = pd.DataFrame(arr)\n",
    "transformed_col.columns = ['BC','CA','DF','GU','JA','OR','VE','WA','YU','ZA']\n",
    "transformed_col"
   ]
  },
  {
   "cell_type": "code",
   "execution_count": 123,
   "metadata": {},
   "outputs": [],
   "source": [
    "train = train.join(transformed_col)\n",
    "train.drop('place_name',axis = 1 , inplace=True)"
   ]
  },
  {
   "cell_type": "code",
   "execution_count": 124,
   "metadata": {},
   "outputs": [
    {
     "data": {
      "text/html": [
       "<div>\n",
       "<style scoped>\n",
       "    .dataframe tbody tr th:only-of-type {\n",
       "        vertical-align: middle;\n",
       "    }\n",
       "\n",
       "    .dataframe tbody tr th {\n",
       "        vertical-align: top;\n",
       "    }\n",
       "\n",
       "    .dataframe thead th {\n",
       "        text-align: right;\n",
       "    }\n",
       "</style>\n",
       "<table border=\"1\" class=\"dataframe\">\n",
       "  <thead>\n",
       "    <tr style=\"text-align: right;\">\n",
       "      <th></th>\n",
       "      <th>unnamed:_0</th>\n",
       "      <th>person_description</th>\n",
       "      <th>place_code</th>\n",
       "      <th>customer_order</th>\n",
       "      <th>additional_features_in_market</th>\n",
       "      <th>promotion_name</th>\n",
       "      <th>store_kind</th>\n",
       "      <th>store_sales</th>\n",
       "      <th>store_cost</th>\n",
       "      <th>gross_weight</th>\n",
       "      <th>net_weight</th>\n",
       "      <th>package_weight</th>\n",
       "      <th>is_recyclable?</th>\n",
       "      <th>yearly_income</th>\n",
       "      <th>store_area</th>\n",
       "      <th>grocery_area</th>\n",
       "      <th>frozen_area</th>\n",
       "      <th>meat_area</th>\n",
       "    </tr>\n",
       "  </thead>\n",
       "  <tbody>\n",
       "    <tr>\n",
       "      <th>0</th>\n",
       "      <td>0</td>\n",
       "      <td>Single Male with four children, education: par...</td>\n",
       "      <td>B06ls_CA</td>\n",
       "      <td>Candy from Snacks department, Ordered Brand : ...</td>\n",
       "      <td>['Florist', 'Ready Food', 'Video Store', 'Bar ...</td>\n",
       "      <td>Fantastic Discounts</td>\n",
       "      <td>Gourmet</td>\n",
       "      <td>11.76 Millions</td>\n",
       "      <td>4.704 Millions</td>\n",
       "      <td>31.8337</td>\n",
       "      <td>28.7811</td>\n",
       "      <td>3.0525</td>\n",
       "      <td>yes</td>\n",
       "      <td>50K+</td>\n",
       "      <td>2201.06</td>\n",
       "      <td>1424.85</td>\n",
       "      <td>465.54</td>\n",
       "      <td>308.73</td>\n",
       "    </tr>\n",
       "    <tr>\n",
       "      <th>1</th>\n",
       "      <td>1</td>\n",
       "      <td>Married Female with three children, education:...</td>\n",
       "      <td>S01em_OR</td>\n",
       "      <td>Vegetables from Frozen Foods department, Order...</td>\n",
       "      <td>['Florist', 'Coffee Bar', 'Ready Food', 'Bar F...</td>\n",
       "      <td>Bag Stuffer</td>\n",
       "      <td>Deluxe</td>\n",
       "      <td>2.16 Millions</td>\n",
       "      <td>0.6696 Millions</td>\n",
       "      <td>29.9440</td>\n",
       "      <td>27.0368</td>\n",
       "      <td>2.9072</td>\n",
       "      <td>no</td>\n",
       "      <td>70K+</td>\n",
       "      <td>2577.16</td>\n",
       "      <td>1735.17</td>\n",
       "      <td>505.07</td>\n",
       "      <td>336.59</td>\n",
       "    </tr>\n",
       "    <tr>\n",
       "      <th>2</th>\n",
       "      <td>2</td>\n",
       "      <td>Single Female with three children, education: ...</td>\n",
       "      <td>H11go_ZA</td>\n",
       "      <td>Dairy from Dairy department, Ordered Brand : Club</td>\n",
       "      <td>['Bar For Salad', 'Video Store', 'Ready Food',...</td>\n",
       "      <td>Pick Your Savings</td>\n",
       "      <td>Deluxe</td>\n",
       "      <td>1.83 Millions</td>\n",
       "      <td>0.8235 Millions</td>\n",
       "      <td>29.2172</td>\n",
       "      <td>26.3100</td>\n",
       "      <td>2.9072</td>\n",
       "      <td>no</td>\n",
       "      <td>130K+</td>\n",
       "      <td>2837.58</td>\n",
       "      <td>2038.11</td>\n",
       "      <td>481.98</td>\n",
       "      <td>321.26</td>\n",
       "    </tr>\n",
       "    <tr>\n",
       "      <th>3</th>\n",
       "      <td>3</td>\n",
       "      <td>Single Male with three children, education: pa...</td>\n",
       "      <td>M10da_YU</td>\n",
       "      <td>Frozen Desserts from Frozen Foods department, ...</td>\n",
       "      <td>['Coffee Bar', 'Video Store', 'Bar For Salad',...</td>\n",
       "      <td>Price Winners</td>\n",
       "      <td>Deluxe</td>\n",
       "      <td>8.82 Millions</td>\n",
       "      <td>4.41 Millions</td>\n",
       "      <td>28.0543</td>\n",
       "      <td>25.0018</td>\n",
       "      <td>3.0525</td>\n",
       "      <td>no</td>\n",
       "      <td>10K+</td>\n",
       "      <td>2859.04</td>\n",
       "      <td>1871.16</td>\n",
       "      <td>593.93</td>\n",
       "      <td>394.58</td>\n",
       "    </tr>\n",
       "    <tr>\n",
       "      <th>4</th>\n",
       "      <td>4</td>\n",
       "      <td>Single Male with two children, education: high...</td>\n",
       "      <td>L05es_CA</td>\n",
       "      <td>Hot Beverages from Beverages department, Order...</td>\n",
       "      <td>['Florist']</td>\n",
       "      <td>Dollar Days</td>\n",
       "      <td>Supermarket</td>\n",
       "      <td>4.32 Millions</td>\n",
       "      <td>1.9872 Millions</td>\n",
       "      <td>23.5482</td>\n",
       "      <td>20.6410</td>\n",
       "      <td>2.9072</td>\n",
       "      <td>no</td>\n",
       "      <td>30K+</td>\n",
       "      <td>2193.97</td>\n",
       "      <td>1320.15</td>\n",
       "      <td>523.32</td>\n",
       "      <td>348.85</td>\n",
       "    </tr>\n",
       "  </tbody>\n",
       "</table>\n",
       "</div>"
      ],
      "text/plain": [
       "   unnamed:_0                                 person_description place_code  \\\n",
       "0           0  Single Male with four children, education: par...   B06ls_CA   \n",
       "1           1  Married Female with three children, education:...   S01em_OR   \n",
       "2           2  Single Female with three children, education: ...   H11go_ZA   \n",
       "3           3  Single Male with three children, education: pa...   M10da_YU   \n",
       "4           4  Single Male with two children, education: high...   L05es_CA   \n",
       "\n",
       "                                      customer_order  \\\n",
       "0  Candy from Snacks department, Ordered Brand : ...   \n",
       "1  Vegetables from Frozen Foods department, Order...   \n",
       "2  Dairy from Dairy department, Ordered Brand : Club   \n",
       "3  Frozen Desserts from Frozen Foods department, ...   \n",
       "4  Hot Beverages from Beverages department, Order...   \n",
       "\n",
       "                       additional_features_in_market       promotion_name  \\\n",
       "0  ['Florist', 'Ready Food', 'Video Store', 'Bar ...  Fantastic Discounts   \n",
       "1  ['Florist', 'Coffee Bar', 'Ready Food', 'Bar F...          Bag Stuffer   \n",
       "2  ['Bar For Salad', 'Video Store', 'Ready Food',...    Pick Your Savings   \n",
       "3  ['Coffee Bar', 'Video Store', 'Bar For Salad',...        Price Winners   \n",
       "4                                        ['Florist']          Dollar Days   \n",
       "\n",
       "    store_kind     store_sales       store_cost  gross_weight  net_weight  \\\n",
       "0      Gourmet  11.76 Millions   4.704 Millions       31.8337     28.7811   \n",
       "1       Deluxe   2.16 Millions  0.6696 Millions       29.9440     27.0368   \n",
       "2       Deluxe   1.83 Millions  0.8235 Millions       29.2172     26.3100   \n",
       "3       Deluxe   8.82 Millions    4.41 Millions       28.0543     25.0018   \n",
       "4  Supermarket   4.32 Millions  1.9872 Millions       23.5482     20.6410   \n",
       "\n",
       "   package_weight is_recyclable? yearly_income  store_area  grocery_area  \\\n",
       "0          3.0525            yes          50K+     2201.06       1424.85   \n",
       "1          2.9072             no          70K+     2577.16       1735.17   \n",
       "2          2.9072             no         130K+     2837.58       2038.11   \n",
       "3          3.0525             no          10K+     2859.04       1871.16   \n",
       "4          2.9072             no          30K+     2193.97       1320.15   \n",
       "\n",
       "   frozen_area  meat_area  \n",
       "0       465.54     308.73  \n",
       "1       505.07     336.59  \n",
       "2       481.98     321.26  \n",
       "3       593.93     394.58  \n",
       "4       523.32     348.85  "
      ]
     },
     "execution_count": 124,
     "metadata": {},
     "output_type": "execute_result"
    }
   ],
   "source": [
    "test.head(5)"
   ]
  },
  {
   "cell_type": "markdown",
   "metadata": {},
   "source": [
    "### Test data"
   ]
  },
  {
   "cell_type": "code",
   "execution_count": 125,
   "metadata": {},
   "outputs": [],
   "source": [
    "test_ids = test['unnamed:_0']"
   ]
  },
  {
   "cell_type": "code",
   "execution_count": 126,
   "metadata": {},
   "outputs": [],
   "source": [
    "test.drop(['unnamed:_0'], axis=1, inplace=True)"
   ]
  },
  {
   "cell_type": "code",
   "execution_count": 127,
   "metadata": {},
   "outputs": [
    {
     "data": {
      "text/plain": [
       "0"
      ]
     },
     "execution_count": 127,
     "metadata": {},
     "output_type": "execute_result"
    }
   ],
   "source": [
    "test.duplicated().sum()"
   ]
  },
  {
   "cell_type": "markdown",
   "metadata": {},
   "source": [
    "### Cleaning the test data"
   ]
  },
  {
   "cell_type": "code",
   "execution_count": 128,
   "metadata": {},
   "outputs": [],
   "source": [
    "test['person_description'] = test['person_description'].str.split(' ')"
   ]
  },
  {
   "cell_type": "code",
   "execution_count": 129,
   "metadata": {},
   "outputs": [],
   "source": [
    "test['marital_status'] = test['person_description'].apply(lambda x: x[0])\n",
    "test['gender'] = test['person_description'].apply(lambda x: x[1])\n",
    "test['number_of_children'] = test['person_description'].apply(lambda x: x[3])\n",
    "test['profession'] = test['person_description'].apply(lambda x: x[-1]) "
   ]
  },
  {
   "cell_type": "code",
   "execution_count": 130,
   "metadata": {},
   "outputs": [],
   "source": [
    "test['marital_status'] = test['marital_status'].apply(lambda x: 1 if x == 'Married' else 0)\n",
    "test['gender'] = test['gender'].apply(lambda x: 1 if x == 'Male' else 0)"
   ]
  },
  {
   "cell_type": "code",
   "execution_count": 131,
   "metadata": {},
   "outputs": [],
   "source": [
    "test.drop('person_description', axis=1, inplace=True)  "
   ]
  },
  {
   "cell_type": "code",
   "execution_count": 132,
   "metadata": {},
   "outputs": [],
   "source": [
    "test[['place_id', 'place_name']] = test['place_code'].str.split('_', expand=True)"
   ]
  },
  {
   "cell_type": "code",
   "execution_count": 133,
   "metadata": {},
   "outputs": [],
   "source": [
    "test.drop('place_code', axis=1, inplace=True)\n",
    "test.drop('place_id', axis=1, inplace=True)"
   ]
  },
  {
   "cell_type": "code",
   "execution_count": 134,
   "metadata": {},
   "outputs": [],
   "source": [
    "test[['department','brand']] = test['customer_order'].str.split(',', expand=True)"
   ]
  },
  {
   "cell_type": "code",
   "execution_count": 135,
   "metadata": {},
   "outputs": [],
   "source": [
    "test[['x','department']] = test['department'].str.split('from', expand=True)"
   ]
  },
  {
   "cell_type": "code",
   "execution_count": 136,
   "metadata": {},
   "outputs": [],
   "source": [
    "test['department'] = test['department'].str.strip(' ')"
   ]
  },
  {
   "cell_type": "code",
   "execution_count": 137,
   "metadata": {},
   "outputs": [],
   "source": [
    "test.drop(columns=['customer_order', 'x','brand'], axis=1, inplace=True)"
   ]
  },
  {
   "cell_type": "code",
   "execution_count": 138,
   "metadata": {},
   "outputs": [],
   "source": [
    "test['additional_features_in_market'] = test['additional_features_in_market'].str.replace('[', '')\n",
    "test['additional_features_in_market'] = test['additional_features_in_market'].str.replace(']', '')\n",
    "test['additional_features_in_market'] = test['additional_features_in_market'].str.replace(\",\", '')\n",
    "test['additional_features_in_market'] = test['additional_features_in_market'].str.replace(\"'\", '')"
   ]
  },
  {
   "cell_type": "code",
   "execution_count": 139,
   "metadata": {},
   "outputs": [],
   "source": [
    "test['additional_features_in_market'] = test['additional_features_in_market'].astype(str)\n",
    "test['additional_features_in_market'] = test['additional_features_in_market'].str.lower()"
   ]
  },
  {
   "cell_type": "code",
   "execution_count": 140,
   "metadata": {},
   "outputs": [],
   "source": [
    "test['florist_feature'] = test['additional_features_in_market'].str.contains('florist').astype(int)\n",
    "test['video_store_feature'] = test['additional_features_in_market'].str.contains('video store').astype(int)\n",
    "test['coffee_bar_feature'] = test['additional_features_in_market'].str.contains('coffee bar').astype(int)     \n",
    "test['bar_for_salad_feature'] = test['additional_features_in_market'].str.contains('bar for salad').astype(int)\n",
    "test['ready_food_feature'] = test['additional_features_in_market'].str.contains('ready food').astype(int)"
   ]
  },
  {
   "cell_type": "code",
   "execution_count": 141,
   "metadata": {},
   "outputs": [],
   "source": [
    "test.drop('additional_features_in_market', axis=1, inplace=True)"
   ]
  },
  {
   "cell_type": "code",
   "execution_count": 142,
   "metadata": {},
   "outputs": [],
   "source": [
    "test['store_sales'] = test['store_sales'].str.replace('Millions', '')\n",
    "test['store_sales'] = test['store_sales'].str.replace('M', '')"
   ]
  },
  {
   "cell_type": "code",
   "execution_count": 143,
   "metadata": {},
   "outputs": [],
   "source": [
    "test['store_sales'] = test['store_sales'].str.strip(' ')"
   ]
  },
  {
   "cell_type": "code",
   "execution_count": 144,
   "metadata": {},
   "outputs": [],
   "source": [
    "test['store_sales'] = test['store_sales'].astype(float)"
   ]
  },
  {
   "cell_type": "code",
   "execution_count": 145,
   "metadata": {},
   "outputs": [],
   "source": [
    "test['store_cost'] = test['store_cost'].str.replace('Millions', '')\n",
    "test['store_cost'] = test['store_cost'].str.replace('M', '')"
   ]
  },
  {
   "cell_type": "code",
   "execution_count": 146,
   "metadata": {},
   "outputs": [],
   "source": [
    "test['store_cost'] = test['store_cost'].str.strip(' ')"
   ]
  },
  {
   "cell_type": "code",
   "execution_count": 147,
   "metadata": {},
   "outputs": [],
   "source": [
    "test['store_cost'] = test['store_cost'].astype(float)"
   ]
  },
  {
   "cell_type": "code",
   "execution_count": 148,
   "metadata": {},
   "outputs": [],
   "source": [
    "test['is_recyclable?'] = test['is_recyclable?'].replace('recyclable', 1)\n",
    "test['is_recyclable?'] = test['is_recyclable?'].replace('non recyclable', 0)\n",
    "test['is_recyclable?'] = test['is_recyclable?'].replace('yes', 1)\n",
    "test['is_recyclable?'] = test['is_recyclable?'].replace('no', 0)"
   ]
  },
  {
   "cell_type": "code",
   "execution_count": 149,
   "metadata": {},
   "outputs": [],
   "source": [
    "test['yearly_income'] = test['yearly_income'].str.strip('.')"
   ]
  },
  {
   "cell_type": "code",
   "execution_count": 150,
   "metadata": {},
   "outputs": [],
   "source": [
    "test['store_area'] = pd.to_numeric(test['store_area'], errors='coerce')"
   ]
  },
  {
   "cell_type": "code",
   "execution_count": 151,
   "metadata": {},
   "outputs": [],
   "source": [
    "test['grocery_area'] = pd.to_numeric(test['grocery_area'], errors='coerce')"
   ]
  },
  {
   "cell_type": "code",
   "execution_count": 152,
   "metadata": {},
   "outputs": [],
   "source": [
    "test['frozen_area'] = pd.to_numeric(test['frozen_area'], errors='coerce')"
   ]
  },
  {
   "cell_type": "code",
   "execution_count": 153,
   "metadata": {},
   "outputs": [],
   "source": [
    "test['meat_area'] = pd.to_numeric(test['meat_area'], errors='coerce')"
   ]
  },
  {
   "cell_type": "markdown",
   "metadata": {},
   "source": [
    "### Handling outliers"
   ]
  },
  {
   "cell_type": "code",
   "execution_count": 154,
   "metadata": {},
   "outputs": [],
   "source": [
    "num_cols = test[['store_sales','store_cost','grocery_area','frozen_area','meat_area','gross_weight','net_weight','package_weight']]\n",
    "test.drop(num_cols, axis=1, inplace=True)"
   ]
  },
  {
   "cell_type": "code",
   "execution_count": 155,
   "metadata": {},
   "outputs": [],
   "source": [
    "detect_outliers(num_cols)"
   ]
  },
  {
   "cell_type": "code",
   "execution_count": 156,
   "metadata": {},
   "outputs": [],
   "source": [
    "test = pd.concat([test, num_cols], axis=1)"
   ]
  },
  {
   "cell_type": "markdown",
   "metadata": {},
   "source": [
    "### Handling null values"
   ]
  },
  {
   "cell_type": "code",
   "execution_count": 157,
   "metadata": {},
   "outputs": [],
   "source": [
    "categories = ['Deluxe', 'Supermarket', 'Gourmet', 'Mid-Size', 'Small Grocery']\n",
    "\n",
    "for i in range(len(test)):\n",
    "    if pd.isna(test.loc[i, 'store_kind']):\n",
    "        decision = np.random.choice(categories, p=[0.433033,0.381287,0.107547,0.045300,0.032833])\n",
    "        train.loc[i, 'store_kind'] = decision"
   ]
  },
  {
   "cell_type": "code",
   "execution_count": 158,
   "metadata": {},
   "outputs": [],
   "source": [
    "test['promotion_name'].fillna('No Promotion', inplace=True)"
   ]
  },
  {
   "cell_type": "code",
   "execution_count": 159,
   "metadata": {},
   "outputs": [],
   "source": [
    "test['store_sales'].fillna(train['store_sales'].mean(), inplace=True)"
   ]
  },
  {
   "cell_type": "code",
   "execution_count": 160,
   "metadata": {},
   "outputs": [],
   "source": [
    "test['store_cost'].fillna(train['store_cost'].mean(), inplace=True)"
   ]
  },
  {
   "cell_type": "code",
   "execution_count": 161,
   "metadata": {},
   "outputs": [],
   "source": [
    "test['is_recyclable?'].fillna(1, inplace=True)"
   ]
  },
  {
   "cell_type": "code",
   "execution_count": 162,
   "metadata": {},
   "outputs": [],
   "source": [
    "test['yearly_income'].fillna('30K+', inplace=True)"
   ]
  },
  {
   "cell_type": "code",
   "execution_count": 163,
   "metadata": {},
   "outputs": [],
   "source": [
    "test['grocery_area'].fillna(train['grocery_area'].mean(), inplace=True)\n",
    "test['frozen_area'].fillna(train['frozen_area'].mean(), inplace=True)"
   ]
  },
  {
   "cell_type": "code",
   "execution_count": 164,
   "metadata": {},
   "outputs": [],
   "source": [
    "test.drop(columns=['store_area','meat_area'], axis=1, inplace=True)  "
   ]
  },
  {
   "cell_type": "code",
   "execution_count": 165,
   "metadata": {},
   "outputs": [],
   "source": [
    "test.drop(columns=['gross_weight', 'package_weight'], axis=1, inplace=True)"
   ]
  },
  {
   "cell_type": "code",
   "execution_count": 166,
   "metadata": {},
   "outputs": [],
   "source": [
    "test['net_weight'].fillna(train['net_weight'].mean(), inplace=True)"
   ]
  },
  {
   "cell_type": "code",
   "execution_count": 167,
   "metadata": {},
   "outputs": [],
   "source": [
    "test['department'].fillna('Produce department', inplace=True)"
   ]
  },
  {
   "cell_type": "code",
   "execution_count": 168,
   "metadata": {},
   "outputs": [],
   "source": [
    "test.drop('bar_for_salad_feature', axis=1, inplace=True)"
   ]
  },
  {
   "cell_type": "markdown",
   "metadata": {},
   "source": [
    "### Feature Engineering and Selection"
   ]
  },
  {
   "cell_type": "code",
   "execution_count": 169,
   "metadata": {},
   "outputs": [],
   "source": [
    "test.drop('is_recyclable?', axis=1, inplace=True)"
   ]
  },
  {
   "cell_type": "code",
   "execution_count": 170,
   "metadata": {},
   "outputs": [],
   "source": [
    "test.drop('yearly_income', axis=1, inplace=True)"
   ]
  },
  {
   "cell_type": "code",
   "execution_count": 171,
   "metadata": {},
   "outputs": [],
   "source": [
    "test.drop('department', axis=1, inplace=True)"
   ]
  },
  {
   "cell_type": "code",
   "execution_count": 172,
   "metadata": {},
   "outputs": [],
   "source": [
    "test.drop('number_of_children', axis=1, inplace=True)"
   ]
  },
  {
   "cell_type": "code",
   "execution_count": 173,
   "metadata": {},
   "outputs": [],
   "source": [
    "test.drop('profession', axis=1, inplace=True)"
   ]
  },
  {
   "cell_type": "code",
   "execution_count": 174,
   "metadata": {},
   "outputs": [],
   "source": [
    "test.drop('marital_status', axis=1, inplace=True)\n",
    "test.drop('gender', axis=1, inplace=True)"
   ]
  },
  {
   "cell_type": "code",
   "execution_count": 175,
   "metadata": {},
   "outputs": [],
   "source": [
    "train.drop(columns = ['florist_feature','video_store_feature','coffee_bar_feature','ready_food_feature'], axis=1, inplace=True)\n",
    "test.drop(columns = ['florist_feature','video_store_feature','coffee_bar_feature','ready_food_feature'], axis=1, inplace=True)"
   ]
  },
  {
   "cell_type": "markdown",
   "metadata": {},
   "source": [
    "### Encoding the categorical columns"
   ]
  },
  {
   "cell_type": "code",
   "execution_count": 176,
   "metadata": {},
   "outputs": [
    {
     "name": "stderr",
     "output_type": "stream",
     "text": [
      "c:\\Users\\Abdul\\anaconda3\\lib\\site-packages\\sklearn\\preprocessing\\_encoders.py:972: FutureWarning: `sparse` was renamed to `sparse_output` in version 1.2 and will be removed in 1.4. `sparse_output` is ignored unless you leave `sparse` to its default value.\n",
      "  warnings.warn(\n"
     ]
    },
    {
     "data": {
      "text/html": [
       "<div>\n",
       "<style scoped>\n",
       "    .dataframe tbody tr th:only-of-type {\n",
       "        vertical-align: middle;\n",
       "    }\n",
       "\n",
       "    .dataframe tbody tr th {\n",
       "        vertical-align: top;\n",
       "    }\n",
       "\n",
       "    .dataframe thead th {\n",
       "        text-align: right;\n",
       "    }\n",
       "</style>\n",
       "<table border=\"1\" class=\"dataframe\">\n",
       "  <thead>\n",
       "    <tr style=\"text-align: right;\">\n",
       "      <th></th>\n",
       "      <th>Bag Stuffer</th>\n",
       "      <th>Best Price Savers</th>\n",
       "      <th>Best Savings</th>\n",
       "      <th>Big Time Discounts</th>\n",
       "      <th>Big Time Saving</th>\n",
       "      <th>Budget Bargains</th>\n",
       "      <th>Coupon Spectacular</th>\n",
       "      <th>Dimes Off</th>\n",
       "      <th>Discount Frenzy</th>\n",
       "      <th>Dollar Days</th>\n",
       "      <th>...</th>\n",
       "      <th>Super Duper Savers</th>\n",
       "      <th>Super Savers</th>\n",
       "      <th>Super Wallet Savers</th>\n",
       "      <th>Three for One</th>\n",
       "      <th>Tip Top Savings</th>\n",
       "      <th>Two Day Sale</th>\n",
       "      <th>Two for One</th>\n",
       "      <th>Wallet Savers</th>\n",
       "      <th>Weekend Discount</th>\n",
       "      <th>You Save Days</th>\n",
       "    </tr>\n",
       "  </thead>\n",
       "  <tbody>\n",
       "    <tr>\n",
       "      <th>0</th>\n",
       "      <td>0.0</td>\n",
       "      <td>0.0</td>\n",
       "      <td>0.0</td>\n",
       "      <td>0.0</td>\n",
       "      <td>0.0</td>\n",
       "      <td>0.0</td>\n",
       "      <td>0.0</td>\n",
       "      <td>0.0</td>\n",
       "      <td>0.0</td>\n",
       "      <td>0.0</td>\n",
       "      <td>...</td>\n",
       "      <td>0.0</td>\n",
       "      <td>0.0</td>\n",
       "      <td>0.0</td>\n",
       "      <td>0.0</td>\n",
       "      <td>0.0</td>\n",
       "      <td>0.0</td>\n",
       "      <td>0.0</td>\n",
       "      <td>0.0</td>\n",
       "      <td>0.0</td>\n",
       "      <td>0.0</td>\n",
       "    </tr>\n",
       "    <tr>\n",
       "      <th>1</th>\n",
       "      <td>1.0</td>\n",
       "      <td>0.0</td>\n",
       "      <td>0.0</td>\n",
       "      <td>0.0</td>\n",
       "      <td>0.0</td>\n",
       "      <td>0.0</td>\n",
       "      <td>0.0</td>\n",
       "      <td>0.0</td>\n",
       "      <td>0.0</td>\n",
       "      <td>0.0</td>\n",
       "      <td>...</td>\n",
       "      <td>0.0</td>\n",
       "      <td>0.0</td>\n",
       "      <td>0.0</td>\n",
       "      <td>0.0</td>\n",
       "      <td>0.0</td>\n",
       "      <td>0.0</td>\n",
       "      <td>0.0</td>\n",
       "      <td>0.0</td>\n",
       "      <td>0.0</td>\n",
       "      <td>0.0</td>\n",
       "    </tr>\n",
       "    <tr>\n",
       "      <th>2</th>\n",
       "      <td>0.0</td>\n",
       "      <td>0.0</td>\n",
       "      <td>0.0</td>\n",
       "      <td>0.0</td>\n",
       "      <td>0.0</td>\n",
       "      <td>0.0</td>\n",
       "      <td>0.0</td>\n",
       "      <td>0.0</td>\n",
       "      <td>0.0</td>\n",
       "      <td>0.0</td>\n",
       "      <td>...</td>\n",
       "      <td>0.0</td>\n",
       "      <td>0.0</td>\n",
       "      <td>0.0</td>\n",
       "      <td>0.0</td>\n",
       "      <td>0.0</td>\n",
       "      <td>0.0</td>\n",
       "      <td>0.0</td>\n",
       "      <td>0.0</td>\n",
       "      <td>0.0</td>\n",
       "      <td>0.0</td>\n",
       "    </tr>\n",
       "    <tr>\n",
       "      <th>3</th>\n",
       "      <td>0.0</td>\n",
       "      <td>0.0</td>\n",
       "      <td>0.0</td>\n",
       "      <td>0.0</td>\n",
       "      <td>0.0</td>\n",
       "      <td>0.0</td>\n",
       "      <td>0.0</td>\n",
       "      <td>0.0</td>\n",
       "      <td>0.0</td>\n",
       "      <td>0.0</td>\n",
       "      <td>...</td>\n",
       "      <td>0.0</td>\n",
       "      <td>0.0</td>\n",
       "      <td>0.0</td>\n",
       "      <td>0.0</td>\n",
       "      <td>0.0</td>\n",
       "      <td>0.0</td>\n",
       "      <td>0.0</td>\n",
       "      <td>0.0</td>\n",
       "      <td>0.0</td>\n",
       "      <td>0.0</td>\n",
       "    </tr>\n",
       "    <tr>\n",
       "      <th>4</th>\n",
       "      <td>0.0</td>\n",
       "      <td>0.0</td>\n",
       "      <td>0.0</td>\n",
       "      <td>0.0</td>\n",
       "      <td>0.0</td>\n",
       "      <td>0.0</td>\n",
       "      <td>0.0</td>\n",
       "      <td>0.0</td>\n",
       "      <td>0.0</td>\n",
       "      <td>1.0</td>\n",
       "      <td>...</td>\n",
       "      <td>0.0</td>\n",
       "      <td>0.0</td>\n",
       "      <td>0.0</td>\n",
       "      <td>0.0</td>\n",
       "      <td>0.0</td>\n",
       "      <td>0.0</td>\n",
       "      <td>0.0</td>\n",
       "      <td>0.0</td>\n",
       "      <td>0.0</td>\n",
       "      <td>0.0</td>\n",
       "    </tr>\n",
       "    <tr>\n",
       "      <th>...</th>\n",
       "      <td>...</td>\n",
       "      <td>...</td>\n",
       "      <td>...</td>\n",
       "      <td>...</td>\n",
       "      <td>...</td>\n",
       "      <td>...</td>\n",
       "      <td>...</td>\n",
       "      <td>...</td>\n",
       "      <td>...</td>\n",
       "      <td>...</td>\n",
       "      <td>...</td>\n",
       "      <td>...</td>\n",
       "      <td>...</td>\n",
       "      <td>...</td>\n",
       "      <td>...</td>\n",
       "      <td>...</td>\n",
       "      <td>...</td>\n",
       "      <td>...</td>\n",
       "      <td>...</td>\n",
       "      <td>...</td>\n",
       "      <td>...</td>\n",
       "    </tr>\n",
       "    <tr>\n",
       "      <th>19937</th>\n",
       "      <td>0.0</td>\n",
       "      <td>0.0</td>\n",
       "      <td>0.0</td>\n",
       "      <td>0.0</td>\n",
       "      <td>0.0</td>\n",
       "      <td>0.0</td>\n",
       "      <td>0.0</td>\n",
       "      <td>0.0</td>\n",
       "      <td>0.0</td>\n",
       "      <td>0.0</td>\n",
       "      <td>...</td>\n",
       "      <td>0.0</td>\n",
       "      <td>0.0</td>\n",
       "      <td>0.0</td>\n",
       "      <td>0.0</td>\n",
       "      <td>0.0</td>\n",
       "      <td>0.0</td>\n",
       "      <td>1.0</td>\n",
       "      <td>0.0</td>\n",
       "      <td>0.0</td>\n",
       "      <td>0.0</td>\n",
       "    </tr>\n",
       "    <tr>\n",
       "      <th>19938</th>\n",
       "      <td>0.0</td>\n",
       "      <td>1.0</td>\n",
       "      <td>0.0</td>\n",
       "      <td>0.0</td>\n",
       "      <td>0.0</td>\n",
       "      <td>0.0</td>\n",
       "      <td>0.0</td>\n",
       "      <td>0.0</td>\n",
       "      <td>0.0</td>\n",
       "      <td>0.0</td>\n",
       "      <td>...</td>\n",
       "      <td>0.0</td>\n",
       "      <td>0.0</td>\n",
       "      <td>0.0</td>\n",
       "      <td>0.0</td>\n",
       "      <td>0.0</td>\n",
       "      <td>0.0</td>\n",
       "      <td>0.0</td>\n",
       "      <td>0.0</td>\n",
       "      <td>0.0</td>\n",
       "      <td>0.0</td>\n",
       "    </tr>\n",
       "    <tr>\n",
       "      <th>19939</th>\n",
       "      <td>0.0</td>\n",
       "      <td>0.0</td>\n",
       "      <td>1.0</td>\n",
       "      <td>0.0</td>\n",
       "      <td>0.0</td>\n",
       "      <td>0.0</td>\n",
       "      <td>0.0</td>\n",
       "      <td>0.0</td>\n",
       "      <td>0.0</td>\n",
       "      <td>0.0</td>\n",
       "      <td>...</td>\n",
       "      <td>0.0</td>\n",
       "      <td>0.0</td>\n",
       "      <td>0.0</td>\n",
       "      <td>0.0</td>\n",
       "      <td>0.0</td>\n",
       "      <td>0.0</td>\n",
       "      <td>0.0</td>\n",
       "      <td>0.0</td>\n",
       "      <td>0.0</td>\n",
       "      <td>0.0</td>\n",
       "    </tr>\n",
       "    <tr>\n",
       "      <th>19940</th>\n",
       "      <td>1.0</td>\n",
       "      <td>0.0</td>\n",
       "      <td>0.0</td>\n",
       "      <td>0.0</td>\n",
       "      <td>0.0</td>\n",
       "      <td>0.0</td>\n",
       "      <td>0.0</td>\n",
       "      <td>0.0</td>\n",
       "      <td>0.0</td>\n",
       "      <td>0.0</td>\n",
       "      <td>...</td>\n",
       "      <td>0.0</td>\n",
       "      <td>0.0</td>\n",
       "      <td>0.0</td>\n",
       "      <td>0.0</td>\n",
       "      <td>0.0</td>\n",
       "      <td>0.0</td>\n",
       "      <td>0.0</td>\n",
       "      <td>0.0</td>\n",
       "      <td>0.0</td>\n",
       "      <td>0.0</td>\n",
       "    </tr>\n",
       "    <tr>\n",
       "      <th>19941</th>\n",
       "      <td>0.0</td>\n",
       "      <td>0.0</td>\n",
       "      <td>0.0</td>\n",
       "      <td>0.0</td>\n",
       "      <td>0.0</td>\n",
       "      <td>0.0</td>\n",
       "      <td>0.0</td>\n",
       "      <td>0.0</td>\n",
       "      <td>0.0</td>\n",
       "      <td>0.0</td>\n",
       "      <td>...</td>\n",
       "      <td>1.0</td>\n",
       "      <td>0.0</td>\n",
       "      <td>0.0</td>\n",
       "      <td>0.0</td>\n",
       "      <td>0.0</td>\n",
       "      <td>0.0</td>\n",
       "      <td>0.0</td>\n",
       "      <td>0.0</td>\n",
       "      <td>0.0</td>\n",
       "      <td>0.0</td>\n",
       "    </tr>\n",
       "  </tbody>\n",
       "</table>\n",
       "<p>19942 rows × 50 columns</p>\n",
       "</div>"
      ],
      "text/plain": [
       "       Bag Stuffer  Best Price Savers  Best Savings  Big Time Discounts  \\\n",
       "0              0.0                0.0           0.0                 0.0   \n",
       "1              1.0                0.0           0.0                 0.0   \n",
       "2              0.0                0.0           0.0                 0.0   \n",
       "3              0.0                0.0           0.0                 0.0   \n",
       "4              0.0                0.0           0.0                 0.0   \n",
       "...            ...                ...           ...                 ...   \n",
       "19937          0.0                0.0           0.0                 0.0   \n",
       "19938          0.0                1.0           0.0                 0.0   \n",
       "19939          0.0                0.0           1.0                 0.0   \n",
       "19940          1.0                0.0           0.0                 0.0   \n",
       "19941          0.0                0.0           0.0                 0.0   \n",
       "\n",
       "       Big Time Saving  Budget Bargains  Coupon Spectacular  Dimes Off  \\\n",
       "0                  0.0              0.0                 0.0        0.0   \n",
       "1                  0.0              0.0                 0.0        0.0   \n",
       "2                  0.0              0.0                 0.0        0.0   \n",
       "3                  0.0              0.0                 0.0        0.0   \n",
       "4                  0.0              0.0                 0.0        0.0   \n",
       "...                ...              ...                 ...        ...   \n",
       "19937              0.0              0.0                 0.0        0.0   \n",
       "19938              0.0              0.0                 0.0        0.0   \n",
       "19939              0.0              0.0                 0.0        0.0   \n",
       "19940              0.0              0.0                 0.0        0.0   \n",
       "19941              0.0              0.0                 0.0        0.0   \n",
       "\n",
       "       Discount Frenzy  Dollar Days  ...  Super Duper Savers  Super Savers  \\\n",
       "0                  0.0          0.0  ...                 0.0           0.0   \n",
       "1                  0.0          0.0  ...                 0.0           0.0   \n",
       "2                  0.0          0.0  ...                 0.0           0.0   \n",
       "3                  0.0          0.0  ...                 0.0           0.0   \n",
       "4                  0.0          1.0  ...                 0.0           0.0   \n",
       "...                ...          ...  ...                 ...           ...   \n",
       "19937              0.0          0.0  ...                 0.0           0.0   \n",
       "19938              0.0          0.0  ...                 0.0           0.0   \n",
       "19939              0.0          0.0  ...                 0.0           0.0   \n",
       "19940              0.0          0.0  ...                 0.0           0.0   \n",
       "19941              0.0          0.0  ...                 1.0           0.0   \n",
       "\n",
       "       Super Wallet Savers  Three for One  Tip Top Savings  Two Day Sale  \\\n",
       "0                      0.0            0.0              0.0           0.0   \n",
       "1                      0.0            0.0              0.0           0.0   \n",
       "2                      0.0            0.0              0.0           0.0   \n",
       "3                      0.0            0.0              0.0           0.0   \n",
       "4                      0.0            0.0              0.0           0.0   \n",
       "...                    ...            ...              ...           ...   \n",
       "19937                  0.0            0.0              0.0           0.0   \n",
       "19938                  0.0            0.0              0.0           0.0   \n",
       "19939                  0.0            0.0              0.0           0.0   \n",
       "19940                  0.0            0.0              0.0           0.0   \n",
       "19941                  0.0            0.0              0.0           0.0   \n",
       "\n",
       "       Two for One  Wallet Savers  Weekend Discount  You Save Days  \n",
       "0              0.0            0.0               0.0            0.0  \n",
       "1              0.0            0.0               0.0            0.0  \n",
       "2              0.0            0.0               0.0            0.0  \n",
       "3              0.0            0.0               0.0            0.0  \n",
       "4              0.0            0.0               0.0            0.0  \n",
       "...            ...            ...               ...            ...  \n",
       "19937          1.0            0.0               0.0            0.0  \n",
       "19938          0.0            0.0               0.0            0.0  \n",
       "19939          0.0            0.0               0.0            0.0  \n",
       "19940          0.0            0.0               0.0            0.0  \n",
       "19941          0.0            0.0               0.0            0.0  \n",
       "\n",
       "[19942 rows x 50 columns]"
      ]
     },
     "execution_count": 176,
     "metadata": {},
     "output_type": "execute_result"
    }
   ],
   "source": [
    "from sklearn.preprocessing import OneHotEncoder\n",
    "ohe = OneHotEncoder(sparse = False )\n",
    "arr = ohe.fit_transform(test[['promotion_name']])\n",
    "transformed_col = pd.DataFrame(arr)\n",
    "transformed_col.columns = ['Bag Stuffer', 'Best Price Savers', 'Best Savings', 'Big Time Discounts', 'Big Time Saving', 'Budget Bargains', 'Coupon Spectacular', 'Dimes Off', 'Discount Frenzy', 'Dollar Days', 'Double Your Savings', 'Fantastic Discounts', 'Full Free', 'GLD', 'Go For It', 'Green Light Special', 'I Cant Believe It Sale', 'Lottery Cash Registerion', 'Money Savers', 'Mystery Sale', 'No Promotion', 'One Day Sale', 'Pick Your Savings', 'Price Cutters', 'Price Destroyers', 'Price Slashers', 'Price Smashers', 'Price Winners', 'Promo Big', 'Roller Savings (High) ', 'Sale : Double Down', 'Sale Sale Sale', 'Sale Winners', 'Sales Days', 'Save It (Sale)', 'Save Price', 'Saving Days', 'Savings Galore', 'Shelf Clearing Days', 'Shelf Emptiers', 'Super Duper Savers', 'Super Savers', 'Super Wallet Savers', 'Three for One', 'Tip Top Savings', 'Two Day Sale', 'Two for One', 'Wallet Savers', 'Weekend Discount', 'You Save Days']\n",
    "transformed_col"
   ]
  },
  {
   "cell_type": "code",
   "execution_count": 177,
   "metadata": {},
   "outputs": [],
   "source": [
    "test = test.join(transformed_col)\n",
    "test.drop('promotion_name',axis = 1 , inplace=True)"
   ]
  },
  {
   "cell_type": "code",
   "execution_count": 178,
   "metadata": {},
   "outputs": [],
   "source": [
    "test['Deluxe'] = test['store_kind'].apply(lambda x: 1 if x == 'Deluxe' else 0)\n",
    "test['Gourmet'] = test['store_kind'].apply(lambda x: 1 if x == 'Gourmet' else 0)\n",
    "test['Mid-Size'] = test['store_kind'].apply(lambda x: 1 if x == 'Mid-Size' else 0)\n",
    "test['Small Grocery'] = test['store_kind'].apply(lambda x: 1 if x == 'Small Grocery' else 0)\n",
    "test['Supermarket'] = test['store_kind'].apply(lambda x: 1 if x == 'Supermarket' else 0)"
   ]
  },
  {
   "cell_type": "code",
   "execution_count": 179,
   "metadata": {},
   "outputs": [],
   "source": [
    "test.drop('store_kind',axis = 1 , inplace=True)"
   ]
  },
  {
   "cell_type": "code",
   "execution_count": 180,
   "metadata": {},
   "outputs": [
    {
     "name": "stderr",
     "output_type": "stream",
     "text": [
      "c:\\Users\\Abdul\\anaconda3\\lib\\site-packages\\sklearn\\preprocessing\\_encoders.py:972: FutureWarning: `sparse` was renamed to `sparse_output` in version 1.2 and will be removed in 1.4. `sparse_output` is ignored unless you leave `sparse` to its default value.\n",
      "  warnings.warn(\n"
     ]
    },
    {
     "data": {
      "text/html": [
       "<div>\n",
       "<style scoped>\n",
       "    .dataframe tbody tr th:only-of-type {\n",
       "        vertical-align: middle;\n",
       "    }\n",
       "\n",
       "    .dataframe tbody tr th {\n",
       "        vertical-align: top;\n",
       "    }\n",
       "\n",
       "    .dataframe thead th {\n",
       "        text-align: right;\n",
       "    }\n",
       "</style>\n",
       "<table border=\"1\" class=\"dataframe\">\n",
       "  <thead>\n",
       "    <tr style=\"text-align: right;\">\n",
       "      <th></th>\n",
       "      <th>BC</th>\n",
       "      <th>CA</th>\n",
       "      <th>DF</th>\n",
       "      <th>GU</th>\n",
       "      <th>JA</th>\n",
       "      <th>OR</th>\n",
       "      <th>VE</th>\n",
       "      <th>WA</th>\n",
       "      <th>YU</th>\n",
       "      <th>ZA</th>\n",
       "    </tr>\n",
       "  </thead>\n",
       "  <tbody>\n",
       "    <tr>\n",
       "      <th>0</th>\n",
       "      <td>0.0</td>\n",
       "      <td>1.0</td>\n",
       "      <td>0.0</td>\n",
       "      <td>0.0</td>\n",
       "      <td>0.0</td>\n",
       "      <td>0.0</td>\n",
       "      <td>0.0</td>\n",
       "      <td>0.0</td>\n",
       "      <td>0.0</td>\n",
       "      <td>0.0</td>\n",
       "    </tr>\n",
       "    <tr>\n",
       "      <th>1</th>\n",
       "      <td>0.0</td>\n",
       "      <td>0.0</td>\n",
       "      <td>0.0</td>\n",
       "      <td>0.0</td>\n",
       "      <td>0.0</td>\n",
       "      <td>1.0</td>\n",
       "      <td>0.0</td>\n",
       "      <td>0.0</td>\n",
       "      <td>0.0</td>\n",
       "      <td>0.0</td>\n",
       "    </tr>\n",
       "    <tr>\n",
       "      <th>2</th>\n",
       "      <td>0.0</td>\n",
       "      <td>0.0</td>\n",
       "      <td>0.0</td>\n",
       "      <td>0.0</td>\n",
       "      <td>0.0</td>\n",
       "      <td>0.0</td>\n",
       "      <td>0.0</td>\n",
       "      <td>0.0</td>\n",
       "      <td>0.0</td>\n",
       "      <td>1.0</td>\n",
       "    </tr>\n",
       "    <tr>\n",
       "      <th>3</th>\n",
       "      <td>0.0</td>\n",
       "      <td>0.0</td>\n",
       "      <td>0.0</td>\n",
       "      <td>0.0</td>\n",
       "      <td>0.0</td>\n",
       "      <td>0.0</td>\n",
       "      <td>0.0</td>\n",
       "      <td>0.0</td>\n",
       "      <td>1.0</td>\n",
       "      <td>0.0</td>\n",
       "    </tr>\n",
       "    <tr>\n",
       "      <th>4</th>\n",
       "      <td>0.0</td>\n",
       "      <td>1.0</td>\n",
       "      <td>0.0</td>\n",
       "      <td>0.0</td>\n",
       "      <td>0.0</td>\n",
       "      <td>0.0</td>\n",
       "      <td>0.0</td>\n",
       "      <td>0.0</td>\n",
       "      <td>0.0</td>\n",
       "      <td>0.0</td>\n",
       "    </tr>\n",
       "    <tr>\n",
       "      <th>...</th>\n",
       "      <td>...</td>\n",
       "      <td>...</td>\n",
       "      <td>...</td>\n",
       "      <td>...</td>\n",
       "      <td>...</td>\n",
       "      <td>...</td>\n",
       "      <td>...</td>\n",
       "      <td>...</td>\n",
       "      <td>...</td>\n",
       "      <td>...</td>\n",
       "    </tr>\n",
       "    <tr>\n",
       "      <th>19937</th>\n",
       "      <td>0.0</td>\n",
       "      <td>0.0</td>\n",
       "      <td>0.0</td>\n",
       "      <td>0.0</td>\n",
       "      <td>0.0</td>\n",
       "      <td>0.0</td>\n",
       "      <td>0.0</td>\n",
       "      <td>0.0</td>\n",
       "      <td>0.0</td>\n",
       "      <td>1.0</td>\n",
       "    </tr>\n",
       "    <tr>\n",
       "      <th>19938</th>\n",
       "      <td>0.0</td>\n",
       "      <td>0.0</td>\n",
       "      <td>0.0</td>\n",
       "      <td>0.0</td>\n",
       "      <td>0.0</td>\n",
       "      <td>0.0</td>\n",
       "      <td>0.0</td>\n",
       "      <td>1.0</td>\n",
       "      <td>0.0</td>\n",
       "      <td>0.0</td>\n",
       "    </tr>\n",
       "    <tr>\n",
       "      <th>19939</th>\n",
       "      <td>0.0</td>\n",
       "      <td>0.0</td>\n",
       "      <td>0.0</td>\n",
       "      <td>0.0</td>\n",
       "      <td>1.0</td>\n",
       "      <td>0.0</td>\n",
       "      <td>0.0</td>\n",
       "      <td>0.0</td>\n",
       "      <td>0.0</td>\n",
       "      <td>0.0</td>\n",
       "    </tr>\n",
       "    <tr>\n",
       "      <th>19940</th>\n",
       "      <td>0.0</td>\n",
       "      <td>0.0</td>\n",
       "      <td>0.0</td>\n",
       "      <td>0.0</td>\n",
       "      <td>0.0</td>\n",
       "      <td>1.0</td>\n",
       "      <td>0.0</td>\n",
       "      <td>0.0</td>\n",
       "      <td>0.0</td>\n",
       "      <td>0.0</td>\n",
       "    </tr>\n",
       "    <tr>\n",
       "      <th>19941</th>\n",
       "      <td>0.0</td>\n",
       "      <td>0.0</td>\n",
       "      <td>0.0</td>\n",
       "      <td>0.0</td>\n",
       "      <td>0.0</td>\n",
       "      <td>0.0</td>\n",
       "      <td>0.0</td>\n",
       "      <td>1.0</td>\n",
       "      <td>0.0</td>\n",
       "      <td>0.0</td>\n",
       "    </tr>\n",
       "  </tbody>\n",
       "</table>\n",
       "<p>19942 rows × 10 columns</p>\n",
       "</div>"
      ],
      "text/plain": [
       "        BC   CA   DF   GU   JA   OR   VE   WA   YU   ZA\n",
       "0      0.0  1.0  0.0  0.0  0.0  0.0  0.0  0.0  0.0  0.0\n",
       "1      0.0  0.0  0.0  0.0  0.0  1.0  0.0  0.0  0.0  0.0\n",
       "2      0.0  0.0  0.0  0.0  0.0  0.0  0.0  0.0  0.0  1.0\n",
       "3      0.0  0.0  0.0  0.0  0.0  0.0  0.0  0.0  1.0  0.0\n",
       "4      0.0  1.0  0.0  0.0  0.0  0.0  0.0  0.0  0.0  0.0\n",
       "...    ...  ...  ...  ...  ...  ...  ...  ...  ...  ...\n",
       "19937  0.0  0.0  0.0  0.0  0.0  0.0  0.0  0.0  0.0  1.0\n",
       "19938  0.0  0.0  0.0  0.0  0.0  0.0  0.0  1.0  0.0  0.0\n",
       "19939  0.0  0.0  0.0  0.0  1.0  0.0  0.0  0.0  0.0  0.0\n",
       "19940  0.0  0.0  0.0  0.0  0.0  1.0  0.0  0.0  0.0  0.0\n",
       "19941  0.0  0.0  0.0  0.0  0.0  0.0  0.0  1.0  0.0  0.0\n",
       "\n",
       "[19942 rows x 10 columns]"
      ]
     },
     "execution_count": 180,
     "metadata": {},
     "output_type": "execute_result"
    }
   ],
   "source": [
    "from sklearn.preprocessing import OneHotEncoder\n",
    "ohe = OneHotEncoder(sparse = False )\n",
    "arr = ohe.fit_transform(test[['place_name']])\n",
    "transformed_col = pd.DataFrame(arr)\n",
    "transformed_col.columns = ['BC','CA','DF','GU','JA','OR','VE','WA','YU','ZA']\n",
    "transformed_col"
   ]
  },
  {
   "cell_type": "code",
   "execution_count": 181,
   "metadata": {},
   "outputs": [],
   "source": [
    "test = test.join(transformed_col)\n",
    "test.drop('place_name',axis = 1 , inplace=True)"
   ]
  },
  {
   "cell_type": "code",
   "execution_count": 182,
   "metadata": {},
   "outputs": [],
   "source": [
    "train.drop('store_kind', axis=1, inplace=True)"
   ]
  },
  {
   "cell_type": "code",
   "execution_count": 183,
   "metadata": {},
   "outputs": [],
   "source": [
    "train.to_csv(r'C:\\Users\\Abdul\\Workspace\\IEEE_Victoris2_competition\\data_preprocessed\\train_preprocessed.csv', index=False)\n",
    "test.to_csv(r'C:\\Users\\Abdul\\Workspace\\IEEE_Victoris2_competition\\data_preprocessed\\test_preprocessed.csv', index=False)"
   ]
  }
 ],
 "metadata": {
  "kernelspec": {
   "display_name": "base",
   "language": "python",
   "name": "python3"
  },
  "language_info": {
   "codemirror_mode": {
    "name": "ipython",
    "version": 3
   },
   "file_extension": ".py",
   "mimetype": "text/x-python",
   "name": "python",
   "nbconvert_exporter": "python",
   "pygments_lexer": "ipython3",
   "version": "3.9.18"
  },
  "orig_nbformat": 4
 },
 "nbformat": 4,
 "nbformat_minor": 2
}
