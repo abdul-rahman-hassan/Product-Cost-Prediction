{
 "cells": [
  {
   "cell_type": "code",
   "execution_count": 1,
   "metadata": {},
   "outputs": [],
   "source": [
    "import pandas as pd"
   ]
  },
  {
   "cell_type": "markdown",
   "metadata": {},
   "source": [
    "First I start by importing the necessary libraries that I will be using."
   ]
  },
  {
   "cell_type": "code",
   "execution_count": 2,
   "metadata": {},
   "outputs": [],
   "source": [
    "train_1 = pd.read_csv(r'C:\\Users\\Abdul\\Workspace\\IEEE_Victoris2_competition\\data\\Train_Batch_1.csv')\n",
    "train_2 = pd.read_csv(r'C:\\Users\\Abdul\\Workspace\\IEEE_Victoris2_competition\\data\\Train_Batch_2.csv')\n",
    "train_3 = pd.read_csv(r'C:\\Users\\Abdul\\Workspace\\IEEE_Victoris2_competition\\data\\Train_Batch_3.csv')\n",
    "test = pd.read_csv(r'C:\\Users\\Abdul\\Workspace\\IEEE_Victoris2_competition\\data\\test.csv')"
   ]
  },
  {
   "cell_type": "markdown",
   "metadata": {},
   "source": [
    "As we can see we have three training batches and one test batch.\n",
    "\n",
    "I will investigate the training batches first."
   ]
  },
  {
   "cell_type": "code",
   "execution_count": 3,
   "metadata": {},
   "outputs": [
    {
     "data": {
      "text/plain": [
       "Index(['Unnamed: 0', 'Person Description', 'Place Code', 'Customer Order',\n",
       "       'Additional Features in market', 'Promotion Name', 'Store Kind',\n",
       "       'Store Sales', 'Store Cost', 'Product Weights Data in (KG)',\n",
       "       'Is Recyclable?', 'Min. Yearly Income', 'Store Area', 'Grocery Area',\n",
       "       'Frozen Area', 'Meat Area', 'Cost'],\n",
       "      dtype='object')"
      ]
     },
     "execution_count": 3,
     "metadata": {},
     "output_type": "execute_result"
    }
   ],
   "source": [
    "train_1.columns"
   ]
  },
  {
   "cell_type": "markdown",
   "metadata": {},
   "source": [
    "Let's change the columns names first to make it easier to work with."
   ]
  },
  {
   "cell_type": "code",
   "execution_count": 4,
   "metadata": {},
   "outputs": [],
   "source": [
    "train_1.columns = [col.lower().replace(' ', '_') for col in train_1.columns]\n",
    "train_2.columns = [col.lower().replace(' ', '_') for col in train_2.columns]\n",
    "new_columns = [col.replace('%20', ' ') for col in train_3.columns]\n",
    "train_3.columns = new_columns\n",
    "train_3.columns = [col.lower().replace(' ', '_') for col in train_3.columns]\n",
    "test.columns = [col.lower().replace(' ', '_') for col in test.columns]"
   ]
  },
  {
   "cell_type": "code",
   "execution_count": 5,
   "metadata": {},
   "outputs": [
    {
     "data": {
      "text/plain": [
       "Index(['unnamed:_0', 'person_description', 'place_code', 'customer_order',\n",
       "       'additional_features_in_market', 'promotion_name', 'store_kind',\n",
       "       'store_sales', 'store_cost', 'product_weights_data_in_(kg)',\n",
       "       'is_recyclable?', 'min._yearly_income', 'store_area', 'grocery_area',\n",
       "       'frozen_area', 'meat_area', 'cost'],\n",
       "      dtype='object')"
      ]
     },
     "execution_count": 5,
     "metadata": {},
     "output_type": "execute_result"
    }
   ],
   "source": [
    "train_1.columns"
   ]
  },
  {
   "cell_type": "code",
   "execution_count": 6,
   "metadata": {},
   "outputs": [
    {
     "data": {
      "text/plain": [
       "Index(['unnamed:_0', 'person_description', 'place_code', 'customer_order',\n",
       "       'additional_features_in_market', 'promotion_name', 'store_kind',\n",
       "       'store_sales', 'store_cost', 'gross_weight', 'net_weight',\n",
       "       'is_recyclable?', 'min._person_yearly_income', 'store_area',\n",
       "       'grocery_area', 'frozen_area', 'meat_area', 'cost'],\n",
       "      dtype='object')"
      ]
     },
     "execution_count": 6,
     "metadata": {},
     "output_type": "execute_result"
    }
   ],
   "source": [
    "train_2.columns"
   ]
  },
  {
   "cell_type": "code",
   "execution_count": 7,
   "metadata": {},
   "outputs": [
    {
     "data": {
      "text/plain": [
       "Index(['unnamed:_0', 'person_description', 'place_code', 'customer_order',\n",
       "       'additional_features_in_market', 'promotion_name', 'store_kind',\n",
       "       'store_sales', 'store_cost', 'gross_weight', 'net_weight',\n",
       "       'weights_data', 'is_recyclable?', 'yearly_income', 'store_area',\n",
       "       'grocery_area', 'frozen_area', 'meat_area', 'cost'],\n",
       "      dtype='object')"
      ]
     },
     "execution_count": 7,
     "metadata": {},
     "output_type": "execute_result"
    }
   ],
   "source": [
    "train_3.columns"
   ]
  },
  {
   "cell_type": "code",
   "execution_count": 8,
   "metadata": {},
   "outputs": [
    {
     "data": {
      "text/plain": [
       "Index(['unnamed:_0', 'person_description', 'place_code', 'customer_order',\n",
       "       'additional_features_in_market', 'promotion_name', 'store_kind',\n",
       "       'store_sales', 'store_cost', 'gross_weight', 'net_weight',\n",
       "       'package_weight', 'is_recyclable?', 'yearly_income', 'store_area',\n",
       "       'grocery_area', 'frozen_area', 'meat_area'],\n",
       "      dtype='object')"
      ]
     },
     "execution_count": 8,
     "metadata": {},
     "output_type": "execute_result"
    }
   ],
   "source": [
    "test.columns"
   ]
  },
  {
   "cell_type": "markdown",
   "metadata": {},
   "source": [
    "#### From looking at the info from the training batches and the test data we can notice that :\n",
    "-  They are not exactly the same size as they vary in count of columns.\n",
    "-  Most of the columns are present in all batches.  \n",
    "-  Some columns are missing in some batches.\n",
    "-  some columns names are different in some batches but they are the same such as the package weight.\n",
    "\n"
   ]
  },
  {
   "cell_type": "markdown",
   "metadata": {},
   "source": [
    "#### Here is a table that shows the presence of each column in each batch:  \n",
    "| Column name                   | Train 1 | Train 2 | Train 3 | Test |\n",
    "| ----------------------------- | ------- | ------- | ------- | ---- |\n",
    "| Unnamed : id                  | ✓       | ✓       | ✓       | ✓    |\n",
    "| Person Description            | ✓       | ✓       | ✓       | ✓    |\n",
    "| Place Code                    | ✓       | ✓       | ✓       | ✓    |\n",
    "| Customer Order                | ✓       | ✓       | ✓       | ✓    |\n",
    "| Additional Features in market | ✓       | ✓       | ✓       | ✓    |\n",
    "| Promotion Name                | ✓       | ✓       | ✓       | ✓    |\n",
    "| Store Kind                    | ✓       | ✓       | ✓       | ✓    |\n",
    "| Store Sales                   | ✓       | ✓       | ✓       | ✓    |\n",
    "| Store Cost                    | ✓       | ✓       | ✓       | ✓    |\n",
    "| Gross Weight                  | ✕       | ✓       | ✓       | ✓    |\n",
    "| Net Weight                    | ✕       | ✓       | ✓       | ✓    |\n",
    "| Package Weight                | ✕       | ✕       | ✕       | ✓    |\n",
    "| Weights Data                  | ✕       | ✕       | ✓       | ✕    |\n",
    "| Product Weights Data in (KG)  | ✓       | ✕       | ✕       | ✕    |\n",
    "| Is Recyclable?                | ✓       | ✓       | ✓       | ✓    |\n",
    "| Yearly Income                 | ✕       | ✕       | ✓       | ✓    |\n",
    "| Min. Yearly Income            | ✓       | ✕       | ✕       | ✕    |\n",
    "| Min. Person Yearly Income     | ✕       | ✓       | ✕       | ✕    |\n",
    "| Store Area                    | ✓       | ✓       | ✓       | ✓    |\n",
    "| Grocery Area                  | ✓       | ✓       | ✓       | ✓    |\n",
    "| Frozen Area                   | ✓       | ✓       | ✓       | ✓    |\n",
    "| Meat Area                     | ✓       | ✓       | ✓       | ✓    |\n",
    "| Cost                          | ✓       | ✓       | ✓       |    -----   |"
   ]
  },
  {
   "cell_type": "markdown",
   "metadata": {},
   "source": [
    "Based on the table above we can see that the columns that are present in all batches are:\n",
    "-  Unnamed : id\n",
    "-  Person Description\n",
    "-  Place Code\n",
    "-  Customer Order\n",
    "-  Additional Features in market\n",
    "-  Promotion Name\n",
    "-  Store Kind\n",
    "-  Store Sales\n",
    "-  Store Cost\n",
    "-  Is Recyclable?\n",
    "-  Store Area\n",
    "-  Grocery Area\n",
    "-  Frozen Area\n",
    "-  Meat Area\n",
    "-  Cost ( except for the test batch)\n",
    "  \n",
    "So let's start by investigating the columns that are different in each batch."
   ]
  },
  {
   "cell_type": "markdown",
   "metadata": {},
   "source": [
    "#### The columns that are different in each batch and conncted to weight are:\n",
    "-  Gross Weight\n",
    "-  Net Weight\n",
    "-  Package Weight\n",
    "-  Weights Data\n",
    "-  Product Weights Data in (KG)\n",
    "  \n",
    "Let's start by investigating those columns."
   ]
  },
  {
   "cell_type": "markdown",
   "metadata": {},
   "source": [
    "#### Gross Weight:"
   ]
  },
  {
   "cell_type": "code",
   "execution_count": 9,
   "metadata": {},
   "outputs": [
    {
     "name": "stdout",
     "output_type": "stream",
     "text": [
      "train_2 gross_weight\n",
      "--------------------\n",
      "count    11014.000000\n",
      "mean        20.032870\n",
      "std          6.700986\n",
      "min          8.721600\n",
      "25%         14.045325\n",
      "50%         19.768900\n",
      "75%         25.728600\n",
      "max         31.833700\n",
      "Name: gross_weight, dtype: float64\n",
      "----------------------------------------\n",
      "train_3 gross_weight\n",
      "--------------------\n",
      "count    5491.000000\n",
      "mean       20.153632\n",
      "std         6.683436\n",
      "min         8.721600\n",
      "25%        14.223400\n",
      "50%        19.914200\n",
      "75%        26.019300\n",
      "max        31.833700\n",
      "Name: gross_weight, dtype: float64\n",
      "----------------------------------------\n",
      "test gross_weight\n",
      "--------------------\n",
      "count    18959.000000\n",
      "mean        20.081932\n",
      "std          6.712775\n",
      "min          8.721600\n",
      "25%         14.114400\n",
      "50%         19.768900\n",
      "75%         25.874000\n",
      "max         31.833700\n",
      "Name: gross_weight, dtype: float64\n"
     ]
    }
   ],
   "source": [
    "print('train_2 gross_weight')\n",
    "print('-'*20)\n",
    "print(train_2['gross_weight'].describe())\n",
    "print('-'*40)\n",
    "print('train_3 gross_weight')\n",
    "print('-'*20)\n",
    "print(train_3['gross_weight'].describe())\n",
    "print('-'*40)\n",
    "print('test gross_weight')\n",
    "print('-'*20)\n",
    "print(test['gross_weight'].describe())"
   ]
  },
  {
   "cell_type": "markdown",
   "metadata": {},
   "source": [
    "As we can see from the description of the column in the three data sets, the column is the same in all batches.\n",
    "\n",
    "Let's check for what eqals it in the first training batch."
   ]
  },
  {
   "cell_type": "code",
   "execution_count": 10,
   "metadata": {},
   "outputs": [
    {
     "data": {
      "text/plain": [
       "count                                                 19440\n",
       "unique                                                  675\n",
       "top       {'Gross Weight': 27.0368, 'Net Weight': 24.129...\n",
       "freq                                                    161\n",
       "Name: product_weights_data_in_(kg), dtype: object"
      ]
     },
     "execution_count": 10,
     "metadata": {},
     "output_type": "execute_result"
    }
   ],
   "source": [
    "train_1['product_weights_data_in_(kg)'].describe()"
   ]
  },
  {
   "cell_type": "markdown",
   "metadata": {},
   "source": [
    "Intresting , the column is not numeric in the first batch and inside it there are values for gross weight and net weight and package weight.\n",
    "\n",
    "Let's see what we can do about that."
   ]
  },
  {
   "cell_type": "code",
   "execution_count": 11,
   "metadata": {},
   "outputs": [
    {
     "data": {
      "text/plain": [
       "\"{'Gross Weight': 28.1997, 'Net Weight': 26.6008, 'Package Weight': 1.599}\""
      ]
     },
     "execution_count": 11,
     "metadata": {},
     "output_type": "execute_result"
    }
   ],
   "source": [
    "train_1['product_weights_data_in_(kg)'][0]"
   ]
  },
  {
   "cell_type": "markdown",
   "metadata": {},
   "source": [
    "So as it shows we will have to split the column into three columns and then drop the original column."
   ]
  },
  {
   "cell_type": "code",
   "execution_count": 12,
   "metadata": {},
   "outputs": [],
   "source": [
    "train_1[['gross_weight', 'net_weight', 'package_weight']] = train_1['product_weights_data_in_(kg)'].str.split(',', expand=True)"
   ]
  },
  {
   "cell_type": "code",
   "execution_count": 13,
   "metadata": {},
   "outputs": [
    {
     "data": {
      "text/html": [
       "<div>\n",
       "<style scoped>\n",
       "    .dataframe tbody tr th:only-of-type {\n",
       "        vertical-align: middle;\n",
       "    }\n",
       "\n",
       "    .dataframe tbody tr th {\n",
       "        vertical-align: top;\n",
       "    }\n",
       "\n",
       "    .dataframe thead th {\n",
       "        text-align: right;\n",
       "    }\n",
       "</style>\n",
       "<table border=\"1\" class=\"dataframe\">\n",
       "  <thead>\n",
       "    <tr style=\"text-align: right;\">\n",
       "      <th></th>\n",
       "      <th>unnamed:_0</th>\n",
       "      <th>person_description</th>\n",
       "      <th>place_code</th>\n",
       "      <th>customer_order</th>\n",
       "      <th>additional_features_in_market</th>\n",
       "      <th>promotion_name</th>\n",
       "      <th>store_kind</th>\n",
       "      <th>store_sales</th>\n",
       "      <th>store_cost</th>\n",
       "      <th>product_weights_data_in_(kg)</th>\n",
       "      <th>is_recyclable?</th>\n",
       "      <th>min._yearly_income</th>\n",
       "      <th>store_area</th>\n",
       "      <th>grocery_area</th>\n",
       "      <th>frozen_area</th>\n",
       "      <th>meat_area</th>\n",
       "      <th>cost</th>\n",
       "      <th>gross_weight</th>\n",
       "      <th>net_weight</th>\n",
       "      <th>package_weight</th>\n",
       "    </tr>\n",
       "  </thead>\n",
       "  <tbody>\n",
       "    <tr>\n",
       "      <th>0</th>\n",
       "      <td>mc_ID_0</td>\n",
       "      <td>Single Female with four children, education: b...</td>\n",
       "      <td>H11go_ZA</td>\n",
       "      <td>Cleaning Supplies from Household department, O...</td>\n",
       "      <td>['Video Store', 'Florist', 'Ready Food', 'Coff...</td>\n",
       "      <td>Dimes Off</td>\n",
       "      <td>Deluxe</td>\n",
       "      <td>8.76 Millions</td>\n",
       "      <td>4.2924 Millions</td>\n",
       "      <td>{'Gross Weight': 28.1997, 'Net Weight': 26.600...</td>\n",
       "      <td>recyclable</td>\n",
       "      <td>10K+</td>\n",
       "      <td>2842.23</td>\n",
       "      <td>2037.64</td>\n",
       "      <td>481.98</td>\n",
       "      <td>323</td>\n",
       "      <td>602.7575</td>\n",
       "      <td>{'Gross Weight': 28.1997</td>\n",
       "      <td>'Net Weight': 26.6008</td>\n",
       "      <td>'Package Weight': 1.599}</td>\n",
       "    </tr>\n",
       "    <tr>\n",
       "      <th>1</th>\n",
       "      <td>mc_ID_1</td>\n",
       "      <td>Single Female with three children, education: ...</td>\n",
       "      <td>S04ne_WA</td>\n",
       "      <td>Snack Foods from Snack Foods department, Order...</td>\n",
       "      <td>NaN</td>\n",
       "      <td>Budget Bargains</td>\n",
       "      <td>Supermarket</td>\n",
       "      <td>6.36 Millions</td>\n",
       "      <td>1.9716 Millions</td>\n",
       "      <td>{'Gross Weight': 16.571, 'Net Weight': 14.972,...</td>\n",
       "      <td>non recyclable</td>\n",
       "      <td>50K+</td>\n",
       "      <td>2814.95</td>\n",
       "      <td>2049.72</td>\n",
       "      <td>457.36</td>\n",
       "      <td>NaN</td>\n",
       "      <td>708.6650</td>\n",
       "      <td>{'Gross Weight': 16.571</td>\n",
       "      <td>'Net Weight': 14.972</td>\n",
       "      <td>'Package Weight': 1.599}</td>\n",
       "    </tr>\n",
       "    <tr>\n",
       "      <th>2</th>\n",
       "      <td>mc_ID_2</td>\n",
       "      <td>Married Male with two children, education: hig...</td>\n",
       "      <td>L05es_CA</td>\n",
       "      <td>Magazines from Periodicals department, Ordered...</td>\n",
       "      <td>['Florist']</td>\n",
       "      <td>Shelf Emptiers</td>\n",
       "      <td>Supermarket</td>\n",
       "      <td>10.86 Millions</td>\n",
       "      <td>4.4526 Millions</td>\n",
       "      <td>{'Gross Weight': 28.6358, 'Net Weight': 27.182...</td>\n",
       "      <td>recyclable</td>\n",
       "      <td>30K+</td>\n",
       "      <td>2192.32</td>\n",
       "      <td>1322.21</td>\n",
       "      <td>523.32</td>\n",
       "      <td>348.85</td>\n",
       "      <td>564.2647</td>\n",
       "      <td>{'Gross Weight': 28.6358</td>\n",
       "      <td>'Net Weight': 27.1822</td>\n",
       "      <td>'Package Weight': 1.4536}</td>\n",
       "    </tr>\n",
       "    <tr>\n",
       "      <th>3</th>\n",
       "      <td>mc_ID_3</td>\n",
       "      <td>Single Female with three children, education: ...</td>\n",
       "      <td>S03le_WA</td>\n",
       "      <td>Dairy from Dairy department, Ordered Brand : C...</td>\n",
       "      <td>['Coffee Bar']</td>\n",
       "      <td>Savings Galore</td>\n",
       "      <td>NaN</td>\n",
       "      <td>1.98 Millions</td>\n",
       "      <td>0.6732 Millions</td>\n",
       "      <td>{'Gross Weight': 14.2161, 'Net Weight': 11.294...</td>\n",
       "      <td>recyclable</td>\n",
       "      <td>30K+</td>\n",
       "      <td>1974.73</td>\n",
       "      <td>NaN</td>\n",
       "      <td>440.92</td>\n",
       "      <td>293.95</td>\n",
       "      <td>724.5119</td>\n",
       "      <td>{'Gross Weight': 14.2161</td>\n",
       "      <td>'Net Weight': 11.2944</td>\n",
       "      <td>'Package Weight': 2.9217}</td>\n",
       "    </tr>\n",
       "    <tr>\n",
       "      <th>4</th>\n",
       "      <td>mc_ID_4</td>\n",
       "      <td>Married Female with five children, education: ...</td>\n",
       "      <td>M10da_YU</td>\n",
       "      <td>Vegetables from Produce department, Ordered Br...</td>\n",
       "      <td>['Bar For Salad', 'Ready Food', 'Coffee Bar', ...</td>\n",
       "      <td>Sale Winners</td>\n",
       "      <td>Deluxe</td>\n",
       "      <td>11.56 Millions</td>\n",
       "      <td>4.9708 Millions</td>\n",
       "      <td>{'Gross Weight': 12.6172, 'Net Weight': 9.71, ...</td>\n",
       "      <td>non recyclable</td>\n",
       "      <td>50K+</td>\n",
       "      <td>2862.3</td>\n",
       "      <td>1872.19</td>\n",
       "      <td>593.93</td>\n",
       "      <td>395.95</td>\n",
       "      <td>519.7574</td>\n",
       "      <td>{'Gross Weight': 12.6172</td>\n",
       "      <td>'Net Weight': 9.71</td>\n",
       "      <td>'Package Weight': 2.9072}</td>\n",
       "    </tr>\n",
       "  </tbody>\n",
       "</table>\n",
       "</div>"
      ],
      "text/plain": [
       "  unnamed:_0                                 person_description place_code  \\\n",
       "0    mc_ID_0  Single Female with four children, education: b...   H11go_ZA   \n",
       "1    mc_ID_1  Single Female with three children, education: ...   S04ne_WA   \n",
       "2    mc_ID_2  Married Male with two children, education: hig...   L05es_CA   \n",
       "3    mc_ID_3  Single Female with three children, education: ...   S03le_WA   \n",
       "4    mc_ID_4  Married Female with five children, education: ...   M10da_YU   \n",
       "\n",
       "                                      customer_order  \\\n",
       "0  Cleaning Supplies from Household department, O...   \n",
       "1  Snack Foods from Snack Foods department, Order...   \n",
       "2  Magazines from Periodicals department, Ordered...   \n",
       "3  Dairy from Dairy department, Ordered Brand : C...   \n",
       "4  Vegetables from Produce department, Ordered Br...   \n",
       "\n",
       "                       additional_features_in_market   promotion_name  \\\n",
       "0  ['Video Store', 'Florist', 'Ready Food', 'Coff...        Dimes Off   \n",
       "1                                                NaN  Budget Bargains   \n",
       "2                                        ['Florist']   Shelf Emptiers   \n",
       "3                                     ['Coffee Bar']   Savings Galore   \n",
       "4  ['Bar For Salad', 'Ready Food', 'Coffee Bar', ...     Sale Winners   \n",
       "\n",
       "    store_kind     store_sales       store_cost  \\\n",
       "0       Deluxe   8.76 Millions  4.2924 Millions   \n",
       "1  Supermarket   6.36 Millions  1.9716 Millions   \n",
       "2  Supermarket  10.86 Millions  4.4526 Millions   \n",
       "3          NaN   1.98 Millions  0.6732 Millions   \n",
       "4       Deluxe  11.56 Millions  4.9708 Millions   \n",
       "\n",
       "                        product_weights_data_in_(kg)  is_recyclable?  \\\n",
       "0  {'Gross Weight': 28.1997, 'Net Weight': 26.600...      recyclable   \n",
       "1  {'Gross Weight': 16.571, 'Net Weight': 14.972,...  non recyclable   \n",
       "2  {'Gross Weight': 28.6358, 'Net Weight': 27.182...      recyclable   \n",
       "3  {'Gross Weight': 14.2161, 'Net Weight': 11.294...      recyclable   \n",
       "4  {'Gross Weight': 12.6172, 'Net Weight': 9.71, ...  non recyclable   \n",
       "\n",
       "  min._yearly_income store_area grocery_area  frozen_area meat_area      cost  \\\n",
       "0               10K+    2842.23      2037.64       481.98       323  602.7575   \n",
       "1               50K+    2814.95      2049.72       457.36       NaN  708.6650   \n",
       "2               30K+    2192.32      1322.21       523.32    348.85  564.2647   \n",
       "3               30K+    1974.73          NaN       440.92    293.95  724.5119   \n",
       "4               50K+     2862.3      1872.19       593.93    395.95  519.7574   \n",
       "\n",
       "               gross_weight              net_weight  \\\n",
       "0  {'Gross Weight': 28.1997   'Net Weight': 26.6008   \n",
       "1   {'Gross Weight': 16.571    'Net Weight': 14.972   \n",
       "2  {'Gross Weight': 28.6358   'Net Weight': 27.1822   \n",
       "3  {'Gross Weight': 14.2161   'Net Weight': 11.2944   \n",
       "4  {'Gross Weight': 12.6172      'Net Weight': 9.71   \n",
       "\n",
       "               package_weight  \n",
       "0    'Package Weight': 1.599}  \n",
       "1    'Package Weight': 1.599}  \n",
       "2   'Package Weight': 1.4536}  \n",
       "3   'Package Weight': 2.9217}  \n",
       "4   'Package Weight': 2.9072}  "
      ]
     },
     "execution_count": 13,
     "metadata": {},
     "output_type": "execute_result"
    }
   ],
   "source": [
    "train_1.head(5)"
   ]
  },
  {
   "cell_type": "markdown",
   "metadata": {},
   "source": [
    "Now using regex we can extract the numeric values from each value in the column."
   ]
  },
  {
   "cell_type": "code",
   "execution_count": 14,
   "metadata": {},
   "outputs": [],
   "source": [
    "pattern = r'.*?(\\d+\\.\\d+)'\n",
    "train_1['gross_weight'] = train_1['gross_weight'].str.extract(pattern, expand=True)\n",
    "train_1['net_weight'] = train_1['net_weight'].str.extract(pattern, expand=True)\n",
    "train_1['package_weight'] = train_1['package_weight'].str.extract(pattern, expand=True)"
   ]
  },
  {
   "cell_type": "markdown",
   "metadata": {},
   "source": [
    "Now i can drop the original column."
   ]
  },
  {
   "cell_type": "code",
   "execution_count": 15,
   "metadata": {},
   "outputs": [],
   "source": [
    "train_1.drop('product_weights_data_in_(kg)', axis=1, inplace=True)"
   ]
  },
  {
   "cell_type": "code",
   "execution_count": 16,
   "metadata": {},
   "outputs": [
    {
     "data": {
      "text/html": [
       "<div>\n",
       "<style scoped>\n",
       "    .dataframe tbody tr th:only-of-type {\n",
       "        vertical-align: middle;\n",
       "    }\n",
       "\n",
       "    .dataframe tbody tr th {\n",
       "        vertical-align: top;\n",
       "    }\n",
       "\n",
       "    .dataframe thead th {\n",
       "        text-align: right;\n",
       "    }\n",
       "</style>\n",
       "<table border=\"1\" class=\"dataframe\">\n",
       "  <thead>\n",
       "    <tr style=\"text-align: right;\">\n",
       "      <th></th>\n",
       "      <th>unnamed:_0</th>\n",
       "      <th>person_description</th>\n",
       "      <th>place_code</th>\n",
       "      <th>customer_order</th>\n",
       "      <th>additional_features_in_market</th>\n",
       "      <th>promotion_name</th>\n",
       "      <th>store_kind</th>\n",
       "      <th>store_sales</th>\n",
       "      <th>store_cost</th>\n",
       "      <th>is_recyclable?</th>\n",
       "      <th>min._yearly_income</th>\n",
       "      <th>store_area</th>\n",
       "      <th>grocery_area</th>\n",
       "      <th>frozen_area</th>\n",
       "      <th>meat_area</th>\n",
       "      <th>cost</th>\n",
       "      <th>gross_weight</th>\n",
       "      <th>net_weight</th>\n",
       "      <th>package_weight</th>\n",
       "    </tr>\n",
       "  </thead>\n",
       "  <tbody>\n",
       "    <tr>\n",
       "      <th>0</th>\n",
       "      <td>mc_ID_0</td>\n",
       "      <td>Single Female with four children, education: b...</td>\n",
       "      <td>H11go_ZA</td>\n",
       "      <td>Cleaning Supplies from Household department, O...</td>\n",
       "      <td>['Video Store', 'Florist', 'Ready Food', 'Coff...</td>\n",
       "      <td>Dimes Off</td>\n",
       "      <td>Deluxe</td>\n",
       "      <td>8.76 Millions</td>\n",
       "      <td>4.2924 Millions</td>\n",
       "      <td>recyclable</td>\n",
       "      <td>10K+</td>\n",
       "      <td>2842.23</td>\n",
       "      <td>2037.64</td>\n",
       "      <td>481.98</td>\n",
       "      <td>323</td>\n",
       "      <td>602.7575</td>\n",
       "      <td>28.1997</td>\n",
       "      <td>26.6008</td>\n",
       "      <td>1.599</td>\n",
       "    </tr>\n",
       "    <tr>\n",
       "      <th>1</th>\n",
       "      <td>mc_ID_1</td>\n",
       "      <td>Single Female with three children, education: ...</td>\n",
       "      <td>S04ne_WA</td>\n",
       "      <td>Snack Foods from Snack Foods department, Order...</td>\n",
       "      <td>NaN</td>\n",
       "      <td>Budget Bargains</td>\n",
       "      <td>Supermarket</td>\n",
       "      <td>6.36 Millions</td>\n",
       "      <td>1.9716 Millions</td>\n",
       "      <td>non recyclable</td>\n",
       "      <td>50K+</td>\n",
       "      <td>2814.95</td>\n",
       "      <td>2049.72</td>\n",
       "      <td>457.36</td>\n",
       "      <td>NaN</td>\n",
       "      <td>708.6650</td>\n",
       "      <td>16.571</td>\n",
       "      <td>14.972</td>\n",
       "      <td>1.599</td>\n",
       "    </tr>\n",
       "    <tr>\n",
       "      <th>2</th>\n",
       "      <td>mc_ID_2</td>\n",
       "      <td>Married Male with two children, education: hig...</td>\n",
       "      <td>L05es_CA</td>\n",
       "      <td>Magazines from Periodicals department, Ordered...</td>\n",
       "      <td>['Florist']</td>\n",
       "      <td>Shelf Emptiers</td>\n",
       "      <td>Supermarket</td>\n",
       "      <td>10.86 Millions</td>\n",
       "      <td>4.4526 Millions</td>\n",
       "      <td>recyclable</td>\n",
       "      <td>30K+</td>\n",
       "      <td>2192.32</td>\n",
       "      <td>1322.21</td>\n",
       "      <td>523.32</td>\n",
       "      <td>348.85</td>\n",
       "      <td>564.2647</td>\n",
       "      <td>28.6358</td>\n",
       "      <td>27.1822</td>\n",
       "      <td>1.4536</td>\n",
       "    </tr>\n",
       "    <tr>\n",
       "      <th>3</th>\n",
       "      <td>mc_ID_3</td>\n",
       "      <td>Single Female with three children, education: ...</td>\n",
       "      <td>S03le_WA</td>\n",
       "      <td>Dairy from Dairy department, Ordered Brand : C...</td>\n",
       "      <td>['Coffee Bar']</td>\n",
       "      <td>Savings Galore</td>\n",
       "      <td>NaN</td>\n",
       "      <td>1.98 Millions</td>\n",
       "      <td>0.6732 Millions</td>\n",
       "      <td>recyclable</td>\n",
       "      <td>30K+</td>\n",
       "      <td>1974.73</td>\n",
       "      <td>NaN</td>\n",
       "      <td>440.92</td>\n",
       "      <td>293.95</td>\n",
       "      <td>724.5119</td>\n",
       "      <td>14.2161</td>\n",
       "      <td>11.2944</td>\n",
       "      <td>2.9217</td>\n",
       "    </tr>\n",
       "    <tr>\n",
       "      <th>4</th>\n",
       "      <td>mc_ID_4</td>\n",
       "      <td>Married Female with five children, education: ...</td>\n",
       "      <td>M10da_YU</td>\n",
       "      <td>Vegetables from Produce department, Ordered Br...</td>\n",
       "      <td>['Bar For Salad', 'Ready Food', 'Coffee Bar', ...</td>\n",
       "      <td>Sale Winners</td>\n",
       "      <td>Deluxe</td>\n",
       "      <td>11.56 Millions</td>\n",
       "      <td>4.9708 Millions</td>\n",
       "      <td>non recyclable</td>\n",
       "      <td>50K+</td>\n",
       "      <td>2862.3</td>\n",
       "      <td>1872.19</td>\n",
       "      <td>593.93</td>\n",
       "      <td>395.95</td>\n",
       "      <td>519.7574</td>\n",
       "      <td>12.6172</td>\n",
       "      <td>9.71</td>\n",
       "      <td>2.9072</td>\n",
       "    </tr>\n",
       "  </tbody>\n",
       "</table>\n",
       "</div>"
      ],
      "text/plain": [
       "  unnamed:_0                                 person_description place_code  \\\n",
       "0    mc_ID_0  Single Female with four children, education: b...   H11go_ZA   \n",
       "1    mc_ID_1  Single Female with three children, education: ...   S04ne_WA   \n",
       "2    mc_ID_2  Married Male with two children, education: hig...   L05es_CA   \n",
       "3    mc_ID_3  Single Female with three children, education: ...   S03le_WA   \n",
       "4    mc_ID_4  Married Female with five children, education: ...   M10da_YU   \n",
       "\n",
       "                                      customer_order  \\\n",
       "0  Cleaning Supplies from Household department, O...   \n",
       "1  Snack Foods from Snack Foods department, Order...   \n",
       "2  Magazines from Periodicals department, Ordered...   \n",
       "3  Dairy from Dairy department, Ordered Brand : C...   \n",
       "4  Vegetables from Produce department, Ordered Br...   \n",
       "\n",
       "                       additional_features_in_market   promotion_name  \\\n",
       "0  ['Video Store', 'Florist', 'Ready Food', 'Coff...        Dimes Off   \n",
       "1                                                NaN  Budget Bargains   \n",
       "2                                        ['Florist']   Shelf Emptiers   \n",
       "3                                     ['Coffee Bar']   Savings Galore   \n",
       "4  ['Bar For Salad', 'Ready Food', 'Coffee Bar', ...     Sale Winners   \n",
       "\n",
       "    store_kind     store_sales       store_cost  is_recyclable?  \\\n",
       "0       Deluxe   8.76 Millions  4.2924 Millions      recyclable   \n",
       "1  Supermarket   6.36 Millions  1.9716 Millions  non recyclable   \n",
       "2  Supermarket  10.86 Millions  4.4526 Millions      recyclable   \n",
       "3          NaN   1.98 Millions  0.6732 Millions      recyclable   \n",
       "4       Deluxe  11.56 Millions  4.9708 Millions  non recyclable   \n",
       "\n",
       "  min._yearly_income store_area grocery_area  frozen_area meat_area      cost  \\\n",
       "0               10K+    2842.23      2037.64       481.98       323  602.7575   \n",
       "1               50K+    2814.95      2049.72       457.36       NaN  708.6650   \n",
       "2               30K+    2192.32      1322.21       523.32    348.85  564.2647   \n",
       "3               30K+    1974.73          NaN       440.92    293.95  724.5119   \n",
       "4               50K+     2862.3      1872.19       593.93    395.95  519.7574   \n",
       "\n",
       "  gross_weight net_weight package_weight  \n",
       "0      28.1997    26.6008          1.599  \n",
       "1       16.571     14.972          1.599  \n",
       "2      28.6358    27.1822         1.4536  \n",
       "3      14.2161    11.2944         2.9217  \n",
       "4      12.6172       9.71         2.9072  "
      ]
     },
     "execution_count": 16,
     "metadata": {},
     "output_type": "execute_result"
    }
   ],
   "source": [
    "train_1.head(5)"
   ]
  },
  {
   "cell_type": "markdown",
   "metadata": {},
   "source": [
    "Let's now compare the gross_weight column with the gross_weight column in the other batches but first let's change the data type of the columns to float."
   ]
  },
  {
   "cell_type": "code",
   "execution_count": 17,
   "metadata": {},
   "outputs": [],
   "source": [
    "train_1['gross_weight'] = train_1['gross_weight'].astype(float)\n",
    "train_1['net_weight'] = train_1['net_weight'].astype(float)\n",
    "train_1['package_weight'] = train_1['package_weight'].astype(float)"
   ]
  },
  {
   "cell_type": "code",
   "execution_count": 18,
   "metadata": {},
   "outputs": [
    {
     "data": {
      "text/plain": [
       "count    19440.000000\n",
       "mean        20.051451\n",
       "std          6.732982\n",
       "min          8.721600\n",
       "25%         13.998100\n",
       "50%         19.768900\n",
       "75%         25.728600\n",
       "max         31.833700\n",
       "Name: gross_weight, dtype: float64"
      ]
     },
     "execution_count": 18,
     "metadata": {},
     "output_type": "execute_result"
    }
   ],
   "source": [
    "train_1['gross_weight'].describe()"
   ]
  },
  {
   "cell_type": "markdown",
   "metadata": {},
   "source": [
    "Everything looks good now , Let's move on to the next column."
   ]
  },
  {
   "cell_type": "markdown",
   "metadata": {},
   "source": [
    "#### Net Weight"
   ]
  },
  {
   "cell_type": "code",
   "execution_count": 19,
   "metadata": {},
   "outputs": [
    {
     "name": "stdout",
     "output_type": "stream",
     "text": [
      "train_1 net weight\n",
      "--------------------\n",
      "count    19440.000000\n",
      "mean        17.122629\n",
      "std          6.831984\n",
      "min          4.433500\n",
      "25%         11.105400\n",
      "50%         16.861700\n",
      "75%         23.257500\n",
      "max         30.234700\n",
      "Name: net_weight, dtype: float64\n",
      "----------------------------------------\n",
      "train_2 net weight\n",
      "--------------------\n",
      "count    11018.000000\n",
      "mean        17.149701\n",
      "std          6.804349\n",
      "min          4.433500\n",
      "25%         11.207200\n",
      "50%         16.861700\n",
      "75%         23.257500\n",
      "max         30.234700\n",
      "Name: net_weight, dtype: float64\n",
      "----------------------------------------\n",
      "train_3 net weight\n",
      "--------------------\n",
      "count    5511.000000\n",
      "mean       17.152036\n",
      "std         6.744036\n",
      "min         4.491600\n",
      "25%        11.294400\n",
      "50%        16.861700\n",
      "75%        22.966800\n",
      "max        30.234700\n",
      "Name: net_weight, dtype: float64\n",
      "----------------------------------------\n",
      "test net weight\n",
      "--------------------\n",
      "count    18924.000000\n",
      "mean        17.185442\n",
      "std          6.800127\n",
      "min          4.433500\n",
      "25%         11.294400\n",
      "50%         16.861700\n",
      "75%         23.257500\n",
      "max         30.234700\n",
      "Name: net_weight, dtype: float64\n"
     ]
    }
   ],
   "source": [
    "print('train_1 net weight')\n",
    "print('-' * 20)\n",
    "print(train_1['net_weight'].describe())\n",
    "print('-' * 40)\n",
    "print('train_2 net weight')\n",
    "print('-' * 20)\n",
    "print(train_2['net_weight'].describe())\n",
    "print('-' * 40)\n",
    "print('train_3 net weight')\n",
    "print('-' * 20)\n",
    "print(train_3['net_weight'].describe())\n",
    "print('-' * 40)\n",
    "print('test net weight')\n",
    "print('-' * 20)\n",
    "print(test['net_weight'].describe())"
   ]
  },
  {
   "cell_type": "markdown",
   "metadata": {},
   "source": [
    "Everything looks good now in the gross weight and net weight columns , let's move on to package  weight."
   ]
  },
  {
   "cell_type": "markdown",
   "metadata": {},
   "source": [
    "#### Package Weight"
   ]
  },
  {
   "cell_type": "markdown",
   "metadata": {},
   "source": [
    "We can see that the package weight column is only present in the first training batch and the test batch.\n",
    "\n",
    "We can calculate the package weight by subtracting the net weight from the gross weight for the rest of the batches."
   ]
  },
  {
   "cell_type": "code",
   "execution_count": 20,
   "metadata": {},
   "outputs": [],
   "source": [
    "train_2['package_weight'] = train_2['gross_weight'] - train_2['net_weight']\n",
    "train_3['package_weight'] = train_3['gross_weight'] - train_3['net_weight']"
   ]
  },
  {
   "cell_type": "markdown",
   "metadata": {},
   "source": [
    "Now we can compare the package weight column in all the batches."
   ]
  },
  {
   "cell_type": "code",
   "execution_count": 21,
   "metadata": {},
   "outputs": [
    {
     "name": "stdout",
     "output_type": "stream",
     "text": [
      "train_1 package weight\n",
      "--------------------\n",
      "count    19440.000000\n",
      "mean         2.928825\n",
      "std          1.007534\n",
      "min          1.453600\n",
      "25%          2.907200\n",
      "50%          2.907200\n",
      "75%          3.052500\n",
      "max          4.506100\n",
      "Name: package_weight, dtype: float64\n",
      "----------------------------------------\n",
      "train_2 package weight\n",
      "--------------------\n",
      "count    9378.000000\n",
      "mean        2.927694\n",
      "std         1.016697\n",
      "min         1.453500\n",
      "25%         1.599000\n",
      "50%         2.907200\n",
      "75%         3.052600\n",
      "max         4.506200\n",
      "Name: package_weight, dtype: float64\n",
      "----------------------------------------\n",
      "train_3 package weight\n",
      "--------------------\n",
      "count    4678.000000\n",
      "mean        2.914510\n",
      "std         1.014164\n",
      "min         1.453500\n",
      "25%         1.599000\n",
      "50%         2.907200\n",
      "75%         3.052600\n",
      "max         4.506200\n",
      "Name: package_weight, dtype: float64\n",
      "----------------------------------------\n",
      "test package weight\n",
      "--------------------\n",
      "count    19942.000000\n",
      "mean         2.921236\n",
      "std          1.014127\n",
      "min          1.453600\n",
      "25%          1.599000\n",
      "50%          2.907200\n",
      "75%          3.052500\n",
      "max          4.506100\n",
      "Name: package_weight, dtype: float64\n"
     ]
    }
   ],
   "source": [
    "print('train_1 package weight')\n",
    "print('-' * 20)\n",
    "print(train_1['package_weight'].describe())\n",
    "print('-' * 40)\n",
    "print('train_2 package weight')\n",
    "print('-' * 20)\n",
    "print(train_2['package_weight'].describe())\n",
    "print('-' * 40)\n",
    "print('train_3 package weight')\n",
    "print('-' * 20)\n",
    "print(train_3['package_weight'].describe())\n",
    "print('-' * 40)\n",
    "print('test package weight')\n",
    "print('-' * 20)\n",
    "print(test['package_weight'].describe())"
   ]
  },
  {
   "cell_type": "markdown",
   "metadata": {},
   "source": [
    "Everything looks good now , let's move on to the next column."
   ]
  },
  {
   "cell_type": "markdown",
   "metadata": {},
   "source": [
    "The weights data column is only present in the third training batch, let's see what it contains."
   ]
  },
  {
   "cell_type": "code",
   "execution_count": 22,
   "metadata": {},
   "outputs": [
    {
     "data": {
      "text/plain": [
       "\"{'Gross Weight': 23.2575, 'Net Weight': 20.3503, 'Package Weight': 2.9072}\""
      ]
     },
     "execution_count": 22,
     "metadata": {},
     "output_type": "execute_result"
    }
   ],
   "source": [
    "train_3['weights_data'][0]"
   ]
  },
  {
   "cell_type": "markdown",
   "metadata": {},
   "source": [
    "It seems that the column contains the gross weight and the net weight and the package weight but both the gross weight and the net weight are already present in the batch and we already calculated the package weight.\n",
    "\n",
    "Let's compare some random values from these columns and see if they are the same, if they are the same we can drop the columns. "
   ]
  },
  {
   "cell_type": "code",
   "execution_count": 23,
   "metadata": {},
   "outputs": [
    {
     "name": "stdout",
     "output_type": "stream",
     "text": [
      "{'Gross Weight': 21.5132, 'Net Weight': 18.606, 'Package Weight': 2.9072}\n",
      "{'Gross Weight': 27.0368, 'Net Weight': 24.1296, 'Package Weight': 2.9072}\n"
     ]
    }
   ],
   "source": [
    "print(train_3['weights_data'][42])\n",
    "print(train_3['weights_data'][5360])"
   ]
  },
  {
   "cell_type": "code",
   "execution_count": 24,
   "metadata": {},
   "outputs": [
    {
     "name": "stdout",
     "output_type": "stream",
     "text": [
      "21.5132\n",
      "18.606\n",
      "2.9071999999999996\n",
      "27.0368\n",
      "24.1296\n",
      "2.9071999999999996\n"
     ]
    }
   ],
   "source": [
    "print(train_3['gross_weight'][42])\n",
    "print(train_3['net_weight'][42])\n",
    "print(train_3['package_weight'][42])\n",
    "print(train_3['gross_weight'][5360])\n",
    "print(train_3['net_weight'][5360])\n",
    "print(train_3['package_weight'][5360])"
   ]
  },
  {
   "cell_type": "markdown",
   "metadata": {},
   "source": [
    "It looks like the columns are the same so we can drop the weights data column."
   ]
  },
  {
   "cell_type": "code",
   "execution_count": 25,
   "metadata": {},
   "outputs": [],
   "source": [
    "train_3.drop('weights_data', axis=1, inplace=True)"
   ]
  },
  {
   "cell_type": "markdown",
   "metadata": {},
   "source": [
    "Now all the weight columns are the same in all batches, let's move on to the income columns."
   ]
  },
  {
   "cell_type": "markdown",
   "metadata": {},
   "source": [
    "#### Yearly Income"
   ]
  },
  {
   "cell_type": "code",
   "execution_count": 26,
   "metadata": {},
   "outputs": [
    {
     "data": {
      "text/plain": [
       "min._yearly_income\n",
       "30K+     6225\n",
       "10K+     4145\n",
       "50K+     3408\n",
       "70K+     2449\n",
       "130K+    1076\n",
       "90K+      890\n",
       "110K+     862\n",
       "150K+     382\n",
       "Name: count, dtype: int64"
      ]
     },
     "execution_count": 26,
     "metadata": {},
     "output_type": "execute_result"
    }
   ],
   "source": [
    "train_1['min._yearly_income'].value_counts()"
   ]
  },
  {
   "cell_type": "code",
   "execution_count": 27,
   "metadata": {},
   "outputs": [
    {
     "data": {
      "text/plain": [
       "min._person_yearly_income\n",
       "30K+      4164\n",
       "10K+      2839\n",
       "50K+      2236\n",
       "70K+      1561\n",
       "130K+      758\n",
       "90K+       571\n",
       "110K+      563\n",
       "150K+      259\n",
       "130K+.       1\n",
       "Name: count, dtype: int64"
      ]
     },
     "execution_count": 27,
     "metadata": {},
     "output_type": "execute_result"
    }
   ],
   "source": [
    "train_2['min._person_yearly_income'].value_counts()"
   ]
  },
  {
   "cell_type": "code",
   "execution_count": 28,
   "metadata": {},
   "outputs": [
    {
     "data": {
      "text/plain": [
       "yearly_income\n",
       "30K+     2079\n",
       "10K+     1389\n",
       "50K+     1106\n",
       "70K+      814\n",
       "130K+     337\n",
       "90K+      322\n",
       "110K+     260\n",
       "150K+     158\n",
       "Name: count, dtype: int64"
      ]
     },
     "execution_count": 28,
     "metadata": {},
     "output_type": "execute_result"
    }
   ],
   "source": [
    "train_3['yearly_income'].value_counts()"
   ]
  },
  {
   "cell_type": "code",
   "execution_count": 29,
   "metadata": {},
   "outputs": [
    {
     "data": {
      "text/plain": [
       "yearly_income\n",
       "30K+     6510\n",
       "10K+     4243\n",
       "50K+     3463\n",
       "70K+     2513\n",
       "130K+    1141\n",
       "90K+      896\n",
       "110K+     822\n",
       "150K+     354\n",
       "Name: count, dtype: int64"
      ]
     },
     "execution_count": 29,
     "metadata": {},
     "output_type": "execute_result"
    }
   ],
   "source": [
    "test['yearly_income'].value_counts()"
   ]
  },
  {
   "cell_type": "markdown",
   "metadata": {},
   "source": [
    "So all these columns have different names but they are the same, let's change the names so we could merge all the batches together."
   ]
  },
  {
   "cell_type": "code",
   "execution_count": 30,
   "metadata": {},
   "outputs": [],
   "source": [
    "train_1.rename(columns={'min._yearly_income': 'yearly_income'}, inplace=True)\n",
    "train_2.rename(columns={'min._person_yearly_income': 'yearly_income'}, inplace=True)"
   ]
  },
  {
   "cell_type": "markdown",
   "metadata": {},
   "source": [
    "Everything looks good now, we can on and merge the batches together."
   ]
  },
  {
   "cell_type": "markdown",
   "metadata": {},
   "source": [
    "#### Merging the batches"
   ]
  },
  {
   "cell_type": "code",
   "execution_count": 31,
   "metadata": {},
   "outputs": [],
   "source": [
    "train = pd.concat([train_1, train_2, train_3], axis=0, ignore_index=True)"
   ]
  },
  {
   "cell_type": "code",
   "execution_count": 32,
   "metadata": {},
   "outputs": [
    {
     "data": {
      "text/plain": [
       "(38862, 19)"
      ]
     },
     "execution_count": 32,
     "metadata": {},
     "output_type": "execute_result"
    }
   ],
   "source": [
    "train.shape "
   ]
  },
  {
   "cell_type": "markdown",
   "metadata": {},
   "source": [
    "Now that we have merged the batches together we can move on to the next step."
   ]
  },
  {
   "cell_type": "code",
   "execution_count": 33,
   "metadata": {},
   "outputs": [],
   "source": [
    "train.to_csv(r'C:\\Users\\Abdul\\Workspace\\IEEE_Victoris2_competition\\data_joined\\train_joined.csv', index=False)\n",
    "test.to_csv(r'C:\\Users\\Abdul\\Workspace\\IEEE_Victoris2_competition\\data_joined\\test_joined.csv', index=False)"
   ]
  }
 ],
 "metadata": {
  "kernelspec": {
   "display_name": "base",
   "language": "python",
   "name": "python3"
  },
  "language_info": {
   "codemirror_mode": {
    "name": "ipython",
    "version": 3
   },
   "file_extension": ".py",
   "mimetype": "text/x-python",
   "name": "python",
   "nbconvert_exporter": "python",
   "pygments_lexer": "ipython3",
   "version": "3.9.18"
  },
  "orig_nbformat": 4
 },
 "nbformat": 4,
 "nbformat_minor": 2
}
